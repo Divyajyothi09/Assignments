{
 "cells": [
  {
   "cell_type": "code",
   "execution_count": 1,
   "id": "546b66a4",
   "metadata": {
    "ExecuteTime": {
     "end_time": "2023-03-23T15:33:53.960505Z",
     "start_time": "2023-03-23T15:33:49.993542Z"
    }
   },
   "outputs": [],
   "source": [
    "import pandas as pd \n",
    "import numpy as np\n",
    "import seaborn as sns\n",
    "import matplotlib.pyplot as plt \n",
    "import warnings\n",
    "warnings.filterwarnings('ignore') "
   ]
  },
  {
   "cell_type": "code",
   "execution_count": 2,
   "id": "f801bba8",
   "metadata": {
    "ExecuteTime": {
     "end_time": "2023-03-23T15:34:26.468009Z",
     "start_time": "2023-03-23T15:34:16.897771Z"
    }
   },
   "outputs": [],
   "source": [
    "import tensorflow as tf \n",
    "import keras\n",
    "from sklearn.preprocessing import StandardScaler\n",
    "from sklearn.preprocessing import MinMaxScaler\n",
    "from sklearn.preprocessing import LabelEncoder\n",
    "import warnings\n",
    "warnings.filterwarnings('ignore') "
   ]
  },
  {
   "cell_type": "code",
   "execution_count": 3,
   "id": "87231e27",
   "metadata": {
    "ExecuteTime": {
     "end_time": "2023-03-23T15:34:35.086562Z",
     "start_time": "2023-03-23T15:34:34.972297Z"
    }
   },
   "outputs": [
    {
     "data": {
      "text/html": [
       "<div>\n",
       "<style scoped>\n",
       "    .dataframe tbody tr th:only-of-type {\n",
       "        vertical-align: middle;\n",
       "    }\n",
       "\n",
       "    .dataframe tbody tr th {\n",
       "        vertical-align: top;\n",
       "    }\n",
       "\n",
       "    .dataframe thead th {\n",
       "        text-align: right;\n",
       "    }\n",
       "</style>\n",
       "<table border=\"1\" class=\"dataframe\">\n",
       "  <thead>\n",
       "    <tr style=\"text-align: right;\">\n",
       "      <th></th>\n",
       "      <th>AT</th>\n",
       "      <th>AP</th>\n",
       "      <th>AH</th>\n",
       "      <th>AFDP</th>\n",
       "      <th>GTEP</th>\n",
       "      <th>TIT</th>\n",
       "      <th>TAT</th>\n",
       "      <th>TEY</th>\n",
       "      <th>CDP</th>\n",
       "      <th>CO</th>\n",
       "      <th>NOX</th>\n",
       "    </tr>\n",
       "  </thead>\n",
       "  <tbody>\n",
       "    <tr>\n",
       "      <th>0</th>\n",
       "      <td>6.8594</td>\n",
       "      <td>1007.9</td>\n",
       "      <td>96.799</td>\n",
       "      <td>3.5000</td>\n",
       "      <td>19.663</td>\n",
       "      <td>1059.2</td>\n",
       "      <td>550.00</td>\n",
       "      <td>114.70</td>\n",
       "      <td>10.605</td>\n",
       "      <td>3.1547</td>\n",
       "      <td>82.722</td>\n",
       "    </tr>\n",
       "    <tr>\n",
       "      <th>1</th>\n",
       "      <td>6.7850</td>\n",
       "      <td>1008.4</td>\n",
       "      <td>97.118</td>\n",
       "      <td>3.4998</td>\n",
       "      <td>19.728</td>\n",
       "      <td>1059.3</td>\n",
       "      <td>550.00</td>\n",
       "      <td>114.72</td>\n",
       "      <td>10.598</td>\n",
       "      <td>3.2363</td>\n",
       "      <td>82.776</td>\n",
       "    </tr>\n",
       "    <tr>\n",
       "      <th>2</th>\n",
       "      <td>6.8977</td>\n",
       "      <td>1008.8</td>\n",
       "      <td>95.939</td>\n",
       "      <td>3.4824</td>\n",
       "      <td>19.779</td>\n",
       "      <td>1059.4</td>\n",
       "      <td>549.87</td>\n",
       "      <td>114.71</td>\n",
       "      <td>10.601</td>\n",
       "      <td>3.2012</td>\n",
       "      <td>82.468</td>\n",
       "    </tr>\n",
       "    <tr>\n",
       "      <th>3</th>\n",
       "      <td>7.0569</td>\n",
       "      <td>1009.2</td>\n",
       "      <td>95.249</td>\n",
       "      <td>3.4805</td>\n",
       "      <td>19.792</td>\n",
       "      <td>1059.6</td>\n",
       "      <td>549.99</td>\n",
       "      <td>114.72</td>\n",
       "      <td>10.606</td>\n",
       "      <td>3.1923</td>\n",
       "      <td>82.670</td>\n",
       "    </tr>\n",
       "    <tr>\n",
       "      <th>4</th>\n",
       "      <td>7.3978</td>\n",
       "      <td>1009.7</td>\n",
       "      <td>95.150</td>\n",
       "      <td>3.4976</td>\n",
       "      <td>19.765</td>\n",
       "      <td>1059.7</td>\n",
       "      <td>549.98</td>\n",
       "      <td>114.72</td>\n",
       "      <td>10.612</td>\n",
       "      <td>3.2484</td>\n",
       "      <td>82.311</td>\n",
       "    </tr>\n",
       "    <tr>\n",
       "      <th>...</th>\n",
       "      <td>...</td>\n",
       "      <td>...</td>\n",
       "      <td>...</td>\n",
       "      <td>...</td>\n",
       "      <td>...</td>\n",
       "      <td>...</td>\n",
       "      <td>...</td>\n",
       "      <td>...</td>\n",
       "      <td>...</td>\n",
       "      <td>...</td>\n",
       "      <td>...</td>\n",
       "    </tr>\n",
       "    <tr>\n",
       "      <th>15034</th>\n",
       "      <td>9.0301</td>\n",
       "      <td>1005.6</td>\n",
       "      <td>98.460</td>\n",
       "      <td>3.5421</td>\n",
       "      <td>19.164</td>\n",
       "      <td>1049.7</td>\n",
       "      <td>546.21</td>\n",
       "      <td>111.61</td>\n",
       "      <td>10.400</td>\n",
       "      <td>4.5186</td>\n",
       "      <td>79.559</td>\n",
       "    </tr>\n",
       "    <tr>\n",
       "      <th>15035</th>\n",
       "      <td>7.8879</td>\n",
       "      <td>1005.9</td>\n",
       "      <td>99.093</td>\n",
       "      <td>3.5059</td>\n",
       "      <td>19.414</td>\n",
       "      <td>1046.3</td>\n",
       "      <td>543.22</td>\n",
       "      <td>111.78</td>\n",
       "      <td>10.433</td>\n",
       "      <td>4.8470</td>\n",
       "      <td>79.917</td>\n",
       "    </tr>\n",
       "    <tr>\n",
       "      <th>15036</th>\n",
       "      <td>7.2647</td>\n",
       "      <td>1006.3</td>\n",
       "      <td>99.496</td>\n",
       "      <td>3.4770</td>\n",
       "      <td>19.530</td>\n",
       "      <td>1037.7</td>\n",
       "      <td>537.32</td>\n",
       "      <td>110.19</td>\n",
       "      <td>10.483</td>\n",
       "      <td>7.9632</td>\n",
       "      <td>90.912</td>\n",
       "    </tr>\n",
       "    <tr>\n",
       "      <th>15037</th>\n",
       "      <td>7.0060</td>\n",
       "      <td>1006.8</td>\n",
       "      <td>99.008</td>\n",
       "      <td>3.4486</td>\n",
       "      <td>19.377</td>\n",
       "      <td>1043.2</td>\n",
       "      <td>541.24</td>\n",
       "      <td>110.74</td>\n",
       "      <td>10.533</td>\n",
       "      <td>6.2494</td>\n",
       "      <td>93.227</td>\n",
       "    </tr>\n",
       "    <tr>\n",
       "      <th>15038</th>\n",
       "      <td>6.9279</td>\n",
       "      <td>1007.2</td>\n",
       "      <td>97.533</td>\n",
       "      <td>3.4275</td>\n",
       "      <td>19.306</td>\n",
       "      <td>1049.9</td>\n",
       "      <td>545.85</td>\n",
       "      <td>111.58</td>\n",
       "      <td>10.583</td>\n",
       "      <td>4.9816</td>\n",
       "      <td>92.498</td>\n",
       "    </tr>\n",
       "  </tbody>\n",
       "</table>\n",
       "<p>15039 rows × 11 columns</p>\n",
       "</div>"
      ],
      "text/plain": [
       "           AT      AP      AH    AFDP    GTEP     TIT     TAT     TEY     CDP  \\\n",
       "0      6.8594  1007.9  96.799  3.5000  19.663  1059.2  550.00  114.70  10.605   \n",
       "1      6.7850  1008.4  97.118  3.4998  19.728  1059.3  550.00  114.72  10.598   \n",
       "2      6.8977  1008.8  95.939  3.4824  19.779  1059.4  549.87  114.71  10.601   \n",
       "3      7.0569  1009.2  95.249  3.4805  19.792  1059.6  549.99  114.72  10.606   \n",
       "4      7.3978  1009.7  95.150  3.4976  19.765  1059.7  549.98  114.72  10.612   \n",
       "...       ...     ...     ...     ...     ...     ...     ...     ...     ...   \n",
       "15034  9.0301  1005.6  98.460  3.5421  19.164  1049.7  546.21  111.61  10.400   \n",
       "15035  7.8879  1005.9  99.093  3.5059  19.414  1046.3  543.22  111.78  10.433   \n",
       "15036  7.2647  1006.3  99.496  3.4770  19.530  1037.7  537.32  110.19  10.483   \n",
       "15037  7.0060  1006.8  99.008  3.4486  19.377  1043.2  541.24  110.74  10.533   \n",
       "15038  6.9279  1007.2  97.533  3.4275  19.306  1049.9  545.85  111.58  10.583   \n",
       "\n",
       "           CO     NOX  \n",
       "0      3.1547  82.722  \n",
       "1      3.2363  82.776  \n",
       "2      3.2012  82.468  \n",
       "3      3.1923  82.670  \n",
       "4      3.2484  82.311  \n",
       "...       ...     ...  \n",
       "15034  4.5186  79.559  \n",
       "15035  4.8470  79.917  \n",
       "15036  7.9632  90.912  \n",
       "15037  6.2494  93.227  \n",
       "15038  4.9816  92.498  \n",
       "\n",
       "[15039 rows x 11 columns]"
      ]
     },
     "execution_count": 3,
     "metadata": {},
     "output_type": "execute_result"
    }
   ],
   "source": [
    "gas = pd.read_csv('gas_turbines.csv')\n",
    "gas"
   ]
  },
  {
   "cell_type": "code",
   "execution_count": 4,
   "id": "d8f2dad4",
   "metadata": {
    "ExecuteTime": {
     "end_time": "2023-03-23T15:34:38.502598Z",
     "start_time": "2023-03-23T15:34:38.460996Z"
    }
   },
   "outputs": [
    {
     "data": {
      "text/html": [
       "<div>\n",
       "<style scoped>\n",
       "    .dataframe tbody tr th:only-of-type {\n",
       "        vertical-align: middle;\n",
       "    }\n",
       "\n",
       "    .dataframe tbody tr th {\n",
       "        vertical-align: top;\n",
       "    }\n",
       "\n",
       "    .dataframe thead th {\n",
       "        text-align: right;\n",
       "    }\n",
       "</style>\n",
       "<table border=\"1\" class=\"dataframe\">\n",
       "  <thead>\n",
       "    <tr style=\"text-align: right;\">\n",
       "      <th></th>\n",
       "      <th>AT</th>\n",
       "      <th>AP</th>\n",
       "      <th>AH</th>\n",
       "      <th>AFDP</th>\n",
       "      <th>GTEP</th>\n",
       "      <th>TIT</th>\n",
       "      <th>TAT</th>\n",
       "      <th>TEY</th>\n",
       "      <th>CDP</th>\n",
       "      <th>CO</th>\n",
       "      <th>NOX</th>\n",
       "    </tr>\n",
       "  </thead>\n",
       "  <tbody>\n",
       "    <tr>\n",
       "      <th>0</th>\n",
       "      <td>6.8594</td>\n",
       "      <td>1007.9</td>\n",
       "      <td>96.799</td>\n",
       "      <td>3.5000</td>\n",
       "      <td>19.663</td>\n",
       "      <td>1059.2</td>\n",
       "      <td>550.00</td>\n",
       "      <td>114.70</td>\n",
       "      <td>10.605</td>\n",
       "      <td>3.1547</td>\n",
       "      <td>82.722</td>\n",
       "    </tr>\n",
       "    <tr>\n",
       "      <th>1</th>\n",
       "      <td>6.7850</td>\n",
       "      <td>1008.4</td>\n",
       "      <td>97.118</td>\n",
       "      <td>3.4998</td>\n",
       "      <td>19.728</td>\n",
       "      <td>1059.3</td>\n",
       "      <td>550.00</td>\n",
       "      <td>114.72</td>\n",
       "      <td>10.598</td>\n",
       "      <td>3.2363</td>\n",
       "      <td>82.776</td>\n",
       "    </tr>\n",
       "    <tr>\n",
       "      <th>2</th>\n",
       "      <td>6.8977</td>\n",
       "      <td>1008.8</td>\n",
       "      <td>95.939</td>\n",
       "      <td>3.4824</td>\n",
       "      <td>19.779</td>\n",
       "      <td>1059.4</td>\n",
       "      <td>549.87</td>\n",
       "      <td>114.71</td>\n",
       "      <td>10.601</td>\n",
       "      <td>3.2012</td>\n",
       "      <td>82.468</td>\n",
       "    </tr>\n",
       "    <tr>\n",
       "      <th>3</th>\n",
       "      <td>7.0569</td>\n",
       "      <td>1009.2</td>\n",
       "      <td>95.249</td>\n",
       "      <td>3.4805</td>\n",
       "      <td>19.792</td>\n",
       "      <td>1059.6</td>\n",
       "      <td>549.99</td>\n",
       "      <td>114.72</td>\n",
       "      <td>10.606</td>\n",
       "      <td>3.1923</td>\n",
       "      <td>82.670</td>\n",
       "    </tr>\n",
       "    <tr>\n",
       "      <th>4</th>\n",
       "      <td>7.3978</td>\n",
       "      <td>1009.7</td>\n",
       "      <td>95.150</td>\n",
       "      <td>3.4976</td>\n",
       "      <td>19.765</td>\n",
       "      <td>1059.7</td>\n",
       "      <td>549.98</td>\n",
       "      <td>114.72</td>\n",
       "      <td>10.612</td>\n",
       "      <td>3.2484</td>\n",
       "      <td>82.311</td>\n",
       "    </tr>\n",
       "  </tbody>\n",
       "</table>\n",
       "</div>"
      ],
      "text/plain": [
       "       AT      AP      AH    AFDP    GTEP     TIT     TAT     TEY     CDP  \\\n",
       "0  6.8594  1007.9  96.799  3.5000  19.663  1059.2  550.00  114.70  10.605   \n",
       "1  6.7850  1008.4  97.118  3.4998  19.728  1059.3  550.00  114.72  10.598   \n",
       "2  6.8977  1008.8  95.939  3.4824  19.779  1059.4  549.87  114.71  10.601   \n",
       "3  7.0569  1009.2  95.249  3.4805  19.792  1059.6  549.99  114.72  10.606   \n",
       "4  7.3978  1009.7  95.150  3.4976  19.765  1059.7  549.98  114.72  10.612   \n",
       "\n",
       "       CO     NOX  \n",
       "0  3.1547  82.722  \n",
       "1  3.2363  82.776  \n",
       "2  3.2012  82.468  \n",
       "3  3.1923  82.670  \n",
       "4  3.2484  82.311  "
      ]
     },
     "execution_count": 4,
     "metadata": {},
     "output_type": "execute_result"
    }
   ],
   "source": [
    "gas.head()"
   ]
  },
  {
   "cell_type": "code",
   "execution_count": 5,
   "id": "f32037af",
   "metadata": {
    "ExecuteTime": {
     "end_time": "2023-03-23T15:34:46.336483Z",
     "start_time": "2023-03-23T15:34:46.320069Z"
    }
   },
   "outputs": [
    {
     "data": {
      "text/plain": [
       "(15039, 11)"
      ]
     },
     "execution_count": 5,
     "metadata": {},
     "output_type": "execute_result"
    }
   ],
   "source": [
    "gas.shape"
   ]
  },
  {
   "cell_type": "code",
   "execution_count": 6,
   "id": "c14d53b5",
   "metadata": {
    "ExecuteTime": {
     "end_time": "2023-03-23T15:34:49.256498Z",
     "start_time": "2023-03-23T15:34:49.160475Z"
    }
   },
   "outputs": [
    {
     "data": {
      "text/html": [
       "<div>\n",
       "<style scoped>\n",
       "    .dataframe tbody tr th:only-of-type {\n",
       "        vertical-align: middle;\n",
       "    }\n",
       "\n",
       "    .dataframe tbody tr th {\n",
       "        vertical-align: top;\n",
       "    }\n",
       "\n",
       "    .dataframe thead th {\n",
       "        text-align: right;\n",
       "    }\n",
       "</style>\n",
       "<table border=\"1\" class=\"dataframe\">\n",
       "  <thead>\n",
       "    <tr style=\"text-align: right;\">\n",
       "      <th></th>\n",
       "      <th>AT</th>\n",
       "      <th>AP</th>\n",
       "      <th>AH</th>\n",
       "      <th>AFDP</th>\n",
       "      <th>GTEP</th>\n",
       "      <th>TIT</th>\n",
       "      <th>TAT</th>\n",
       "      <th>TEY</th>\n",
       "      <th>CDP</th>\n",
       "      <th>CO</th>\n",
       "      <th>NOX</th>\n",
       "    </tr>\n",
       "  </thead>\n",
       "  <tbody>\n",
       "    <tr>\n",
       "      <th>count</th>\n",
       "      <td>15039.000000</td>\n",
       "      <td>15039.00000</td>\n",
       "      <td>15039.000000</td>\n",
       "      <td>15039.000000</td>\n",
       "      <td>15039.000000</td>\n",
       "      <td>15039.000000</td>\n",
       "      <td>15039.000000</td>\n",
       "      <td>15039.000000</td>\n",
       "      <td>15039.000000</td>\n",
       "      <td>15039.000000</td>\n",
       "      <td>15039.000000</td>\n",
       "    </tr>\n",
       "    <tr>\n",
       "      <th>mean</th>\n",
       "      <td>17.764381</td>\n",
       "      <td>1013.19924</td>\n",
       "      <td>79.124174</td>\n",
       "      <td>4.200294</td>\n",
       "      <td>25.419061</td>\n",
       "      <td>1083.798770</td>\n",
       "      <td>545.396183</td>\n",
       "      <td>134.188464</td>\n",
       "      <td>12.102353</td>\n",
       "      <td>1.972499</td>\n",
       "      <td>68.190934</td>\n",
       "    </tr>\n",
       "    <tr>\n",
       "      <th>std</th>\n",
       "      <td>7.574323</td>\n",
       "      <td>6.41076</td>\n",
       "      <td>13.793439</td>\n",
       "      <td>0.760197</td>\n",
       "      <td>4.173916</td>\n",
       "      <td>16.527806</td>\n",
       "      <td>7.866803</td>\n",
       "      <td>15.829717</td>\n",
       "      <td>1.103196</td>\n",
       "      <td>2.222206</td>\n",
       "      <td>10.470586</td>\n",
       "    </tr>\n",
       "    <tr>\n",
       "      <th>min</th>\n",
       "      <td>0.522300</td>\n",
       "      <td>985.85000</td>\n",
       "      <td>30.344000</td>\n",
       "      <td>2.087400</td>\n",
       "      <td>17.878000</td>\n",
       "      <td>1000.800000</td>\n",
       "      <td>512.450000</td>\n",
       "      <td>100.170000</td>\n",
       "      <td>9.904400</td>\n",
       "      <td>0.000388</td>\n",
       "      <td>27.765000</td>\n",
       "    </tr>\n",
       "    <tr>\n",
       "      <th>25%</th>\n",
       "      <td>11.408000</td>\n",
       "      <td>1008.90000</td>\n",
       "      <td>69.750000</td>\n",
       "      <td>3.723900</td>\n",
       "      <td>23.294000</td>\n",
       "      <td>1079.600000</td>\n",
       "      <td>542.170000</td>\n",
       "      <td>127.985000</td>\n",
       "      <td>11.622000</td>\n",
       "      <td>0.858055</td>\n",
       "      <td>61.303500</td>\n",
       "    </tr>\n",
       "    <tr>\n",
       "      <th>50%</th>\n",
       "      <td>18.186000</td>\n",
       "      <td>1012.80000</td>\n",
       "      <td>82.266000</td>\n",
       "      <td>4.186200</td>\n",
       "      <td>25.082000</td>\n",
       "      <td>1088.700000</td>\n",
       "      <td>549.890000</td>\n",
       "      <td>133.780000</td>\n",
       "      <td>12.025000</td>\n",
       "      <td>1.390200</td>\n",
       "      <td>66.601000</td>\n",
       "    </tr>\n",
       "    <tr>\n",
       "      <th>75%</th>\n",
       "      <td>23.862500</td>\n",
       "      <td>1016.90000</td>\n",
       "      <td>90.043500</td>\n",
       "      <td>4.550900</td>\n",
       "      <td>27.184000</td>\n",
       "      <td>1096.000000</td>\n",
       "      <td>550.060000</td>\n",
       "      <td>140.895000</td>\n",
       "      <td>12.578000</td>\n",
       "      <td>2.160400</td>\n",
       "      <td>73.935500</td>\n",
       "    </tr>\n",
       "    <tr>\n",
       "      <th>max</th>\n",
       "      <td>34.929000</td>\n",
       "      <td>1034.20000</td>\n",
       "      <td>100.200000</td>\n",
       "      <td>7.610600</td>\n",
       "      <td>37.402000</td>\n",
       "      <td>1100.800000</td>\n",
       "      <td>550.610000</td>\n",
       "      <td>174.610000</td>\n",
       "      <td>15.081000</td>\n",
       "      <td>44.103000</td>\n",
       "      <td>119.890000</td>\n",
       "    </tr>\n",
       "  </tbody>\n",
       "</table>\n",
       "</div>"
      ],
      "text/plain": [
       "                 AT           AP            AH          AFDP          GTEP  \\\n",
       "count  15039.000000  15039.00000  15039.000000  15039.000000  15039.000000   \n",
       "mean      17.764381   1013.19924     79.124174      4.200294     25.419061   \n",
       "std        7.574323      6.41076     13.793439      0.760197      4.173916   \n",
       "min        0.522300    985.85000     30.344000      2.087400     17.878000   \n",
       "25%       11.408000   1008.90000     69.750000      3.723900     23.294000   \n",
       "50%       18.186000   1012.80000     82.266000      4.186200     25.082000   \n",
       "75%       23.862500   1016.90000     90.043500      4.550900     27.184000   \n",
       "max       34.929000   1034.20000    100.200000      7.610600     37.402000   \n",
       "\n",
       "                TIT           TAT           TEY           CDP            CO  \\\n",
       "count  15039.000000  15039.000000  15039.000000  15039.000000  15039.000000   \n",
       "mean    1083.798770    545.396183    134.188464     12.102353      1.972499   \n",
       "std       16.527806      7.866803     15.829717      1.103196      2.222206   \n",
       "min     1000.800000    512.450000    100.170000      9.904400      0.000388   \n",
       "25%     1079.600000    542.170000    127.985000     11.622000      0.858055   \n",
       "50%     1088.700000    549.890000    133.780000     12.025000      1.390200   \n",
       "75%     1096.000000    550.060000    140.895000     12.578000      2.160400   \n",
       "max     1100.800000    550.610000    174.610000     15.081000     44.103000   \n",
       "\n",
       "                NOX  \n",
       "count  15039.000000  \n",
       "mean      68.190934  \n",
       "std       10.470586  \n",
       "min       27.765000  \n",
       "25%       61.303500  \n",
       "50%       66.601000  \n",
       "75%       73.935500  \n",
       "max      119.890000  "
      ]
     },
     "execution_count": 6,
     "metadata": {},
     "output_type": "execute_result"
    }
   ],
   "source": [
    "gas.describe()"
   ]
  },
  {
   "cell_type": "code",
   "execution_count": 7,
   "id": "cff4071c",
   "metadata": {
    "ExecuteTime": {
     "end_time": "2023-03-23T15:34:54.503650Z",
     "start_time": "2023-03-23T15:34:54.486800Z"
    }
   },
   "outputs": [
    {
     "data": {
      "text/plain": [
       "Index(['AT', 'AP', 'AH', 'AFDP', 'GTEP', 'TIT', 'TAT', 'TEY', 'CDP', 'CO',\n",
       "       'NOX'],\n",
       "      dtype='object')"
      ]
     },
     "execution_count": 7,
     "metadata": {},
     "output_type": "execute_result"
    }
   ],
   "source": [
    "gas.columns"
   ]
  },
  {
   "cell_type": "code",
   "execution_count": 8,
   "id": "9395ae9a",
   "metadata": {
    "ExecuteTime": {
     "end_time": "2023-03-23T15:34:59.969479Z",
     "start_time": "2023-03-23T15:34:59.936505Z"
    }
   },
   "outputs": [
    {
     "name": "stdout",
     "output_type": "stream",
     "text": [
      "<class 'pandas.core.frame.DataFrame'>\n",
      "RangeIndex: 15039 entries, 0 to 15038\n",
      "Data columns (total 11 columns):\n",
      " #   Column  Non-Null Count  Dtype  \n",
      "---  ------  --------------  -----  \n",
      " 0   AT      15039 non-null  float64\n",
      " 1   AP      15039 non-null  float64\n",
      " 2   AH      15039 non-null  float64\n",
      " 3   AFDP    15039 non-null  float64\n",
      " 4   GTEP    15039 non-null  float64\n",
      " 5   TIT     15039 non-null  float64\n",
      " 6   TAT     15039 non-null  float64\n",
      " 7   TEY     15039 non-null  float64\n",
      " 8   CDP     15039 non-null  float64\n",
      " 9   CO      15039 non-null  float64\n",
      " 10  NOX     15039 non-null  float64\n",
      "dtypes: float64(11)\n",
      "memory usage: 1.3 MB\n"
     ]
    }
   ],
   "source": [
    "gas.info()"
   ]
  },
  {
   "cell_type": "code",
   "execution_count": 9,
   "id": "4c86e1ca",
   "metadata": {
    "ExecuteTime": {
     "end_time": "2023-03-23T15:35:03.018633Z",
     "start_time": "2023-03-23T15:35:03.001657Z"
    }
   },
   "outputs": [
    {
     "data": {
      "text/plain": [
       "AT      0\n",
       "AP      0\n",
       "AH      0\n",
       "AFDP    0\n",
       "GTEP    0\n",
       "TIT     0\n",
       "TAT     0\n",
       "TEY     0\n",
       "CDP     0\n",
       "CO      0\n",
       "NOX     0\n",
       "dtype: int64"
      ]
     },
     "execution_count": 9,
     "metadata": {},
     "output_type": "execute_result"
    }
   ],
   "source": [
    "gas.isnull().sum()"
   ]
  },
  {
   "cell_type": "code",
   "execution_count": 10,
   "id": "bcb526da",
   "metadata": {
    "ExecuteTime": {
     "end_time": "2023-03-23T15:35:06.426071Z",
     "start_time": "2023-03-23T15:35:06.401705Z"
    }
   },
   "outputs": [
    {
     "data": {
      "text/plain": [
       "AT      False\n",
       "AP      False\n",
       "AH      False\n",
       "AFDP    False\n",
       "GTEP    False\n",
       "TIT     False\n",
       "TAT     False\n",
       "TEY     False\n",
       "CDP     False\n",
       "CO      False\n",
       "NOX     False\n",
       "dtype: bool"
      ]
     },
     "execution_count": 10,
     "metadata": {},
     "output_type": "execute_result"
    }
   ],
   "source": [
    "gas.isna().any()"
   ]
  },
  {
   "cell_type": "code",
   "execution_count": 11,
   "id": "8f2544e1",
   "metadata": {
    "ExecuteTime": {
     "end_time": "2023-03-23T15:35:13.616401Z",
     "start_time": "2023-03-23T15:35:12.761728Z"
    }
   },
   "outputs": [
    {
     "data": {
      "text/plain": [
       "<AxesSubplot:>"
      ]
     },
     "execution_count": 11,
     "metadata": {},
     "output_type": "execute_result"
    },
    {
     "data": {
      "image/png": "[encoded data removed]",
      "text/plain": [
       "<Figure size 1200x600 with 2 Axes>"
      ]
     },
     "metadata": {},
     "output_type": "display_data"
    }
   ],
   "source": [
    "plt.rcParams['figure.figsize']=(12,6)\n",
    "sns.heatmap(gas.isna(), cmap =('gist_heat'), yticklabels=False)"
   ]
  },
  {
   "cell_type": "code",
   "execution_count": 12,
   "id": "da8d296b",
   "metadata": {
    "ExecuteTime": {
     "end_time": "2023-03-23T15:35:27.696105Z",
     "start_time": "2023-03-23T15:35:27.663670Z"
    }
   },
   "outputs": [
    {
     "data": {
      "text/plain": [
       "(0, 11)"
      ]
     },
     "execution_count": 12,
     "metadata": {},
     "output_type": "execute_result"
    }
   ],
   "source": [
    "gas[gas.duplicated()].shape"
   ]
  },
  {
   "cell_type": "code",
   "execution_count": 13,
   "id": "db7fa419",
   "metadata": {
    "ExecuteTime": {
     "end_time": "2023-03-23T15:35:39.059791Z",
     "start_time": "2023-03-23T15:35:39.035281Z"
    }
   },
   "outputs": [
    {
     "data": {
      "text/plain": [
       "AT      float64\n",
       "AP      float64\n",
       "AH      float64\n",
       "AFDP    float64\n",
       "GTEP    float64\n",
       "TIT     float64\n",
       "TAT     float64\n",
       "TEY     float64\n",
       "CDP     float64\n",
       "CO      float64\n",
       "NOX     float64\n",
       "dtype: object"
      ]
     },
     "execution_count": 13,
     "metadata": {},
     "output_type": "execute_result"
    }
   ],
   "source": [
    "gas.dtypes"
   ]
  },
  {
   "cell_type": "code",
   "execution_count": 14,
   "id": "4b936bb9",
   "metadata": {
    "ExecuteTime": {
     "end_time": "2023-03-23T15:35:42.379509Z",
     "start_time": "2023-03-23T15:35:42.340209Z"
    }
   },
   "outputs": [
    {
     "data": {
      "text/plain": [
       "AT      12086\n",
       "AP        540\n",
       "AH      12637\n",
       "AFDP    11314\n",
       "GTEP     8234\n",
       "TIT       706\n",
       "TAT      2340\n",
       "TEY      4207\n",
       "CDP      3611\n",
       "CO      13096\n",
       "NOX     11996\n",
       "dtype: int64"
      ]
     },
     "execution_count": 14,
     "metadata": {},
     "output_type": "execute_result"
    }
   ],
   "source": [
    "gas.nunique()"
   ]
  },
  {
   "cell_type": "code",
   "execution_count": 15,
   "id": "6da5994d",
   "metadata": {
    "ExecuteTime": {
     "end_time": "2023-03-23T15:36:15.522673Z",
     "start_time": "2023-03-23T15:36:14.906161Z"
    }
   },
   "outputs": [
    {
     "data": {
      "text/plain": [
       "<AxesSubplot:title={'center':'Distplot for TEY'}, xlabel='TEY', ylabel='Density'>"
      ]
     },
     "execution_count": 15,
     "metadata": {},
     "output_type": "execute_result"
    },
    {
     "data": {
      "image/png": "[encoded data removed]",
      "text/plain": [
       "<Figure size 1200x600 with 1 Axes>"
      ]
     },
     "metadata": {},
     "output_type": "display_data"
    }
   ],
   "source": [
    "plt.title('Distplot for TEY', fontsize=15, y = 1.00)\n",
    "sns.distplot(gas['TEY'])"
   ]
  },
  {
   "cell_type": "code",
   "execution_count": 16,
   "id": "3993f263",
   "metadata": {
    "ExecuteTime": {
     "end_time": "2023-03-23T15:36:18.637616Z",
     "start_time": "2023-03-23T15:36:18.208038Z"
    }
   },
   "outputs": [
    {
     "data": {
      "text/plain": [
       "<AxesSubplot:title={'center':'Distplot for GTEP'}, xlabel='GTEP', ylabel='Density'>"
      ]
     },
     "execution_count": 16,
     "metadata": {},
     "output_type": "execute_result"
    },
    {
     "data": {
      "image/png": "[encoded data removed]",
      "text/plain": [
       "<Figure size 1200x600 with 1 Axes>"
      ]
     },
     "metadata": {},
     "output_type": "display_data"
    }
   ],
   "source": [
    "plt.title('Distplot for GTEP', fontsize=15, y = 1.01)\n",
    "sns.distplot(gas['GTEP'])"
   ]
  },
  {
   "cell_type": "code",
   "execution_count": 17,
   "id": "74cceab5",
   "metadata": {
    "ExecuteTime": {
     "end_time": "2023-03-23T15:36:22.311812Z",
     "start_time": "2023-03-23T15:36:21.615615Z"
    }
   },
   "outputs": [
    {
     "data": {
      "text/plain": [
       "<AxesSubplot:title={'center':'Distplot for GTEP'}, xlabel='TAT', ylabel='Density'>"
      ]
     },
     "execution_count": 17,
     "metadata": {},
     "output_type": "execute_result"
    },
    {
     "data": {
      "image/png": "[encoded data removed]",
      "text/plain": [
       "<Figure size 1200x600 with 1 Axes>"
      ]
     },
     "metadata": {},
     "output_type": "display_data"
    }
   ],
   "source": [
    "plt.title('Distplot for GTEP', fontsize=15, y = 1.02)\n",
    "sns.distplot(gas['TAT'])"
   ]
  },
  {
   "cell_type": "code",
   "execution_count": 18,
   "id": "d96e0428",
   "metadata": {
    "ExecuteTime": {
     "end_time": "2023-03-23T15:37:26.758775Z",
     "start_time": "2023-03-23T15:37:25.672708Z"
    }
   },
   "outputs": [
    {
     "data": {
      "text/plain": [
       "<AxesSubplot:title={'center':'Correlation Map'}>"
      ]
     },
     "execution_count": 18,
     "metadata": {},
     "output_type": "execute_result"
    },
    {
     "data": {
      "image/png": "[encoded data removed]",
      "text/plain": [
       "<Figure size 1200x600 with 2 Axes>"
      ]
     },
     "metadata": {},
     "output_type": "display_data"
    }
   ],
   "source": [
    "plt.title('Correlation Map')\n",
    "sns.heatmap(gas.corr(), annot=True)"
   ]
  },
  {
   "cell_type": "code",
   "execution_count": 19,
   "id": "5e27480c",
   "metadata": {
    "ExecuteTime": {
     "end_time": "2023-03-23T15:37:35.749939Z",
     "start_time": "2023-03-23T15:37:35.738464Z"
    }
   },
   "outputs": [
    {
     "data": {
      "text/plain": [
       "(15039, 11)"
      ]
     },
     "execution_count": 19,
     "metadata": {},
     "output_type": "execute_result"
    }
   ],
   "source": [
    "gas.shape"
   ]
  },
  {
   "cell_type": "code",
   "execution_count": 20,
   "id": "0471d440",
   "metadata": {
    "ExecuteTime": {
     "end_time": "2023-03-23T15:37:36.933529Z",
     "start_time": "2023-03-23T15:37:36.880508Z"
    }
   },
   "outputs": [
    {
     "data": {
      "text/html": [
       "<div>\n",
       "<style scoped>\n",
       "    .dataframe tbody tr th:only-of-type {\n",
       "        vertical-align: middle;\n",
       "    }\n",
       "\n",
       "    .dataframe tbody tr th {\n",
       "        vertical-align: top;\n",
       "    }\n",
       "\n",
       "    .dataframe thead th {\n",
       "        text-align: right;\n",
       "    }\n",
       "</style>\n",
       "<table border=\"1\" class=\"dataframe\">\n",
       "  <thead>\n",
       "    <tr style=\"text-align: right;\">\n",
       "      <th></th>\n",
       "      <th>AT</th>\n",
       "      <th>AP</th>\n",
       "      <th>AH</th>\n",
       "      <th>AFDP</th>\n",
       "      <th>GTEP</th>\n",
       "      <th>TIT</th>\n",
       "      <th>TAT</th>\n",
       "      <th>TEY</th>\n",
       "      <th>CDP</th>\n",
       "      <th>CO</th>\n",
       "      <th>NOX</th>\n",
       "    </tr>\n",
       "  </thead>\n",
       "  <tbody>\n",
       "    <tr>\n",
       "      <th>0</th>\n",
       "      <td>6.8594</td>\n",
       "      <td>1007.9</td>\n",
       "      <td>96.799</td>\n",
       "      <td>3.5000</td>\n",
       "      <td>19.663</td>\n",
       "      <td>1059.2</td>\n",
       "      <td>550.00</td>\n",
       "      <td>114.70</td>\n",
       "      <td>10.605</td>\n",
       "      <td>3.1547</td>\n",
       "      <td>82.722</td>\n",
       "    </tr>\n",
       "    <tr>\n",
       "      <th>1</th>\n",
       "      <td>6.7850</td>\n",
       "      <td>1008.4</td>\n",
       "      <td>97.118</td>\n",
       "      <td>3.4998</td>\n",
       "      <td>19.728</td>\n",
       "      <td>1059.3</td>\n",
       "      <td>550.00</td>\n",
       "      <td>114.72</td>\n",
       "      <td>10.598</td>\n",
       "      <td>3.2363</td>\n",
       "      <td>82.776</td>\n",
       "    </tr>\n",
       "    <tr>\n",
       "      <th>2</th>\n",
       "      <td>6.8977</td>\n",
       "      <td>1008.8</td>\n",
       "      <td>95.939</td>\n",
       "      <td>3.4824</td>\n",
       "      <td>19.779</td>\n",
       "      <td>1059.4</td>\n",
       "      <td>549.87</td>\n",
       "      <td>114.71</td>\n",
       "      <td>10.601</td>\n",
       "      <td>3.2012</td>\n",
       "      <td>82.468</td>\n",
       "    </tr>\n",
       "    <tr>\n",
       "      <th>3</th>\n",
       "      <td>7.0569</td>\n",
       "      <td>1009.2</td>\n",
       "      <td>95.249</td>\n",
       "      <td>3.4805</td>\n",
       "      <td>19.792</td>\n",
       "      <td>1059.6</td>\n",
       "      <td>549.99</td>\n",
       "      <td>114.72</td>\n",
       "      <td>10.606</td>\n",
       "      <td>3.1923</td>\n",
       "      <td>82.670</td>\n",
       "    </tr>\n",
       "    <tr>\n",
       "      <th>4</th>\n",
       "      <td>7.3978</td>\n",
       "      <td>1009.7</td>\n",
       "      <td>95.150</td>\n",
       "      <td>3.4976</td>\n",
       "      <td>19.765</td>\n",
       "      <td>1059.7</td>\n",
       "      <td>549.98</td>\n",
       "      <td>114.72</td>\n",
       "      <td>10.612</td>\n",
       "      <td>3.2484</td>\n",
       "      <td>82.311</td>\n",
       "    </tr>\n",
       "    <tr>\n",
       "      <th>...</th>\n",
       "      <td>...</td>\n",
       "      <td>...</td>\n",
       "      <td>...</td>\n",
       "      <td>...</td>\n",
       "      <td>...</td>\n",
       "      <td>...</td>\n",
       "      <td>...</td>\n",
       "      <td>...</td>\n",
       "      <td>...</td>\n",
       "      <td>...</td>\n",
       "      <td>...</td>\n",
       "    </tr>\n",
       "    <tr>\n",
       "      <th>15034</th>\n",
       "      <td>9.0301</td>\n",
       "      <td>1005.6</td>\n",
       "      <td>98.460</td>\n",
       "      <td>3.5421</td>\n",
       "      <td>19.164</td>\n",
       "      <td>1049.7</td>\n",
       "      <td>546.21</td>\n",
       "      <td>111.61</td>\n",
       "      <td>10.400</td>\n",
       "      <td>4.5186</td>\n",
       "      <td>79.559</td>\n",
       "    </tr>\n",
       "    <tr>\n",
       "      <th>15035</th>\n",
       "      <td>7.8879</td>\n",
       "      <td>1005.9</td>\n",
       "      <td>99.093</td>\n",
       "      <td>3.5059</td>\n",
       "      <td>19.414</td>\n",
       "      <td>1046.3</td>\n",
       "      <td>543.22</td>\n",
       "      <td>111.78</td>\n",
       "      <td>10.433</td>\n",
       "      <td>4.8470</td>\n",
       "      <td>79.917</td>\n",
       "    </tr>\n",
       "    <tr>\n",
       "      <th>15036</th>\n",
       "      <td>7.2647</td>\n",
       "      <td>1006.3</td>\n",
       "      <td>99.496</td>\n",
       "      <td>3.4770</td>\n",
       "      <td>19.530</td>\n",
       "      <td>1037.7</td>\n",
       "      <td>537.32</td>\n",
       "      <td>110.19</td>\n",
       "      <td>10.483</td>\n",
       "      <td>7.9632</td>\n",
       "      <td>90.912</td>\n",
       "    </tr>\n",
       "    <tr>\n",
       "      <th>15037</th>\n",
       "      <td>7.0060</td>\n",
       "      <td>1006.8</td>\n",
       "      <td>99.008</td>\n",
       "      <td>3.4486</td>\n",
       "      <td>19.377</td>\n",
       "      <td>1043.2</td>\n",
       "      <td>541.24</td>\n",
       "      <td>110.74</td>\n",
       "      <td>10.533</td>\n",
       "      <td>6.2494</td>\n",
       "      <td>93.227</td>\n",
       "    </tr>\n",
       "    <tr>\n",
       "      <th>15038</th>\n",
       "      <td>6.9279</td>\n",
       "      <td>1007.2</td>\n",
       "      <td>97.533</td>\n",
       "      <td>3.4275</td>\n",
       "      <td>19.306</td>\n",
       "      <td>1049.9</td>\n",
       "      <td>545.85</td>\n",
       "      <td>111.58</td>\n",
       "      <td>10.583</td>\n",
       "      <td>4.9816</td>\n",
       "      <td>92.498</td>\n",
       "    </tr>\n",
       "  </tbody>\n",
       "</table>\n",
       "<p>15039 rows × 11 columns</p>\n",
       "</div>"
      ],
      "text/plain": [
       "           AT      AP      AH    AFDP    GTEP     TIT     TAT     TEY     CDP  \\\n",
       "0      6.8594  1007.9  96.799  3.5000  19.663  1059.2  550.00  114.70  10.605   \n",
       "1      6.7850  1008.4  97.118  3.4998  19.728  1059.3  550.00  114.72  10.598   \n",
       "2      6.8977  1008.8  95.939  3.4824  19.779  1059.4  549.87  114.71  10.601   \n",
       "3      7.0569  1009.2  95.249  3.4805  19.792  1059.6  549.99  114.72  10.606   \n",
       "4      7.3978  1009.7  95.150  3.4976  19.765  1059.7  549.98  114.72  10.612   \n",
       "...       ...     ...     ...     ...     ...     ...     ...     ...     ...   \n",
       "15034  9.0301  1005.6  98.460  3.5421  19.164  1049.7  546.21  111.61  10.400   \n",
       "15035  7.8879  1005.9  99.093  3.5059  19.414  1046.3  543.22  111.78  10.433   \n",
       "15036  7.2647  1006.3  99.496  3.4770  19.530  1037.7  537.32  110.19  10.483   \n",
       "15037  7.0060  1006.8  99.008  3.4486  19.377  1043.2  541.24  110.74  10.533   \n",
       "15038  6.9279  1007.2  97.533  3.4275  19.306  1049.9  545.85  111.58  10.583   \n",
       "\n",
       "           CO     NOX  \n",
       "0      3.1547  82.722  \n",
       "1      3.2363  82.776  \n",
       "2      3.2012  82.468  \n",
       "3      3.1923  82.670  \n",
       "4      3.2484  82.311  \n",
       "...       ...     ...  \n",
       "15034  4.5186  79.559  \n",
       "15035  4.8470  79.917  \n",
       "15036  7.9632  90.912  \n",
       "15037  6.2494  93.227  \n",
       "15038  4.9816  92.498  \n",
       "\n",
       "[15039 rows x 11 columns]"
      ]
     },
     "execution_count": 20,
     "metadata": {},
     "output_type": "execute_result"
    }
   ],
   "source": [
    "gas"
   ]
  },
  {
   "cell_type": "code",
   "execution_count": 21,
   "id": "64eb8945",
   "metadata": {
    "ExecuteTime": {
     "end_time": "2023-03-23T15:37:41.078090Z",
     "start_time": "2023-03-23T15:37:41.031552Z"
    }
   },
   "outputs": [
    {
     "name": "stdout",
     "output_type": "stream",
     "text": [
      "             AT        AP        AH      AFDP      GTEP    TIT       TAT  \\\n",
      "0      0.184182  0.456050  0.951314  0.255758  0.091426  0.584  0.984015   \n",
      "1      0.182020  0.466391  0.955881  0.255721  0.094755  0.585  0.984015   \n",
      "2      0.185295  0.474664  0.939003  0.252571  0.097367  0.586  0.980608   \n",
      "3      0.189922  0.482937  0.929126  0.252227  0.098033  0.588  0.983753   \n",
      "4      0.199830  0.493278  0.927708  0.255323  0.096650  0.589  0.983491   \n",
      "...         ...       ...       ...       ...       ...    ...       ...   \n",
      "15034  0.247272  0.408480  0.975092  0.263380  0.065868  0.489  0.884696   \n",
      "15035  0.214075  0.414685  0.984153  0.256826  0.078672  0.455  0.806342   \n",
      "15036  0.195962  0.422958  0.989922  0.251593  0.084614  0.369  0.651730   \n",
      "15037  0.188443  0.433299  0.982936  0.246451  0.076777  0.424  0.754455   \n",
      "15038  0.186173  0.441572  0.961821  0.242631  0.073141  0.491  0.875262   \n",
      "\n",
      "            TEY       CDP        CO       NOX  \n",
      "0      0.195191  0.135340  0.071522  0.596548  \n",
      "1      0.195459  0.133988  0.073372  0.597134  \n",
      "2      0.195325  0.134567  0.072576  0.593791  \n",
      "3      0.195459  0.135533  0.072375  0.595984  \n",
      "4      0.195459  0.136692  0.073647  0.592087  \n",
      "...         ...       ...       ...       ...  \n",
      "15034  0.153681  0.095739  0.102448  0.562214  \n",
      "15035  0.155965  0.102113  0.109894  0.566100  \n",
      "15036  0.134605  0.111772  0.180552  0.685449  \n",
      "15037  0.141994  0.121431  0.141693  0.710578  \n",
      "15038  0.153278  0.131090  0.112946  0.702665  \n",
      "\n",
      "[15039 rows x 11 columns]              AT        AP        AH      AFDP      GTEP       TIT       TAT  \\\n",
      "0     -1.439778 -0.826644  1.281436 -0.921232 -1.379101 -1.488376  0.585240   \n",
      "1     -1.449601 -0.748647  1.304564 -0.921495 -1.363528 -1.482325  0.585240   \n",
      "2     -1.434721 -0.686250  1.219086 -0.944385 -1.351309 -1.476275  0.568715   \n",
      "3     -1.413702 -0.623853  1.169060 -0.946884 -1.348194 -1.464173  0.583969   \n",
      "4     -1.368693 -0.545857  1.161883 -0.924389 -1.354663 -1.458123  0.582698   \n",
      "...         ...       ...       ...       ...       ...       ...       ...   \n",
      "15034 -1.153182 -1.185428  1.401860 -0.865850 -1.498657 -2.063184  0.103453   \n",
      "15035 -1.303986 -1.138630  1.447753 -0.913470 -1.438759 -2.268905 -0.276638   \n",
      "15036 -1.386267 -1.076233  1.476971 -0.951488 -1.410967 -2.789257 -1.026650   \n",
      "15037 -1.420423 -0.998236  1.441590 -0.988848 -1.447624 -2.456474 -0.528337   \n",
      "15038 -1.430734 -0.935839  1.334652 -1.016605 -1.464635 -2.051083  0.057689   \n",
      "\n",
      "            TEY       CDP        CO       NOX  \n",
      "0     -1.231172 -1.357331  0.532012  1.387845  \n",
      "1     -1.229909 -1.363676  0.568733  1.393002  \n",
      "2     -1.230541 -1.360957  0.552938  1.363586  \n",
      "3     -1.229909 -1.356424  0.548933  1.382878  \n",
      "4     -1.229909 -1.350985  0.574179  1.348591  \n",
      "...         ...       ...       ...       ...  \n",
      "15034 -1.426381 -1.543161  1.145792  1.085751  \n",
      "15035 -1.415642 -1.513247  1.293578  1.119943  \n",
      "15036 -1.516089 -1.467922  2.695925  2.170062  \n",
      "15037 -1.481343 -1.422598  1.924683  2.391165  \n",
      "15038 -1.428277 -1.377273  1.354150  2.321539  \n",
      "\n",
      "[15039 rows x 11 columns]\n"
     ]
    }
   ],
   "source": [
    "norm = MinMaxScaler()\n",
    "std = StandardScaler()\n",
    "gas_norm = pd.DataFrame(norm.fit_transform(gas), columns=gas.columns) \n",
    "gas_std = pd.DataFrame(std.fit_transform(gas), columns=gas.columns) \n",
    "print(gas_norm,gas_std)"
   ]
  },
  {
   "cell_type": "code",
   "execution_count": 22,
   "id": "504e6327",
   "metadata": {
    "ExecuteTime": {
     "end_time": "2023-03-23T15:37:46.576588Z",
     "start_time": "2023-03-23T15:37:46.549618Z"
    }
   },
   "outputs": [],
   "source": [
    "temp = gas_std.sample(frac=1)          \n",
    "temp_s = gas_std.sample(frac=0.1)"
   ]
  },
  {
   "cell_type": "code",
   "execution_count": 23,
   "id": "393e27c2",
   "metadata": {
    "ExecuteTime": {
     "end_time": "2023-03-23T15:37:48.683192Z",
     "start_time": "2023-03-23T15:37:48.638978Z"
    }
   },
   "outputs": [
    {
     "data": {
      "text/html": [
       "<div>\n",
       "<style scoped>\n",
       "    .dataframe tbody tr th:only-of-type {\n",
       "        vertical-align: middle;\n",
       "    }\n",
       "\n",
       "    .dataframe tbody tr th {\n",
       "        vertical-align: top;\n",
       "    }\n",
       "\n",
       "    .dataframe thead th {\n",
       "        text-align: right;\n",
       "    }\n",
       "</style>\n",
       "<table border=\"1\" class=\"dataframe\">\n",
       "  <thead>\n",
       "    <tr style=\"text-align: right;\">\n",
       "      <th></th>\n",
       "      <th>AT</th>\n",
       "      <th>AP</th>\n",
       "      <th>AH</th>\n",
       "      <th>AFDP</th>\n",
       "      <th>GTEP</th>\n",
       "      <th>TIT</th>\n",
       "      <th>TAT</th>\n",
       "      <th>TEY</th>\n",
       "      <th>CDP</th>\n",
       "      <th>CO</th>\n",
       "      <th>NOX</th>\n",
       "    </tr>\n",
       "  </thead>\n",
       "  <tbody>\n",
       "    <tr>\n",
       "      <th>8451</th>\n",
       "      <td>-1.226075</td>\n",
       "      <td>0.904878</td>\n",
       "      <td>0.867023</td>\n",
       "      <td>0.572510</td>\n",
       "      <td>0.696956</td>\n",
       "      <td>0.520427</td>\n",
       "      <td>-0.754612</td>\n",
       "      <td>0.818206</td>\n",
       "      <td>0.760223</td>\n",
       "      <td>-0.442759</td>\n",
       "      <td>0.232761</td>\n",
       "    </tr>\n",
       "    <tr>\n",
       "      <th>861</th>\n",
       "      <td>-1.580733</td>\n",
       "      <td>0.530495</td>\n",
       "      <td>0.536202</td>\n",
       "      <td>0.297046</td>\n",
       "      <td>-0.522323</td>\n",
       "      <td>-0.490025</td>\n",
       "      <td>0.339897</td>\n",
       "      <td>-0.313248</td>\n",
       "      <td>-0.511578</td>\n",
       "      <td>0.257546</td>\n",
       "      <td>2.762121</td>\n",
       "    </tr>\n",
       "    <tr>\n",
       "      <th>9099</th>\n",
       "      <td>-0.491332</td>\n",
       "      <td>1.232463</td>\n",
       "      <td>-0.216065</td>\n",
       "      <td>0.114850</td>\n",
       "      <td>-0.273867</td>\n",
       "      <td>0.157390</td>\n",
       "      <td>0.585240</td>\n",
       "      <td>-0.043493</td>\n",
       "      <td>-0.169833</td>\n",
       "      <td>-0.588412</td>\n",
       "      <td>0.377648</td>\n",
       "    </tr>\n",
       "    <tr>\n",
       "      <th>9720</th>\n",
       "      <td>-0.853752</td>\n",
       "      <td>-0.733048</td>\n",
       "      <td>0.597973</td>\n",
       "      <td>1.941938</td>\n",
       "      <td>1.514441</td>\n",
       "      <td>0.913717</td>\n",
       "      <td>-1.716915</td>\n",
       "      <td>1.453740</td>\n",
       "      <td>1.451872</td>\n",
       "      <td>-0.693212</td>\n",
       "      <td>-2.259255</td>\n",
       "    </tr>\n",
       "    <tr>\n",
       "      <th>4144</th>\n",
       "      <td>1.026478</td>\n",
       "      <td>-0.982637</td>\n",
       "      <td>0.820260</td>\n",
       "      <td>-0.907419</td>\n",
       "      <td>-1.221929</td>\n",
       "      <td>-1.458123</td>\n",
       "      <td>0.585240</td>\n",
       "      <td>-1.486397</td>\n",
       "      <td>-1.360050</td>\n",
       "      <td>1.063844</td>\n",
       "      <td>-2.153431</td>\n",
       "    </tr>\n",
       "    <tr>\n",
       "      <th>...</th>\n",
       "      <td>...</td>\n",
       "      <td>...</td>\n",
       "      <td>...</td>\n",
       "      <td>...</td>\n",
       "      <td>...</td>\n",
       "      <td>...</td>\n",
       "      <td>...</td>\n",
       "      <td>...</td>\n",
       "      <td>...</td>\n",
       "      <td>...</td>\n",
       "      <td>...</td>\n",
       "    </tr>\n",
       "    <tr>\n",
       "      <th>1536</th>\n",
       "      <td>-0.215522</td>\n",
       "      <td>0.405700</td>\n",
       "      <td>-0.376146</td>\n",
       "      <td>1.639770</td>\n",
       "      <td>0.918578</td>\n",
       "      <td>0.956071</td>\n",
       "      <td>-0.346554</td>\n",
       "      <td>0.914863</td>\n",
       "      <td>0.741187</td>\n",
       "      <td>-0.561942</td>\n",
       "      <td>0.485955</td>\n",
       "    </tr>\n",
       "    <tr>\n",
       "      <th>2753</th>\n",
       "      <td>0.255559</td>\n",
       "      <td>0.374502</td>\n",
       "      <td>0.739784</td>\n",
       "      <td>-1.052255</td>\n",
       "      <td>-1.460562</td>\n",
       "      <td>-1.778805</td>\n",
       "      <td>0.562359</td>\n",
       "      <td>-1.590635</td>\n",
       "      <td>-1.594830</td>\n",
       "      <td>1.167258</td>\n",
       "      <td>-0.310493</td>\n",
       "    </tr>\n",
       "    <tr>\n",
       "      <th>9563</th>\n",
       "      <td>-0.947229</td>\n",
       "      <td>-0.109076</td>\n",
       "      <td>0.693746</td>\n",
       "      <td>1.887609</td>\n",
       "      <td>1.725281</td>\n",
       "      <td>0.974223</td>\n",
       "      <td>-2.088107</td>\n",
       "      <td>1.717810</td>\n",
       "      <td>1.685746</td>\n",
       "      <td>-0.419057</td>\n",
       "      <td>-0.268564</td>\n",
       "    </tr>\n",
       "    <tr>\n",
       "      <th>14843</th>\n",
       "      <td>-0.656368</td>\n",
       "      <td>-1.263424</td>\n",
       "      <td>1.055162</td>\n",
       "      <td>-0.012489</td>\n",
       "      <td>-0.289680</td>\n",
       "      <td>0.048479</td>\n",
       "      <td>0.589054</td>\n",
       "      <td>-0.039703</td>\n",
       "      <td>-0.376512</td>\n",
       "      <td>-0.298812</td>\n",
       "      <td>0.321107</td>\n",
       "    </tr>\n",
       "    <tr>\n",
       "      <th>13777</th>\n",
       "      <td>-0.670496</td>\n",
       "      <td>1.903232</td>\n",
       "      <td>0.148541</td>\n",
       "      <td>0.900594</td>\n",
       "      <td>1.514441</td>\n",
       "      <td>0.980273</td>\n",
       "      <td>-2.199974</td>\n",
       "      <td>1.669165</td>\n",
       "      <td>1.802683</td>\n",
       "      <td>-0.471484</td>\n",
       "      <td>-0.224535</td>\n",
       "    </tr>\n",
       "  </tbody>\n",
       "</table>\n",
       "<p>15039 rows × 11 columns</p>\n",
       "</div>"
      ],
      "text/plain": [
       "             AT        AP        AH      AFDP      GTEP       TIT       TAT  \\\n",
       "8451  -1.226075  0.904878  0.867023  0.572510  0.696956  0.520427 -0.754612   \n",
       "861   -1.580733  0.530495  0.536202  0.297046 -0.522323 -0.490025  0.339897   \n",
       "9099  -0.491332  1.232463 -0.216065  0.114850 -0.273867  0.157390  0.585240   \n",
       "9720  -0.853752 -0.733048  0.597973  1.941938  1.514441  0.913717 -1.716915   \n",
       "4144   1.026478 -0.982637  0.820260 -0.907419 -1.221929 -1.458123  0.585240   \n",
       "...         ...       ...       ...       ...       ...       ...       ...   \n",
       "1536  -0.215522  0.405700 -0.376146  1.639770  0.918578  0.956071 -0.346554   \n",
       "2753   0.255559  0.374502  0.739784 -1.052255 -1.460562 -1.778805  0.562359   \n",
       "9563  -0.947229 -0.109076  0.693746  1.887609  1.725281  0.974223 -2.088107   \n",
       "14843 -0.656368 -1.263424  1.055162 -0.012489 -0.289680  0.048479  0.589054   \n",
       "13777 -0.670496  1.903232  0.148541  0.900594  1.514441  0.980273 -2.199974   \n",
       "\n",
       "            TEY       CDP        CO       NOX  \n",
       "8451   0.818206  0.760223 -0.442759  0.232761  \n",
       "861   -0.313248 -0.511578  0.257546  2.762121  \n",
       "9099  -0.043493 -0.169833 -0.588412  0.377648  \n",
       "9720   1.453740  1.451872 -0.693212 -2.259255  \n",
       "4144  -1.486397 -1.360050  1.063844 -2.153431  \n",
       "...         ...       ...       ...       ...  \n",
       "1536   0.914863  0.741187 -0.561942  0.485955  \n",
       "2753  -1.590635 -1.594830  1.167258 -0.310493  \n",
       "9563   1.717810  1.685746 -0.419057 -0.268564  \n",
       "14843 -0.039703 -0.376512 -0.298812  0.321107  \n",
       "13777  1.669165  1.802683 -0.471484 -0.224535  \n",
       "\n",
       "[15039 rows x 11 columns]"
      ]
     },
     "execution_count": 23,
     "metadata": {},
     "output_type": "execute_result"
    }
   ],
   "source": [
    "temp"
   ]
  },
  {
   "cell_type": "code",
   "execution_count": 24,
   "id": "d5186f98",
   "metadata": {
    "ExecuteTime": {
     "end_time": "2023-03-23T15:37:53.690931Z",
     "start_time": "2023-03-23T15:37:53.640004Z"
    }
   },
   "outputs": [
    {
     "data": {
      "text/html": [
       "<div>\n",
       "<style scoped>\n",
       "    .dataframe tbody tr th:only-of-type {\n",
       "        vertical-align: middle;\n",
       "    }\n",
       "\n",
       "    .dataframe tbody tr th {\n",
       "        vertical-align: top;\n",
       "    }\n",
       "\n",
       "    .dataframe thead th {\n",
       "        text-align: right;\n",
       "    }\n",
       "</style>\n",
       "<table border=\"1\" class=\"dataframe\">\n",
       "  <thead>\n",
       "    <tr style=\"text-align: right;\">\n",
       "      <th></th>\n",
       "      <th>AT</th>\n",
       "      <th>AP</th>\n",
       "      <th>AH</th>\n",
       "      <th>AFDP</th>\n",
       "      <th>GTEP</th>\n",
       "      <th>TIT</th>\n",
       "      <th>TAT</th>\n",
       "      <th>TEY</th>\n",
       "      <th>CDP</th>\n",
       "      <th>CO</th>\n",
       "      <th>NOX</th>\n",
       "    </tr>\n",
       "  </thead>\n",
       "  <tbody>\n",
       "    <tr>\n",
       "      <th>4028</th>\n",
       "      <td>1.383486</td>\n",
       "      <td>-1.091832</td>\n",
       "      <td>0.445431</td>\n",
       "      <td>0.941769</td>\n",
       "      <td>1.210400</td>\n",
       "      <td>0.968172</td>\n",
       "      <td>-0.669441</td>\n",
       "      <td>0.745555</td>\n",
       "      <td>0.964182</td>\n",
       "      <td>-0.632928</td>\n",
       "      <td>-1.488594</td>\n",
       "    </tr>\n",
       "    <tr>\n",
       "      <th>9859</th>\n",
       "      <td>-0.473772</td>\n",
       "      <td>1.138867</td>\n",
       "      <td>-0.815065</td>\n",
       "      <td>0.208119</td>\n",
       "      <td>1.197702</td>\n",
       "      <td>0.980273</td>\n",
       "      <td>-1.538946</td>\n",
       "      <td>1.424680</td>\n",
       "      <td>1.440995</td>\n",
       "      <td>-0.288461</td>\n",
       "      <td>0.065143</td>\n",
       "    </tr>\n",
       "    <tr>\n",
       "      <th>508</th>\n",
       "      <td>-1.641545</td>\n",
       "      <td>-0.202672</td>\n",
       "      <td>-1.487363</td>\n",
       "      <td>1.905368</td>\n",
       "      <td>2.046094</td>\n",
       "      <td>0.974223</td>\n",
       "      <td>-2.404638</td>\n",
       "      <td>2.009675</td>\n",
       "      <td>1.931404</td>\n",
       "      <td>-0.626880</td>\n",
       "      <td>0.282617</td>\n",
       "    </tr>\n",
       "    <tr>\n",
       "      <th>2907</th>\n",
       "      <td>1.404478</td>\n",
       "      <td>0.234108</td>\n",
       "      <td>-1.716610</td>\n",
       "      <td>-0.048271</td>\n",
       "      <td>0.100374</td>\n",
       "      <td>0.472022</td>\n",
       "      <td>0.582698</td>\n",
       "      <td>-0.067500</td>\n",
       "      <td>0.011465</td>\n",
       "      <td>-0.019755</td>\n",
       "      <td>0.025221</td>\n",
       "    </tr>\n",
       "    <tr>\n",
       "      <th>6438</th>\n",
       "      <td>-0.158222</td>\n",
       "      <td>-0.046679</td>\n",
       "      <td>0.643793</td>\n",
       "      <td>-0.848880</td>\n",
       "      <td>-1.466552</td>\n",
       "      <td>-1.724350</td>\n",
       "      <td>0.580155</td>\n",
       "      <td>-1.543886</td>\n",
       "      <td>-1.508714</td>\n",
       "      <td>1.502701</td>\n",
       "      <td>-0.041540</td>\n",
       "    </tr>\n",
       "    <tr>\n",
       "      <th>...</th>\n",
       "      <td>...</td>\n",
       "      <td>...</td>\n",
       "      <td>...</td>\n",
       "      <td>...</td>\n",
       "      <td>...</td>\n",
       "      <td>...</td>\n",
       "      <td>...</td>\n",
       "      <td>...</td>\n",
       "      <td>...</td>\n",
       "      <td>...</td>\n",
       "      <td>...</td>\n",
       "    </tr>\n",
       "    <tr>\n",
       "      <th>14137</th>\n",
       "      <td>-1.113652</td>\n",
       "      <td>0.826881</td>\n",
       "      <td>0.458481</td>\n",
       "      <td>-1.131053</td>\n",
       "      <td>-1.324954</td>\n",
       "      <td>-1.337111</td>\n",
       "      <td>0.578884</td>\n",
       "      <td>-1.119985</td>\n",
       "      <td>-1.207760</td>\n",
       "      <td>0.621206</td>\n",
       "      <td>1.373328</td>\n",
       "    </tr>\n",
       "    <tr>\n",
       "      <th>8165</th>\n",
       "      <td>-1.461299</td>\n",
       "      <td>-0.187073</td>\n",
       "      <td>1.324357</td>\n",
       "      <td>0.527389</td>\n",
       "      <td>0.881920</td>\n",
       "      <td>0.556731</td>\n",
       "      <td>-1.045718</td>\n",
       "      <td>1.151767</td>\n",
       "      <td>0.898915</td>\n",
       "      <td>-0.578251</td>\n",
       "      <td>0.365137</td>\n",
       "    </tr>\n",
       "    <tr>\n",
       "      <th>10663</th>\n",
       "      <td>0.224928</td>\n",
       "      <td>-0.374264</td>\n",
       "      <td>0.790969</td>\n",
       "      <td>-0.726276</td>\n",
       "      <td>-0.182823</td>\n",
       "      <td>0.217896</td>\n",
       "      <td>0.589054</td>\n",
       "      <td>-0.090874</td>\n",
       "      <td>-0.080091</td>\n",
       "      <td>-0.480709</td>\n",
       "      <td>-0.702939</td>\n",
       "    </tr>\n",
       "    <tr>\n",
       "      <th>10069</th>\n",
       "      <td>0.750801</td>\n",
       "      <td>-1.325821</td>\n",
       "      <td>-0.362516</td>\n",
       "      <td>-0.791656</td>\n",
       "      <td>-0.264044</td>\n",
       "      <td>0.018226</td>\n",
       "      <td>0.590325</td>\n",
       "      <td>-0.278502</td>\n",
       "      <td>-0.199747</td>\n",
       "      <td>-0.382335</td>\n",
       "      <td>-0.838561</td>\n",
       "    </tr>\n",
       "    <tr>\n",
       "      <th>6510</th>\n",
       "      <td>-0.613855</td>\n",
       "      <td>0.249707</td>\n",
       "      <td>0.253160</td>\n",
       "      <td>-1.063174</td>\n",
       "      <td>-1.537471</td>\n",
       "      <td>-1.760653</td>\n",
       "      <td>0.586511</td>\n",
       "      <td>-1.526829</td>\n",
       "      <td>-1.521405</td>\n",
       "      <td>1.455584</td>\n",
       "      <td>0.694069</td>\n",
       "    </tr>\n",
       "  </tbody>\n",
       "</table>\n",
       "<p>1504 rows × 11 columns</p>\n",
       "</div>"
      ],
      "text/plain": [
       "             AT        AP        AH      AFDP      GTEP       TIT       TAT  \\\n",
       "4028   1.383486 -1.091832  0.445431  0.941769  1.210400  0.968172 -0.669441   \n",
       "9859  -0.473772  1.138867 -0.815065  0.208119  1.197702  0.980273 -1.538946   \n",
       "508   -1.641545 -0.202672 -1.487363  1.905368  2.046094  0.974223 -2.404638   \n",
       "2907   1.404478  0.234108 -1.716610 -0.048271  0.100374  0.472022  0.582698   \n",
       "6438  -0.158222 -0.046679  0.643793 -0.848880 -1.466552 -1.724350  0.580155   \n",
       "...         ...       ...       ...       ...       ...       ...       ...   \n",
       "14137 -1.113652  0.826881  0.458481 -1.131053 -1.324954 -1.337111  0.578884   \n",
       "8165  -1.461299 -0.187073  1.324357  0.527389  0.881920  0.556731 -1.045718   \n",
       "10663  0.224928 -0.374264  0.790969 -0.726276 -0.182823  0.217896  0.589054   \n",
       "10069  0.750801 -1.325821 -0.362516 -0.791656 -0.264044  0.018226  0.590325   \n",
       "6510  -0.613855  0.249707  0.253160 -1.063174 -1.537471 -1.760653  0.586511   \n",
       "\n",
       "            TEY       CDP        CO       NOX  \n",
       "4028   0.745555  0.964182 -0.632928 -1.488594  \n",
       "9859   1.424680  1.440995 -0.288461  0.065143  \n",
       "508    2.009675  1.931404 -0.626880  0.282617  \n",
       "2907  -0.067500  0.011465 -0.019755  0.025221  \n",
       "6438  -1.543886 -1.508714  1.502701 -0.041540  \n",
       "...         ...       ...       ...       ...  \n",
       "14137 -1.119985 -1.207760  0.621206  1.373328  \n",
       "8165   1.151767  0.898915 -0.578251  0.365137  \n",
       "10663 -0.090874 -0.080091 -0.480709 -0.702939  \n",
       "10069 -0.278502 -0.199747 -0.382335 -0.838561  \n",
       "6510  -1.526829 -1.521405  1.455584  0.694069  \n",
       "\n",
       "[1504 rows x 11 columns]"
      ]
     },
     "execution_count": 24,
     "metadata": {},
     "output_type": "execute_result"
    }
   ],
   "source": [
    "temp_s"
   ]
  },
  {
   "cell_type": "code",
   "execution_count": 25,
   "id": "6e53f095",
   "metadata": {
    "ExecuteTime": {
     "end_time": "2023-03-23T15:37:58.918453Z",
     "start_time": "2023-03-23T15:37:58.882581Z"
    }
   },
   "outputs": [
    {
     "data": {
      "text/html": [
       "<div>\n",
       "<style scoped>\n",
       "    .dataframe tbody tr th:only-of-type {\n",
       "        vertical-align: middle;\n",
       "    }\n",
       "\n",
       "    .dataframe tbody tr th {\n",
       "        vertical-align: top;\n",
       "    }\n",
       "\n",
       "    .dataframe thead th {\n",
       "        text-align: right;\n",
       "    }\n",
       "</style>\n",
       "<table border=\"1\" class=\"dataframe\">\n",
       "  <thead>\n",
       "    <tr style=\"text-align: right;\">\n",
       "      <th></th>\n",
       "      <th>AFDP</th>\n",
       "      <th>GTEP</th>\n",
       "      <th>TIT</th>\n",
       "      <th>TAT</th>\n",
       "      <th>TEY</th>\n",
       "      <th>CDP</th>\n",
       "      <th>CO</th>\n",
       "    </tr>\n",
       "  </thead>\n",
       "  <tbody>\n",
       "    <tr>\n",
       "      <th>4028</th>\n",
       "      <td>0.941769</td>\n",
       "      <td>1.210400</td>\n",
       "      <td>0.968172</td>\n",
       "      <td>-0.669441</td>\n",
       "      <td>0.745555</td>\n",
       "      <td>0.964182</td>\n",
       "      <td>-0.632928</td>\n",
       "    </tr>\n",
       "    <tr>\n",
       "      <th>9859</th>\n",
       "      <td>0.208119</td>\n",
       "      <td>1.197702</td>\n",
       "      <td>0.980273</td>\n",
       "      <td>-1.538946</td>\n",
       "      <td>1.424680</td>\n",
       "      <td>1.440995</td>\n",
       "      <td>-0.288461</td>\n",
       "    </tr>\n",
       "    <tr>\n",
       "      <th>508</th>\n",
       "      <td>1.905368</td>\n",
       "      <td>2.046094</td>\n",
       "      <td>0.974223</td>\n",
       "      <td>-2.404638</td>\n",
       "      <td>2.009675</td>\n",
       "      <td>1.931404</td>\n",
       "      <td>-0.626880</td>\n",
       "    </tr>\n",
       "    <tr>\n",
       "      <th>2907</th>\n",
       "      <td>-0.048271</td>\n",
       "      <td>0.100374</td>\n",
       "      <td>0.472022</td>\n",
       "      <td>0.582698</td>\n",
       "      <td>-0.067500</td>\n",
       "      <td>0.011465</td>\n",
       "      <td>-0.019755</td>\n",
       "    </tr>\n",
       "    <tr>\n",
       "      <th>6438</th>\n",
       "      <td>-0.848880</td>\n",
       "      <td>-1.466552</td>\n",
       "      <td>-1.724350</td>\n",
       "      <td>0.580155</td>\n",
       "      <td>-1.543886</td>\n",
       "      <td>-1.508714</td>\n",
       "      <td>1.502701</td>\n",
       "    </tr>\n",
       "    <tr>\n",
       "      <th>...</th>\n",
       "      <td>...</td>\n",
       "      <td>...</td>\n",
       "      <td>...</td>\n",
       "      <td>...</td>\n",
       "      <td>...</td>\n",
       "      <td>...</td>\n",
       "      <td>...</td>\n",
       "    </tr>\n",
       "    <tr>\n",
       "      <th>14137</th>\n",
       "      <td>-1.131053</td>\n",
       "      <td>-1.324954</td>\n",
       "      <td>-1.337111</td>\n",
       "      <td>0.578884</td>\n",
       "      <td>-1.119985</td>\n",
       "      <td>-1.207760</td>\n",
       "      <td>0.621206</td>\n",
       "    </tr>\n",
       "    <tr>\n",
       "      <th>8165</th>\n",
       "      <td>0.527389</td>\n",
       "      <td>0.881920</td>\n",
       "      <td>0.556731</td>\n",
       "      <td>-1.045718</td>\n",
       "      <td>1.151767</td>\n",
       "      <td>0.898915</td>\n",
       "      <td>-0.578251</td>\n",
       "    </tr>\n",
       "    <tr>\n",
       "      <th>10663</th>\n",
       "      <td>-0.726276</td>\n",
       "      <td>-0.182823</td>\n",
       "      <td>0.217896</td>\n",
       "      <td>0.589054</td>\n",
       "      <td>-0.090874</td>\n",
       "      <td>-0.080091</td>\n",
       "      <td>-0.480709</td>\n",
       "    </tr>\n",
       "    <tr>\n",
       "      <th>10069</th>\n",
       "      <td>-0.791656</td>\n",
       "      <td>-0.264044</td>\n",
       "      <td>0.018226</td>\n",
       "      <td>0.590325</td>\n",
       "      <td>-0.278502</td>\n",
       "      <td>-0.199747</td>\n",
       "      <td>-0.382335</td>\n",
       "    </tr>\n",
       "    <tr>\n",
       "      <th>6510</th>\n",
       "      <td>-1.063174</td>\n",
       "      <td>-1.537471</td>\n",
       "      <td>-1.760653</td>\n",
       "      <td>0.586511</td>\n",
       "      <td>-1.526829</td>\n",
       "      <td>-1.521405</td>\n",
       "      <td>1.455584</td>\n",
       "    </tr>\n",
       "  </tbody>\n",
       "</table>\n",
       "<p>1504 rows × 7 columns</p>\n",
       "</div>"
      ],
      "text/plain": [
       "           AFDP      GTEP       TIT       TAT       TEY       CDP        CO\n",
       "4028   0.941769  1.210400  0.968172 -0.669441  0.745555  0.964182 -0.632928\n",
       "9859   0.208119  1.197702  0.980273 -1.538946  1.424680  1.440995 -0.288461\n",
       "508    1.905368  2.046094  0.974223 -2.404638  2.009675  1.931404 -0.626880\n",
       "2907  -0.048271  0.100374  0.472022  0.582698 -0.067500  0.011465 -0.019755\n",
       "6438  -0.848880 -1.466552 -1.724350  0.580155 -1.543886 -1.508714  1.502701\n",
       "...         ...       ...       ...       ...       ...       ...       ...\n",
       "14137 -1.131053 -1.324954 -1.337111  0.578884 -1.119985 -1.207760  0.621206\n",
       "8165   0.527389  0.881920  0.556731 -1.045718  1.151767  0.898915 -0.578251\n",
       "10663 -0.726276 -0.182823  0.217896  0.589054 -0.090874 -0.080091 -0.480709\n",
       "10069 -0.791656 -0.264044  0.018226  0.590325 -0.278502 -0.199747 -0.382335\n",
       "6510  -1.063174 -1.537471 -1.760653  0.586511 -1.526829 -1.521405  1.455584\n",
       "\n",
       "[1504 rows x 7 columns]"
      ]
     },
     "execution_count": 25,
     "metadata": {},
     "output_type": "execute_result"
    }
   ],
   "source": [
    "temp_s = temp_s.drop(['AT', 'AP', 'AH', 'NOX'], axis=1)\n",
    "temp_s"
   ]
  },
  {
   "cell_type": "code",
   "execution_count": 26,
   "id": "53532fe7",
   "metadata": {
    "ExecuteTime": {
     "end_time": "2023-03-23T15:38:01.820646Z",
     "start_time": "2023-03-23T15:38:01.783085Z"
    }
   },
   "outputs": [
    {
     "data": {
      "text/html": [
       "<div>\n",
       "<style scoped>\n",
       "    .dataframe tbody tr th:only-of-type {\n",
       "        vertical-align: middle;\n",
       "    }\n",
       "\n",
       "    .dataframe tbody tr th {\n",
       "        vertical-align: top;\n",
       "    }\n",
       "\n",
       "    .dataframe thead th {\n",
       "        text-align: right;\n",
       "    }\n",
       "</style>\n",
       "<table border=\"1\" class=\"dataframe\">\n",
       "  <thead>\n",
       "    <tr style=\"text-align: right;\">\n",
       "      <th></th>\n",
       "      <th>AFDP</th>\n",
       "      <th>GTEP</th>\n",
       "      <th>TIT</th>\n",
       "      <th>TAT</th>\n",
       "      <th>CDP</th>\n",
       "      <th>CO</th>\n",
       "    </tr>\n",
       "  </thead>\n",
       "  <tbody>\n",
       "    <tr>\n",
       "      <th>4028</th>\n",
       "      <td>0.941769</td>\n",
       "      <td>1.210400</td>\n",
       "      <td>0.968172</td>\n",
       "      <td>-0.669441</td>\n",
       "      <td>0.964182</td>\n",
       "      <td>-0.632928</td>\n",
       "    </tr>\n",
       "    <tr>\n",
       "      <th>9859</th>\n",
       "      <td>0.208119</td>\n",
       "      <td>1.197702</td>\n",
       "      <td>0.980273</td>\n",
       "      <td>-1.538946</td>\n",
       "      <td>1.440995</td>\n",
       "      <td>-0.288461</td>\n",
       "    </tr>\n",
       "    <tr>\n",
       "      <th>508</th>\n",
       "      <td>1.905368</td>\n",
       "      <td>2.046094</td>\n",
       "      <td>0.974223</td>\n",
       "      <td>-2.404638</td>\n",
       "      <td>1.931404</td>\n",
       "      <td>-0.626880</td>\n",
       "    </tr>\n",
       "    <tr>\n",
       "      <th>2907</th>\n",
       "      <td>-0.048271</td>\n",
       "      <td>0.100374</td>\n",
       "      <td>0.472022</td>\n",
       "      <td>0.582698</td>\n",
       "      <td>0.011465</td>\n",
       "      <td>-0.019755</td>\n",
       "    </tr>\n",
       "    <tr>\n",
       "      <th>6438</th>\n",
       "      <td>-0.848880</td>\n",
       "      <td>-1.466552</td>\n",
       "      <td>-1.724350</td>\n",
       "      <td>0.580155</td>\n",
       "      <td>-1.508714</td>\n",
       "      <td>1.502701</td>\n",
       "    </tr>\n",
       "    <tr>\n",
       "      <th>...</th>\n",
       "      <td>...</td>\n",
       "      <td>...</td>\n",
       "      <td>...</td>\n",
       "      <td>...</td>\n",
       "      <td>...</td>\n",
       "      <td>...</td>\n",
       "    </tr>\n",
       "    <tr>\n",
       "      <th>14137</th>\n",
       "      <td>-1.131053</td>\n",
       "      <td>-1.324954</td>\n",
       "      <td>-1.337111</td>\n",
       "      <td>0.578884</td>\n",
       "      <td>-1.207760</td>\n",
       "      <td>0.621206</td>\n",
       "    </tr>\n",
       "    <tr>\n",
       "      <th>8165</th>\n",
       "      <td>0.527389</td>\n",
       "      <td>0.881920</td>\n",
       "      <td>0.556731</td>\n",
       "      <td>-1.045718</td>\n",
       "      <td>0.898915</td>\n",
       "      <td>-0.578251</td>\n",
       "    </tr>\n",
       "    <tr>\n",
       "      <th>10663</th>\n",
       "      <td>-0.726276</td>\n",
       "      <td>-0.182823</td>\n",
       "      <td>0.217896</td>\n",
       "      <td>0.589054</td>\n",
       "      <td>-0.080091</td>\n",
       "      <td>-0.480709</td>\n",
       "    </tr>\n",
       "    <tr>\n",
       "      <th>10069</th>\n",
       "      <td>-0.791656</td>\n",
       "      <td>-0.264044</td>\n",
       "      <td>0.018226</td>\n",
       "      <td>0.590325</td>\n",
       "      <td>-0.199747</td>\n",
       "      <td>-0.382335</td>\n",
       "    </tr>\n",
       "    <tr>\n",
       "      <th>6510</th>\n",
       "      <td>-1.063174</td>\n",
       "      <td>-1.537471</td>\n",
       "      <td>-1.760653</td>\n",
       "      <td>0.586511</td>\n",
       "      <td>-1.521405</td>\n",
       "      <td>1.455584</td>\n",
       "    </tr>\n",
       "  </tbody>\n",
       "</table>\n",
       "<p>1504 rows × 6 columns</p>\n",
       "</div>"
      ],
      "text/plain": [
       "           AFDP      GTEP       TIT       TAT       CDP        CO\n",
       "4028   0.941769  1.210400  0.968172 -0.669441  0.964182 -0.632928\n",
       "9859   0.208119  1.197702  0.980273 -1.538946  1.440995 -0.288461\n",
       "508    1.905368  2.046094  0.974223 -2.404638  1.931404 -0.626880\n",
       "2907  -0.048271  0.100374  0.472022  0.582698  0.011465 -0.019755\n",
       "6438  -0.848880 -1.466552 -1.724350  0.580155 -1.508714  1.502701\n",
       "...         ...       ...       ...       ...       ...       ...\n",
       "14137 -1.131053 -1.324954 -1.337111  0.578884 -1.207760  0.621206\n",
       "8165   0.527389  0.881920  0.556731 -1.045718  0.898915 -0.578251\n",
       "10663 -0.726276 -0.182823  0.217896  0.589054 -0.080091 -0.480709\n",
       "10069 -0.791656 -0.264044  0.018226  0.590325 -0.199747 -0.382335\n",
       "6510  -1.063174 -1.537471 -1.760653  0.586511 -1.521405  1.455584\n",
       "\n",
       "[1504 rows x 6 columns]"
      ]
     },
     "execution_count": 26,
     "metadata": {},
     "output_type": "execute_result"
    }
   ],
   "source": [
    "x = temp_s.drop('TEY', axis=1)\n",
    "y = temp_s['TEY']\n",
    "x"
   ]
  },
  {
   "cell_type": "code",
   "execution_count": 27,
   "id": "ab43466d",
   "metadata": {
    "ExecuteTime": {
     "end_time": "2023-03-23T15:38:04.917310Z",
     "start_time": "2023-03-23T15:38:04.903439Z"
    }
   },
   "outputs": [
    {
     "data": {
      "text/plain": [
       "4028     0.745555\n",
       "9859     1.424680\n",
       "508      2.009675\n",
       "2907    -0.067500\n",
       "6438    -1.543886\n",
       "           ...   \n",
       "14137   -1.119985\n",
       "8165     1.151767\n",
       "10663   -0.090874\n",
       "10069   -0.278502\n",
       "6510    -1.526829\n",
       "Name: TEY, Length: 1504, dtype: float64"
      ]
     },
     "execution_count": 27,
     "metadata": {},
     "output_type": "execute_result"
    }
   ],
   "source": [
    "y"
   ]
  },
  {
   "cell_type": "code",
   "execution_count": 28,
   "id": "ebd98073",
   "metadata": {
    "ExecuteTime": {
     "end_time": "2023-03-23T15:38:08.232981Z",
     "start_time": "2023-03-23T15:38:08.030852Z"
    }
   },
   "outputs": [],
   "source": [
    "from sklearn.model_selection import train_test_split \n",
    "x_train,x_test,y_train,y_test = train_test_split(x,y,test_size=0.2,random_state=42)"
   ]
  },
  {
   "cell_type": "code",
   "execution_count": 29,
   "id": "0c1f8552",
   "metadata": {
    "ExecuteTime": {
     "end_time": "2023-03-23T15:38:12.770603Z",
     "start_time": "2023-03-23T15:38:12.758876Z"
    }
   },
   "outputs": [
    {
     "data": {
      "text/plain": [
       "((1203, 6), (301, 6), (1203,), (301,))"
      ]
     },
     "execution_count": 29,
     "metadata": {},
     "output_type": "execute_result"
    }
   ],
   "source": [
    "x_train.shape, x_test.shape, y_train.shape, y_test.shape"
   ]
  },
  {
   "cell_type": "code",
   "execution_count": 30,
   "id": "5c200ad2",
   "metadata": {
    "ExecuteTime": {
     "end_time": "2023-03-23T15:38:15.181580Z",
     "start_time": "2023-03-23T15:38:15.157421Z"
    }
   },
   "outputs": [],
   "source": [
    "from sklearn.model_selection import GridSearchCV, KFold\n",
    "from keras.models import Sequential\n",
    "from keras.layers import Dense\n",
    "from keras.wrappers.scikit_learn import KerasRegressor\n",
    "from tensorflow.keras.optimizers import Adam"
   ]
  },
  {
   "cell_type": "code",
   "execution_count": 31,
   "id": "f3c03192",
   "metadata": {
    "ExecuteTime": {
     "end_time": "2023-03-23T15:38:19.147950Z",
     "start_time": "2023-03-23T15:38:19.122756Z"
    }
   },
   "outputs": [],
   "source": [
    "def create_model():\n",
    "    model = Sequential()\n",
    "    model.add(Dense(5, input_dim=6, kernel_initializer='uniform', activation='relu'))\n",
    "    model.add(Dense(6, kernel_initializer='uniform', activation='relu'))\n",
    "    model.add(Dense(12, kernel_initializer='uniform', activation='relu'))\n",
    "    model.add(Dense(1))\n",
    "    adam=Adam(learning_rate=0.01)\n",
    "    model.compile(loss='mse', optimizer=adam, metrics=['mse','mae','mape'])\n",
    "    return model"
   ]
  },
  {
   "cell_type": "code",
   "execution_count": 32,
   "id": "12301aa9",
   "metadata": {
    "ExecuteTime": {
     "end_time": "2023-03-23T15:38:22.867779Z",
     "start_time": "2023-03-23T15:38:22.471693Z"
    }
   },
   "outputs": [
    {
     "name": "stdout",
     "output_type": "stream",
     "text": [
      "Model: \"sequential\"\n",
      "_________________________________________________________________\n",
      " Layer (type)                Output Shape              Param #   \n",
      "=================================================================\n",
      " dense (Dense)               (None, 5)                 35        \n",
      "                                                                 \n",
      " dense_1 (Dense)             (None, 6)                 36        \n",
      "                                                                 \n",
      " dense_2 (Dense)             (None, 12)                84        \n",
      "                                                                 \n",
      " dense_3 (Dense)             (None, 1)                 13        \n",
      "                                                                 \n",
      "=================================================================\n",
      "Total params: 168\n",
      "Trainable params: 168\n",
      "Non-trainable params: 0\n",
      "_________________________________________________________________\n"
     ]
    }
   ],
   "source": [
    "model1 = create_model()\n",
    "model1.summary()"
   ]
  },
  {
   "cell_type": "code",
   "execution_count": 33,
   "id": "5354a48d",
   "metadata": {
    "ExecuteTime": {
     "end_time": "2023-03-23T15:38:28.303887Z",
     "start_time": "2023-03-23T15:38:28.285394Z"
    }
   },
   "outputs": [],
   "source": [
    "def create_model():\n",
    "    model = Sequential()\n",
    "    model.add(Dense(32, input_dim=6, kernel_initializer='uniform', activation='relu'))\n",
    "    model.add(Dense(32, kernel_initializer='uniform', activation='relu'))\n",
    "    model.add(Dense(64, kernel_initializer='uniform', activation='relu'))\n",
    "    model.add(Dense(1))    \n",
    "    adam=Adam(learning_rate=0.01)\n",
    "    model.compile(loss='mse', optimizer=adam, metrics=['mse','mae','mape'])\n",
    "    return model"
   ]
  },
  {
   "cell_type": "code",
   "execution_count": 34,
   "id": "a73e18e3",
   "metadata": {
    "ExecuteTime": {
     "end_time": "2023-03-23T15:38:30.967300Z",
     "start_time": "2023-03-23T15:38:30.821147Z"
    }
   },
   "outputs": [
    {
     "name": "stdout",
     "output_type": "stream",
     "text": [
      "Model: \"sequential_1\"\n",
      "_________________________________________________________________\n",
      " Layer (type)                Output Shape              Param #   \n",
      "=================================================================\n",
      " dense_4 (Dense)             (None, 32)                224       \n",
      "                                                                 \n",
      " dense_5 (Dense)             (None, 32)                1056      \n",
      "                                                                 \n",
      " dense_6 (Dense)             (None, 64)                2112      \n",
      "                                                                 \n",
      " dense_7 (Dense)             (None, 1)                 65        \n",
      "                                                                 \n",
      "=================================================================\n",
      "Total params: 3,457\n",
      "Trainable params: 3,457\n",
      "Non-trainable params: 0\n",
      "_________________________________________________________________\n"
     ]
    }
   ],
   "source": [
    "model2 = create_model()\n",
    "model2.summary()"
   ]
  },
  {
   "cell_type": "code",
   "execution_count": 35,
   "id": "ed9c1283",
   "metadata": {
    "ExecuteTime": {
     "end_time": "2023-03-23T15:38:34.327412Z",
     "start_time": "2023-03-23T15:38:33.735653Z"
    }
   },
   "outputs": [
    {
     "name": "stdout",
     "output_type": "stream",
     "text": [
      "10/10 [==============================] - 0s 2ms/step\n"
     ]
    },
    {
     "data": {
      "text/plain": [
       "array([[ 9.14378761e-05],\n",
       "       [ 1.26337603e-04],\n",
       "       [ 1.02260623e-04],\n",
       "       [ 5.71802608e-04],\n",
       "       [ 5.94921061e-04],\n",
       "       [-1.18212731e-04],\n",
       "       [ 1.39085940e-04],\n",
       "       [-1.76763962e-04],\n",
       "       [ 4.42145742e-04],\n",
       "       [-2.28886711e-04],\n",
       "       [-7.95131855e-05],\n",
       "       [ 5.27201119e-05],\n",
       "       [ 9.32449126e-04],\n",
       "       [ 1.73307635e-04],\n",
       "       [-1.17005067e-04],\n",
       "       [ 9.47087130e-04],\n",
       "       [-6.95649942e-05],\n",
       "       [-2.83626403e-04],\n",
       "       [ 9.50206188e-04],\n",
       "       [ 3.77247052e-04],\n",
       "       [ 8.35556828e-04],\n",
       "       [-4.48891660e-05],\n",
       "       [ 8.85964953e-04],\n",
       "       [ 5.98335871e-04],\n",
       "       [ 2.39685265e-04],\n",
       "       [-8.42607769e-05],\n",
       "       [ 2.24812975e-04],\n",
       "       [ 6.68203284e-04],\n",
       "       [ 1.35003458e-04],\n",
       "       [ 3.45745611e-05],\n",
       "       [ 8.11860737e-05],\n",
       "       [ 4.10851149e-04],\n",
       "       [-1.54109475e-05],\n",
       "       [ 9.87628475e-04],\n",
       "       [ 6.58658333e-04],\n",
       "       [ 6.35406817e-04],\n",
       "       [ 9.72083420e-04],\n",
       "       [-5.87604445e-05],\n",
       "       [ 2.68745702e-04],\n",
       "       [-5.81709173e-05],\n",
       "       [ 2.79504369e-04],\n",
       "       [ 9.03606415e-05],\n",
       "       [ 5.25206269e-04],\n",
       "       [ 4.67110745e-04],\n",
       "       [-1.36307382e-03],\n",
       "       [ 5.92454453e-04],\n",
       "       [ 3.97028634e-05],\n",
       "       [ 4.82702511e-04],\n",
       "       [ 1.03546423e-03],\n",
       "       [ 1.06036416e-04],\n",
       "       [-6.27213085e-05],\n",
       "       [ 2.83952337e-04],\n",
       "       [ 7.84682416e-05],\n",
       "       [-9.32167168e-05],\n",
       "       [-1.01781380e-03],\n",
       "       [ 8.89118761e-04],\n",
       "       [ 1.18928161e-04],\n",
       "       [-1.67538790e-04],\n",
       "       [ 1.46914972e-05],\n",
       "       [-3.26980953e-05],\n",
       "       [-1.75788256e-04],\n",
       "       [ 3.37325328e-04],\n",
       "       [-3.06266593e-05],\n",
       "       [ 2.48339318e-04],\n",
       "       [ 6.46926812e-04],\n",
       "       [-6.18180638e-05],\n",
       "       [-1.74384957e-04],\n",
       "       [ 7.07136292e-04],\n",
       "       [-2.32898703e-04],\n",
       "       [ 6.43181920e-05],\n",
       "       [ 9.26017601e-05],\n",
       "       [ 2.73711339e-06],\n",
       "       [ 1.17919066e-04],\n",
       "       [-2.38852401e-04],\n",
       "       [ 4.03253944e-05],\n",
       "       [ 1.82994001e-04],\n",
       "       [ 2.66820192e-04],\n",
       "       [-5.79744810e-05],\n",
       "       [ 4.46200429e-05],\n",
       "       [ 3.67489323e-04],\n",
       "       [-2.63962633e-04],\n",
       "       [-1.00066303e-04],\n",
       "       [ 6.76159165e-04],\n",
       "       [-1.59853967e-04],\n",
       "       [ 2.16053915e-04],\n",
       "       [ 3.48493370e-04],\n",
       "       [ 8.14019819e-04],\n",
       "       [-6.00458588e-06],\n",
       "       [-1.68795013e-04],\n",
       "       [-2.16869594e-05],\n",
       "       [ 4.24463593e-04],\n",
       "       [ 2.24846997e-04],\n",
       "       [ 7.21807592e-04],\n",
       "       [ 8.49191565e-04],\n",
       "       [-1.22031575e-04],\n",
       "       [ 3.97021184e-04],\n",
       "       [-3.42942803e-06],\n",
       "       [-5.17213775e-05],\n",
       "       [ 7.00903911e-06],\n",
       "       [ 4.74876026e-04],\n",
       "       [ 1.28676169e-04],\n",
       "       [ 5.60393091e-04],\n",
       "       [-6.81424426e-05],\n",
       "       [-1.91490253e-04],\n",
       "       [ 2.85099886e-05],\n",
       "       [ 5.71743352e-04],\n",
       "       [ 2.35614920e-04],\n",
       "       [ 7.19804608e-04],\n",
       "       [ 8.08409532e-04],\n",
       "       [-2.24876800e-04],\n",
       "       [ 6.96483068e-04],\n",
       "       [ 8.42624926e-04],\n",
       "       [ 9.95274750e-04],\n",
       "       [ 8.58182262e-04],\n",
       "       [ 7.28103332e-05],\n",
       "       [ 2.31709899e-04],\n",
       "       [ 1.94250606e-06],\n",
       "       [ 2.47778953e-04],\n",
       "       [ 9.15810000e-04],\n",
       "       [ 5.30579244e-04],\n",
       "       [ 7.22559984e-04],\n",
       "       [ 1.10103749e-03],\n",
       "       [ 1.78630493e-04],\n",
       "       [-4.06281382e-04],\n",
       "       [ 6.55444223e-04],\n",
       "       [ 8.98956670e-04],\n",
       "       [-1.66073558e-04],\n",
       "       [ 9.69888526e-04],\n",
       "       [ 7.33555935e-05],\n",
       "       [ 6.29024813e-04],\n",
       "       [ 6.97492855e-04],\n",
       "       [ 3.45972425e-04],\n",
       "       [-9.35639255e-05],\n",
       "       [ 1.06175830e-05],\n",
       "       [ 1.55568268e-04],\n",
       "       [-8.76510632e-04],\n",
       "       [ 2.41786925e-04],\n",
       "       [ 9.50807007e-04],\n",
       "       [ 1.48773615e-04],\n",
       "       [ 1.24359038e-04],\n",
       "       [ 1.09886983e-04],\n",
       "       [ 3.48909700e-04],\n",
       "       [ 3.44401196e-05],\n",
       "       [ 4.07655985e-04],\n",
       "       [ 6.35341785e-05],\n",
       "       [ 1.08324210e-04],\n",
       "       [ 2.69038079e-04],\n",
       "       [ 2.11247578e-04],\n",
       "       [ 6.70899026e-05],\n",
       "       [ 3.21154628e-04],\n",
       "       [-1.21902318e-04],\n",
       "       [ 5.23495371e-04],\n",
       "       [ 6.22990774e-05],\n",
       "       [ 5.52126730e-04],\n",
       "       [-5.16051950e-05],\n",
       "       [-3.34729673e-04],\n",
       "       [-1.61063654e-04],\n",
       "       [-3.86461616e-05],\n",
       "       [-1.43775425e-04],\n",
       "       [-1.82814110e-05],\n",
       "       [ 1.99481205e-04],\n",
       "       [ 7.20851123e-04],\n",
       "       [-6.81234815e-05],\n",
       "       [ 1.73432752e-04],\n",
       "       [-2.24052113e-04],\n",
       "       [ 6.76879834e-04],\n",
       "       [-1.58787298e-04],\n",
       "       [-4.61940683e-04],\n",
       "       [-2.87857401e-05],\n",
       "       [ 4.32410627e-04],\n",
       "       [-1.70160609e-04],\n",
       "       [-7.42821139e-05],\n",
       "       [ 2.12513478e-04],\n",
       "       [-6.46504486e-05],\n",
       "       [ 8.76824022e-04],\n",
       "       [ 2.13309089e-04],\n",
       "       [ 3.75213160e-04],\n",
       "       [ 8.28300981e-05],\n",
       "       [ 8.14012601e-05],\n",
       "       [ 4.83697077e-04],\n",
       "       [ 7.38260569e-05],\n",
       "       [ 8.40140856e-04],\n",
       "       [-2.25344265e-05],\n",
       "       [ 4.87039390e-04],\n",
       "       [-1.59594987e-04],\n",
       "       [ 2.89390387e-04],\n",
       "       [ 1.23610138e-04],\n",
       "       [-4.35283000e-04],\n",
       "       [-3.87273321e-05],\n",
       "       [-9.43995110e-05],\n",
       "       [ 7.32506625e-04],\n",
       "       [-1.42254605e-04],\n",
       "       [ 7.70846455e-05],\n",
       "       [ 9.43988271e-05],\n",
       "       [ 1.28223532e-04],\n",
       "       [ 1.25863444e-04],\n",
       "       [-1.67863647e-04],\n",
       "       [ 1.80929725e-04],\n",
       "       [ 7.04191625e-04],\n",
       "       [ 2.20018934e-04],\n",
       "       [-1.49470317e-04],\n",
       "       [ 1.01660509e-04],\n",
       "       [ 1.10788061e-03],\n",
       "       [ 3.87976237e-04],\n",
       "       [ 3.88077751e-05],\n",
       "       [ 5.57636493e-04],\n",
       "       [ 6.19259197e-04],\n",
       "       [ 1.36564820e-04],\n",
       "       [ 3.22386215e-04],\n",
       "       [ 5.11486178e-05],\n",
       "       [-2.18759436e-04],\n",
       "       [-1.14121307e-04],\n",
       "       [-1.15574774e-04],\n",
       "       [-5.22233313e-05],\n",
       "       [ 3.86848056e-04],\n",
       "       [-7.97623507e-05],\n",
       "       [ 1.28427986e-04],\n",
       "       [ 9.76446390e-05],\n",
       "       [-1.33881171e-04],\n",
       "       [ 9.52101836e-05],\n",
       "       [ 2.33895116e-04],\n",
       "       [ 6.40935832e-05],\n",
       "       [ 2.12540341e-04],\n",
       "       [-7.01659737e-05],\n",
       "       [ 3.61668121e-04],\n",
       "       [ 5.87157672e-04],\n",
       "       [ 7.63229153e-04],\n",
       "       [-2.76632709e-05],\n",
       "       [ 1.27625593e-04],\n",
       "       [ 9.10920440e-04],\n",
       "       [ 3.21704953e-04],\n",
       "       [ 7.16718088e-04],\n",
       "       [ 6.30887807e-04],\n",
       "       [ 9.55053401e-05],\n",
       "       [ 7.26437429e-05],\n",
       "       [ 1.03038925e-04],\n",
       "       [ 1.66148966e-04],\n",
       "       [ 8.98340950e-04],\n",
       "       [-3.55616939e-05],\n",
       "       [-2.79205451e-05],\n",
       "       [ 2.68767588e-04],\n",
       "       [ 1.93260435e-04],\n",
       "       [-7.72193816e-05],\n",
       "       [ 2.21692608e-06],\n",
       "       [ 9.58791003e-04],\n",
       "       [-3.19608662e-04],\n",
       "       [ 6.52972958e-04],\n",
       "       [-1.93692278e-04],\n",
       "       [ 4.49176237e-04],\n",
       "       [-9.60023172e-05],\n",
       "       [ 9.56900825e-04],\n",
       "       [ 9.25305649e-04],\n",
       "       [ 1.05099846e-03],\n",
       "       [-8.63113673e-05],\n",
       "       [ 3.59474827e-04],\n",
       "       [-1.01875194e-04],\n",
       "       [ 1.08321627e-04],\n",
       "       [ 2.76851963e-04],\n",
       "       [ 4.06243780e-04],\n",
       "       [ 6.10540737e-04],\n",
       "       [ 4.08957945e-04],\n",
       "       [-1.93083019e-04],\n",
       "       [ 6.88256521e-04],\n",
       "       [ 2.73991434e-04],\n",
       "       [-1.26520055e-04],\n",
       "       [ 9.28244845e-05],\n",
       "       [ 7.84094736e-05],\n",
       "       [ 8.17692955e-04],\n",
       "       [-1.29942957e-04],\n",
       "       [ 3.78702476e-04],\n",
       "       [ 4.26485494e-04],\n",
       "       [-7.78046742e-05],\n",
       "       [ 2.09920021e-04],\n",
       "       [ 9.51185939e-04],\n",
       "       [ 3.04730143e-04],\n",
       "       [ 6.30614406e-04],\n",
       "       [-3.93745140e-05],\n",
       "       [-1.75057852e-04],\n",
       "       [ 2.36195294e-04],\n",
       "       [ 1.66966434e-04],\n",
       "       [ 2.28425764e-04],\n",
       "       [ 4.32414163e-05],\n",
       "       [ 2.66766641e-04],\n",
       "       [ 3.78890516e-04],\n",
       "       [ 6.27313973e-04],\n",
       "       [-1.51113083e-04],\n",
       "       [ 2.21376889e-04],\n",
       "       [ 1.20427139e-05],\n",
       "       [ 1.12588896e-06],\n",
       "       [ 2.51587946e-04],\n",
       "       [ 5.77569415e-04],\n",
       "       [-1.89929851e-04],\n",
       "       [-1.43767247e-04],\n",
       "       [ 1.53508256e-04],\n",
       "       [ 3.24870198e-05],\n",
       "       [ 6.48482586e-04],\n",
       "       [ 4.93747240e-04],\n",
       "       [ 2.90028402e-05],\n",
       "       [ 1.50469714e-04],\n",
       "       [ 8.95309058e-05],\n",
       "       [ 1.56109934e-04]], dtype=float32)"
      ]
     },
     "execution_count": 35,
     "metadata": {},
     "output_type": "execute_result"
    }
   ],
   "source": [
    "pred = model2.predict(x_test)\n",
    "pred"
   ]
  },
  {
   "cell_type": "code",
   "execution_count": 36,
   "id": "b82b58ee",
   "metadata": {
    "ExecuteTime": {
     "end_time": "2023-03-23T15:38:37.143363Z",
     "start_time": "2023-03-23T15:38:37.119352Z"
    }
   },
   "outputs": [
    {
     "data": {
      "text/plain": [
       "150      0.034211\n",
       "6621    -0.107299\n",
       "9272    -0.047284\n",
       "13767    1.525759\n",
       "10266    1.416468\n",
       "           ...   \n",
       "9792     1.650213\n",
       "6342    -1.013852\n",
       "14520   -0.417486\n",
       "2643    -0.053601\n",
       "7979    -0.036544\n",
       "Name: TEY, Length: 301, dtype: float64"
      ]
     },
     "execution_count": 36,
     "metadata": {},
     "output_type": "execute_result"
    }
   ],
   "source": [
    "y_test"
   ]
  },
  {
   "cell_type": "code",
   "execution_count": 37,
   "id": "f6b6bc6f",
   "metadata": {
    "ExecuteTime": {
     "end_time": "2023-03-23T15:38:40.983669Z",
     "start_time": "2023-03-23T15:38:40.241376Z"
    }
   },
   "outputs": [
    {
     "name": "stdout",
     "output_type": "stream",
     "text": [
      "38/38 [==============================] - 1s 3ms/step - loss: 1.0104 - mse: 1.0104 - mae: 0.7063 - mape: 100.1158\n",
      "1.0103695392608643 1.0103695392608643 0.7063393592834473 100.1158218383789\n"
     ]
    }
   ],
   "source": [
    "loss, mae, mse, mape = model2.evaluate(x_train, y_train)\n",
    "print(loss, mae, mse, mape )"
   ]
  },
  {
   "cell_type": "code",
   "execution_count": 38,
   "id": "24da1ac6",
   "metadata": {
    "ExecuteTime": {
     "end_time": "2023-03-23T15:38:43.696840Z",
     "start_time": "2023-03-23T15:38:43.497379Z"
    }
   },
   "outputs": [
    {
     "name": "stdout",
     "output_type": "stream",
     "text": [
      "10/10 [==============================] - 0s 3ms/step - loss: 0.9276 - mse: 0.9276 - mae: 0.6617 - mape: 100.0131\n",
      "0.9275950789451599 0.9275950789451599 0.6616629958152771 100.01305389404297\n"
     ]
    }
   ],
   "source": [
    "loss, mae, mse, mape = model2.evaluate(x_test, y_test)\n",
    "print(loss, mae, mse, mape )"
   ]
  },
  {
   "cell_type": "code",
   "execution_count": 39,
   "id": "640ee6ca",
   "metadata": {
    "ExecuteTime": {
     "end_time": "2023-03-23T15:38:45.100907Z",
     "start_time": "2023-03-23T15:38:45.085945Z"
    }
   },
   "outputs": [
    {
     "data": {
      "text/plain": [
       "<keras.wrappers.scikit_learn.KerasRegressor at 0x1acb3a65a30>"
      ]
     },
     "execution_count": 39,
     "metadata": {},
     "output_type": "execute_result"
    }
   ],
   "source": [
    "model = KerasRegressor(build_fn = create_model,verbose = 0)\n",
    "model"
   ]
  },
  {
   "cell_type": "code",
   "execution_count": 40,
   "id": "f64399f7",
   "metadata": {
    "ExecuteTime": {
     "end_time": "2023-03-23T15:38:46.420564Z",
     "start_time": "2023-03-23T15:38:46.408999Z"
    }
   },
   "outputs": [],
   "source": [
    "batch_size = [10,20,40]\n",
    "epochs = [10,50,70]"
   ]
  },
  {
   "cell_type": "code",
   "execution_count": 41,
   "id": "bd066600",
   "metadata": {
    "ExecuteTime": {
     "end_time": "2023-03-23T15:38:47.685700Z",
     "start_time": "2023-03-23T15:38:47.665400Z"
    }
   },
   "outputs": [
    {
     "data": {
      "text/plain": [
       "{'batch_size': [10, 20, 40], 'epochs': [10, 50, 70]}"
      ]
     },
     "execution_count": 41,
     "metadata": {},
     "output_type": "execute_result"
    }
   ],
   "source": [
    "param_grid = dict(batch_size = batch_size,epochs = epochs)\n",
    "param_grid"
   ]
  },
  {
   "cell_type": "code",
   "execution_count": 42,
   "id": "31c03720",
   "metadata": {
    "ExecuteTime": {
     "end_time": "2023-03-23T15:46:56.642143Z",
     "start_time": "2023-03-23T15:38:52.340380Z"
    }
   },
   "outputs": [
    {
     "data": {
      "text/plain": [
       "GridSearchCV(cv=KFold(n_splits=5, random_state=None, shuffle=False),\n",
       "             estimator=<keras.wrappers.scikit_learn.KerasRegressor object at 0x000001ACB3A65A30>,\n",
       "             param_grid={'batch_size': [10, 20, 40], 'epochs': [10, 50, 70]})"
      ]
     },
     "execution_count": 42,
     "metadata": {},
     "output_type": "execute_result"
    }
   ],
   "source": [
    "grid = GridSearchCV(estimator = model,param_grid = param_grid,cv = KFold(),verbose = 0)\n",
    "grid_result = grid.fit(x_train,y_train)\n",
    "grid_result "
   ]
  },
  {
   "cell_type": "code",
   "execution_count": 43,
   "id": "14faec3b",
   "metadata": {
    "ExecuteTime": {
     "end_time": "2023-03-23T15:58:25.319857Z",
     "start_time": "2023-03-23T15:58:25.307937Z"
    }
   },
   "outputs": [
    {
     "name": "stdout",
     "output_type": "stream",
     "text": [
      "Best : -0.007580121606588363, using {'batch_size': 20, 'epochs': 70}\n",
      "-0.013875299133360386,0.003097723668127068 with: {'batch_size': 10, 'epochs': 10}\n",
      "-0.00872427700087428,0.0021164242404181984 with: {'batch_size': 10, 'epochs': 50}\n",
      "-0.00961076058447361,0.0013302414119341864 with: {'batch_size': 10, 'epochs': 70}\n",
      "-0.013380513153970241,0.0030241638000626423 with: {'batch_size': 20, 'epochs': 10}\n",
      "-0.010933064017444849,0.003954182353225398 with: {'batch_size': 20, 'epochs': 50}\n",
      "-0.007580121606588363,0.0008212208392379119 with: {'batch_size': 20, 'epochs': 70}\n",
      "-0.012368007190525531,0.002225330307652057 with: {'batch_size': 40, 'epochs': 10}\n",
      "-0.009232147689908743,0.0019092341658481363 with: {'batch_size': 40, 'epochs': 50}\n",
      "-0.014149833004921675,0.006930436241215628 with: {'batch_size': 40, 'epochs': 70}\n"
     ]
    }
   ],
   "source": [
    "print('Best : {}, using {}'.format(grid_result.best_score_,grid_result.best_params_))\n",
    "means = grid_result.cv_results_['mean_test_score']\n",
    "stds = grid_result.cv_results_['std_test_score']\n",
    "params = grid_result.cv_results_['params']\n",
    "for mean, stdev, param in zip(means, stds, params):\n",
    "  print('{},{} with: {}'.format(mean, stdev, param))"
   ]
  },
  {
   "cell_type": "code",
   "execution_count": 44,
   "id": "df11d6d8",
   "metadata": {
    "ExecuteTime": {
     "end_time": "2023-03-23T15:58:28.224773Z",
     "start_time": "2023-03-23T15:58:28.208981Z"
    }
   },
   "outputs": [],
   "source": [
    "from keras.layers import Dropout\n",
    "def create_model(learning_rate,dropout_rate):\n",
    "    model = Sequential()\n",
    "    model.add(Dense(32,input_dim = 6,kernel_initializer = 'uniform',activation = 'relu'))\n",
    "    model.add(Dropout(dropout_rate))\n",
    "    model.add(Dense(32,kernel_initializer = 'uniform',activation = 'relu'))\n",
    "    model.add(Dropout(dropout_rate))\n",
    "    model.add(Dense(64,kernel_initializer = 'uniform',activation = 'relu'))\n",
    "    model.add(Dropout(dropout_rate))\n",
    "    model.add(Dense(128,kernel_initializer = 'uniform',activation = 'relu'))\n",
    "    model.add(Dropout(dropout_rate))\n",
    "    model.add(Dense(1))\n",
    "    \n",
    "    adam = Adam(learning_rate = learning_rate)\n",
    "    model.compile(loss = 'mse', optimizer = adam,metrics = ['mse', 'mae', 'mape'])\n",
    "    return model"
   ]
  },
  {
   "cell_type": "code",
   "execution_count": 45,
   "id": "e294c431",
   "metadata": {
    "ExecuteTime": {
     "end_time": "2023-03-23T15:58:31.609989Z",
     "start_time": "2023-03-23T15:58:31.589641Z"
    }
   },
   "outputs": [
    {
     "data": {
      "text/plain": [
       "<keras.wrappers.scikit_learn.KerasRegressor at 0x1acbacf8be0>"
      ]
     },
     "execution_count": 45,
     "metadata": {},
     "output_type": "execute_result"
    }
   ],
   "source": [
    "model = KerasRegressor(build_fn = create_model,verbose = 0,batch_size = 70,epochs = 300)\n",
    "model"
   ]
  },
  {
   "cell_type": "code",
   "execution_count": 46,
   "id": "196cd7d7",
   "metadata": {
    "ExecuteTime": {
     "end_time": "2023-03-23T15:58:35.493642Z",
     "start_time": "2023-03-23T15:58:35.479315Z"
    }
   },
   "outputs": [],
   "source": [
    "activation_function = ['softmax','relu','tanh','linear']\n",
    "init = ['uniform','normal','zero']"
   ]
  },
  {
   "cell_type": "code",
   "execution_count": 47,
   "id": "951a5da6",
   "metadata": {
    "ExecuteTime": {
     "end_time": "2023-03-23T15:58:37.789767Z",
     "start_time": "2023-03-23T15:58:37.774774Z"
    }
   },
   "outputs": [
    {
     "name": "stdout",
     "output_type": "stream",
     "text": [
      "[0.001, 0.01, 0.1] [0.0, 0.1, 0.2]\n"
     ]
    }
   ],
   "source": [
    "learning_rate = [0.001,0.01,0.1]\n",
    "dropout_rate = [0.0,0.1,0.2]\n",
    "print(learning_rate,dropout_rate)"
   ]
  },
  {
   "cell_type": "code",
   "execution_count": 48,
   "id": "a405a67e",
   "metadata": {
    "ExecuteTime": {
     "end_time": "2023-03-23T15:58:43.955079Z",
     "start_time": "2023-03-23T15:58:43.932625Z"
    }
   },
   "outputs": [
    {
     "data": {
      "text/plain": [
       "{'learning_rate': [0.001, 0.01, 0.1], 'dropout_rate': [0.0, 0.1, 0.2]}"
      ]
     },
     "execution_count": 48,
     "metadata": {},
     "output_type": "execute_result"
    }
   ],
   "source": [
    "param_grids = dict(learning_rate = learning_rate,dropout_rate = dropout_rate)\n",
    "param_grids"
   ]
  },
  {
   "cell_type": "code",
   "execution_count": null,
   "id": "7aa82296",
   "metadata": {
    "ExecuteTime": {
     "end_time": "2023-03-23T16:09:59.353200Z",
     "start_time": "2023-03-23T15:58:46.618224Z"
    }
   },
   "outputs": [],
   "source": [
    "grid = GridSearchCV(estimator = model,param_grid = param_grids,cv = KFold(),verbose = 0)\n",
    "grid_result = grid.fit(x_train,y_train)\n",
    "grid_result "
   ]
  },
  {
   "cell_type": "code",
   "execution_count": 50,
   "id": "95e5e41e",
   "metadata": {
    "ExecuteTime": {
     "end_time": "2023-03-23T16:10:28.233579Z",
     "start_time": "2023-03-23T16:10:28.223236Z"
    }
   },
   "outputs": [
    {
     "name": "stdout",
     "output_type": "stream",
     "text": [
      "Best : -0.007042883988469839, using {'dropout_rate': 0.0, 'learning_rate': 0.001}\n",
      "-0.007042883988469839,0.0009184255272639178 with: {'dropout_rate': 0.0, 'learning_rate': 0.001}\n",
      "-0.007576715108007193,0.0012413448475515677 with: {'dropout_rate': 0.0, 'learning_rate': 0.01}\n",
      "-0.5110835833474994,0.4464371004708078 with: {'dropout_rate': 0.0, 'learning_rate': 0.1}\n",
      "-0.008544685505330562,0.0016681931149835983 with: {'dropout_rate': 0.1, 'learning_rate': 0.001}\n",
      "-0.013409305643290282,0.0040501875868365605 with: {'dropout_rate': 0.1, 'learning_rate': 0.01}\n",
      "-0.5514485672116279,0.37023397670285196 with: {'dropout_rate': 0.1, 'learning_rate': 0.1}\n",
      "-0.010135337337851524,0.002035368242373483 with: {'dropout_rate': 0.2, 'learning_rate': 0.001}\n",
      "-0.017349790222942828,0.003701493335974118 with: {'dropout_rate': 0.2, 'learning_rate': 0.01}\n",
      "-0.6105148613452911,0.31237502906349374 with: {'dropout_rate': 0.2, 'learning_rate': 0.1}\n"
     ]
    }
   ],
   "source": [
    "print('Best : {}, using {}'.format(grid_result.best_score_,grid_result.best_params_))\n",
    "means = grid_result.cv_results_['mean_test_score']\n",
    "stds = grid_result.cv_results_['std_test_score']\n",
    "params = grid_result.cv_results_['params']\n",
    "for mean, stdev, param in zip(means, stds, params):\n",
    "  print('{},{} with: {}'.format(mean, stdev, param))"
   ]
  },
  {
   "cell_type": "code",
   "execution_count": 51,
   "id": "8e437f80",
   "metadata": {
    "ExecuteTime": {
     "end_time": "2023-03-23T17:08:34.066330Z",
     "start_time": "2023-03-23T17:08:34.055055Z"
    }
   },
   "outputs": [],
   "source": [
    "def create_model(neuron1,neuron2):\n",
    "    model = Sequential()\n",
    "    model.add(Dense(neuron1,input_dim = 6,kernel_initializer = 'uniform',activation = 'relu'))\n",
    "    model.add(Dense(neuron2,input_dim = neuron1,kernel_initializer = 'uniform',activation = 'relu'))\n",
    "    model.add(Dense(1))\n",
    "    \n",
    "    adam = Adam(lerning_rate = 0.001)\n",
    "    model.compile(loss = 'mse',optimizer = adam,metrics = ['mse', 'mae', 'mape'])\n",
    "    return model"
   ]
  },
  {
   "cell_type": "code",
   "execution_count": 52,
   "id": "6416bc22",
   "metadata": {
    "ExecuteTime": {
     "end_time": "2023-03-23T17:08:35.180347Z",
     "start_time": "2023-03-23T17:08:35.162322Z"
    }
   },
   "outputs": [
    {
     "data": {
      "text/plain": [
       "<keras.wrappers.scikit_learn.KerasRegressor at 0x1acb6f2a400>"
      ]
     },
     "execution_count": 52,
     "metadata": {},
     "output_type": "execute_result"
    }
   ],
   "source": [
    "model = KerasRegressor(build_fn = create_model,verbose = 0,batch_size = 70,epochs = 300)\n",
    "model"
   ]
  },
  {
   "cell_type": "code",
   "execution_count": 53,
   "id": "8ba2652a",
   "metadata": {
    "ExecuteTime": {
     "end_time": "2023-03-23T17:08:36.425212Z",
     "start_time": "2023-03-23T17:08:36.413594Z"
    }
   },
   "outputs": [
    {
     "name": "stdout",
     "output_type": "stream",
     "text": [
      "[4, 8, 16] [2, 4, 8]\n"
     ]
    }
   ],
   "source": [
    "neuron1 = [4,8,16]\n",
    "neuron2 = [2,4,8]\n",
    "print(neuron1,neuron2)"
   ]
  },
  {
   "cell_type": "code",
   "execution_count": 54,
   "id": "ef59f49b",
   "metadata": {
    "ExecuteTime": {
     "end_time": "2023-03-23T17:09:46.134176Z",
     "start_time": "2023-03-23T17:09:46.109429Z"
    }
   },
   "outputs": [
    {
     "data": {
      "text/plain": [
       "{'neuron1': [4, 8, 16], 'neuron2': [2, 4, 8]}"
      ]
     },
     "execution_count": 54,
     "metadata": {},
     "output_type": "execute_result"
    }
   ],
   "source": [
    "param_grids = dict(neuron1 = neuron1,neuron2 = neuron2)\n",
    "param_grids"
   ]
  },
  {
   "cell_type": "code",
   "execution_count": 55,
   "id": "44d41d8a",
   "metadata": {
    "ExecuteTime": {
     "end_time": "2023-03-23T17:09:51.018447Z",
     "start_time": "2023-03-23T17:09:48.671214Z"
    }
   },
   "outputs": [
    {
     "name": "stdout",
     "output_type": "stream",
     "text": [
      "Fitting 5 folds for each of 9 candidates, totalling 45 fits\n",
      "[CV 1/5; 1/9] START neuron1=4, neuron2=2........................................\n",
      "[CV 1/5; 1/9] END ...........neuron1=4, neuron2=2;, score=nan total time=   0.0s\n",
      "[CV 2/5; 1/9] START neuron1=4, neuron2=2........................................\n",
      "[CV 2/5; 1/9] END ...........neuron1=4, neuron2=2;, score=nan total time=   0.0s\n",
      "[CV 3/5; 1/9] START neuron1=4, neuron2=2........................................\n",
      "[CV 3/5; 1/9] END ...........neuron1=4, neuron2=2;, score=nan total time=   0.0s\n",
      "[CV 4/5; 1/9] START neuron1=4, neuron2=2........................................\n",
      "[CV 4/5; 1/9] END ...........neuron1=4, neuron2=2;, score=nan total time=   0.0s\n",
      "[CV 5/5; 1/9] START neuron1=4, neuron2=2........................................\n",
      "[CV 5/5; 1/9] END ...........neuron1=4, neuron2=2;, score=nan total time=   0.0s\n",
      "[CV 1/5; 2/9] START neuron1=4, neuron2=4........................................\n",
      "[CV 1/5; 2/9] END ...........neuron1=4, neuron2=4;, score=nan total time=   0.0s\n",
      "[CV 2/5; 2/9] START neuron1=4, neuron2=4........................................\n",
      "[CV 2/5; 2/9] END ...........neuron1=4, neuron2=4;, score=nan total time=   0.0s\n",
      "[CV 3/5; 2/9] START neuron1=4, neuron2=4........................................\n",
      "[CV 3/5; 2/9] END ...........neuron1=4, neuron2=4;, score=nan total time=   0.0s\n",
      "[CV 4/5; 2/9] START neuron1=4, neuron2=4........................................\n",
      "[CV 4/5; 2/9] END ...........neuron1=4, neuron2=4;, score=nan total time=   0.0s\n",
      "[CV 5/5; 2/9] START neuron1=4, neuron2=4........................................\n",
      "[CV 5/5; 2/9] END ...........neuron1=4, neuron2=4;, score=nan total time=   0.0s\n",
      "[CV 1/5; 3/9] START neuron1=4, neuron2=8........................................\n",
      "[CV 1/5; 3/9] END ...........neuron1=4, neuron2=8;, score=nan total time=   0.0s\n",
      "[CV 2/5; 3/9] START neuron1=4, neuron2=8........................................\n",
      "[CV 2/5; 3/9] END ...........neuron1=4, neuron2=8;, score=nan total time=   0.0s\n",
      "[CV 3/5; 3/9] START neuron1=4, neuron2=8........................................\n",
      "[CV 3/5; 3/9] END ...........neuron1=4, neuron2=8;, score=nan total time=   0.0s\n",
      "[CV 4/5; 3/9] START neuron1=4, neuron2=8........................................\n",
      "[CV 4/5; 3/9] END ...........neuron1=4, neuron2=8;, score=nan total time=   0.0s\n",
      "[CV 5/5; 3/9] START neuron1=4, neuron2=8........................................\n",
      "[CV 5/5; 3/9] END ...........neuron1=4, neuron2=8;, score=nan total time=   0.0s\n",
      "[CV 1/5; 4/9] START neuron1=8, neuron2=2........................................\n",
      "[CV 1/5; 4/9] END ...........neuron1=8, neuron2=2;, score=nan total time=   0.0s\n",
      "[CV 2/5; 4/9] START neuron1=8, neuron2=2........................................\n",
      "[CV 2/5; 4/9] END ...........neuron1=8, neuron2=2;, score=nan total time=   0.0s\n",
      "[CV 3/5; 4/9] START neuron1=8, neuron2=2........................................\n",
      "[CV 3/5; 4/9] END ...........neuron1=8, neuron2=2;, score=nan total time=   0.0s\n",
      "[CV 4/5; 4/9] START neuron1=8, neuron2=2........................................\n",
      "[CV 4/5; 4/9] END ...........neuron1=8, neuron2=2;, score=nan total time=   0.0s\n",
      "[CV 5/5; 4/9] START neuron1=8, neuron2=2........................................\n",
      "[CV 5/5; 4/9] END ...........neuron1=8, neuron2=2;, score=nan total time=   0.0s\n",
      "[CV 1/5; 5/9] START neuron1=8, neuron2=4........................................\n",
      "[CV 1/5; 5/9] END ...........neuron1=8, neuron2=4;, score=nan total time=   0.0s\n",
      "[CV 2/5; 5/9] START neuron1=8, neuron2=4........................................\n",
      "[CV 2/5; 5/9] END ...........neuron1=8, neuron2=4;, score=nan total time=   0.0s\n",
      "[CV 3/5; 5/9] START neuron1=8, neuron2=4........................................\n",
      "[CV 3/5; 5/9] END ...........neuron1=8, neuron2=4;, score=nan total time=   0.0s\n",
      "[CV 4/5; 5/9] START neuron1=8, neuron2=4........................................\n",
      "[CV 4/5; 5/9] END ...........neuron1=8, neuron2=4;, score=nan total time=   0.0s\n",
      "[CV 5/5; 5/9] START neuron1=8, neuron2=4........................................\n",
      "[CV 5/5; 5/9] END ...........neuron1=8, neuron2=4;, score=nan total time=   0.0s\n",
      "[CV 1/5; 6/9] START neuron1=8, neuron2=8........................................\n",
      "[CV 1/5; 6/9] END ...........neuron1=8, neuron2=8;, score=nan total time=   0.0s\n",
      "[CV 2/5; 6/9] START neuron1=8, neuron2=8........................................\n",
      "[CV 2/5; 6/9] END ...........neuron1=8, neuron2=8;, score=nan total time=   0.0s\n",
      "[CV 3/5; 6/9] START neuron1=8, neuron2=8........................................\n",
      "[CV 3/5; 6/9] END ...........neuron1=8, neuron2=8;, score=nan total time=   0.0s\n",
      "[CV 4/5; 6/9] START neuron1=8, neuron2=8........................................\n",
      "[CV 4/5; 6/9] END ...........neuron1=8, neuron2=8;, score=nan total time=   0.0s\n",
      "[CV 5/5; 6/9] START neuron1=8, neuron2=8........................................\n",
      "[CV 5/5; 6/9] END ...........neuron1=8, neuron2=8;, score=nan total time=   0.0s\n",
      "[CV 1/5; 7/9] START neuron1=16, neuron2=2.......................................\n",
      "[CV 1/5; 7/9] END ..........neuron1=16, neuron2=2;, score=nan total time=   0.0s\n",
      "[CV 2/5; 7/9] START neuron1=16, neuron2=2.......................................\n",
      "[CV 2/5; 7/9] END ..........neuron1=16, neuron2=2;, score=nan total time=   0.0s\n",
      "[CV 3/5; 7/9] START neuron1=16, neuron2=2.......................................\n",
      "[CV 3/5; 7/9] END ..........neuron1=16, neuron2=2;, score=nan total time=   0.0s\n",
      "[CV 4/5; 7/9] START neuron1=16, neuron2=2.......................................\n",
      "[CV 4/5; 7/9] END ..........neuron1=16, neuron2=2;, score=nan total time=   0.0s\n",
      "[CV 5/5; 7/9] START neuron1=16, neuron2=2.......................................\n",
      "[CV 5/5; 7/9] END ..........neuron1=16, neuron2=2;, score=nan total time=   0.0s\n",
      "[CV 1/5; 8/9] START neuron1=16, neuron2=4.......................................\n",
      "[CV 1/5; 8/9] END ..........neuron1=16, neuron2=4;, score=nan total time=   0.0s\n",
      "[CV 2/5; 8/9] START neuron1=16, neuron2=4.......................................\n",
      "[CV 2/5; 8/9] END ..........neuron1=16, neuron2=4;, score=nan total time=   0.0s\n",
      "[CV 3/5; 8/9] START neuron1=16, neuron2=4.......................................\n",
      "[CV 3/5; 8/9] END ..........neuron1=16, neuron2=4;, score=nan total time=   0.0s\n",
      "[CV 4/5; 8/9] START neuron1=16, neuron2=4.......................................\n",
      "[CV 4/5; 8/9] END ..........neuron1=16, neuron2=4;, score=nan total time=   0.0s\n",
      "[CV 5/5; 8/9] START neuron1=16, neuron2=4.......................................\n",
      "[CV 5/5; 8/9] END ..........neuron1=16, neuron2=4;, score=nan total time=   0.0s\n",
      "[CV 1/5; 9/9] START neuron1=16, neuron2=8.......................................\n",
      "[CV 1/5; 9/9] END ..........neuron1=16, neuron2=8;, score=nan total time=   0.0s\n",
      "[CV 2/5; 9/9] START neuron1=16, neuron2=8.......................................\n",
      "[CV 2/5; 9/9] END ..........neuron1=16, neuron2=8;, score=nan total time=   0.0s\n",
      "[CV 3/5; 9/9] START neuron1=16, neuron2=8.......................................\n",
      "[CV 3/5; 9/9] END ..........neuron1=16, neuron2=8;, score=nan total time=   0.0s\n",
      "[CV 4/5; 9/9] START neuron1=16, neuron2=8.......................................\n",
      "[CV 4/5; 9/9] END ..........neuron1=16, neuron2=8;, score=nan total time=   0.0s\n",
      "[CV 5/5; 9/9] START neuron1=16, neuron2=8.......................................\n",
      "[CV 5/5; 9/9] END ..........neuron1=16, neuron2=8;, score=nan total time=   0.0s\n"
     ]
    },
    {
     "ename": "TypeError",
     "evalue": "lerning_rate is not a valid argument, kwargs should be empty  for `optimizer_experimental.Optimizer`.",
     "output_type": "error",
     "traceback": [
      "\u001b[1;31m---------------------------------------------------------------------------\u001b[0m",
      "\u001b[1;31mTypeError\u001b[0m                                 Traceback (most recent call last)",
      "\u001b[1;32m~\\AppData\\Local\\Temp\\ipykernel_5976\\733263518.py\u001b[0m in \u001b[0;36m<module>\u001b[1;34m\u001b[0m\n\u001b[0;32m      1\u001b[0m \u001b[0mgrid\u001b[0m \u001b[1;33m=\u001b[0m \u001b[0mGridSearchCV\u001b[0m\u001b[1;33m(\u001b[0m\u001b[0mestimator\u001b[0m \u001b[1;33m=\u001b[0m \u001b[0mmodel\u001b[0m\u001b[1;33m,\u001b[0m\u001b[0mparam_grid\u001b[0m \u001b[1;33m=\u001b[0m \u001b[0mparam_grids\u001b[0m\u001b[1;33m,\u001b[0m\u001b[0mcv\u001b[0m \u001b[1;33m=\u001b[0m \u001b[0mKFold\u001b[0m\u001b[1;33m(\u001b[0m\u001b[1;33m)\u001b[0m\u001b[1;33m,\u001b[0m\u001b[0mverbose\u001b[0m \u001b[1;33m=\u001b[0m \u001b[1;36m10\u001b[0m\u001b[1;33m)\u001b[0m\u001b[1;33m\u001b[0m\u001b[1;33m\u001b[0m\u001b[0m\n\u001b[1;32m----> 2\u001b[1;33m \u001b[0mgrid_result\u001b[0m \u001b[1;33m=\u001b[0m \u001b[0mgrid\u001b[0m\u001b[1;33m.\u001b[0m\u001b[0mfit\u001b[0m\u001b[1;33m(\u001b[0m\u001b[0mx_train\u001b[0m\u001b[1;33m,\u001b[0m\u001b[0my_train\u001b[0m\u001b[1;33m)\u001b[0m\u001b[1;33m\u001b[0m\u001b[1;33m\u001b[0m\u001b[0m\n\u001b[0m",
      "\u001b[1;32m~\\anaconda\\lib\\site-packages\\sklearn\\model_selection\\_search.py\u001b[0m in \u001b[0;36mfit\u001b[1;34m(self, X, y, groups, **fit_params)\u001b[0m\n\u001b[0;32m    924\u001b[0m             \u001b[0mrefit_start_time\u001b[0m \u001b[1;33m=\u001b[0m \u001b[0mtime\u001b[0m\u001b[1;33m.\u001b[0m\u001b[0mtime\u001b[0m\u001b[1;33m(\u001b[0m\u001b[1;33m)\u001b[0m\u001b[1;33m\u001b[0m\u001b[1;33m\u001b[0m\u001b[0m\n\u001b[0;32m    925\u001b[0m             \u001b[1;32mif\u001b[0m \u001b[0my\u001b[0m \u001b[1;32mis\u001b[0m \u001b[1;32mnot\u001b[0m \u001b[1;32mNone\u001b[0m\u001b[1;33m:\u001b[0m\u001b[1;33m\u001b[0m\u001b[1;33m\u001b[0m\u001b[0m\n\u001b[1;32m--> 926\u001b[1;33m                 \u001b[0mself\u001b[0m\u001b[1;33m.\u001b[0m\u001b[0mbest_estimator_\u001b[0m\u001b[1;33m.\u001b[0m\u001b[0mfit\u001b[0m\u001b[1;33m(\u001b[0m\u001b[0mX\u001b[0m\u001b[1;33m,\u001b[0m \u001b[0my\u001b[0m\u001b[1;33m,\u001b[0m \u001b[1;33m**\u001b[0m\u001b[0mfit_params\u001b[0m\u001b[1;33m)\u001b[0m\u001b[1;33m\u001b[0m\u001b[1;33m\u001b[0m\u001b[0m\n\u001b[0m\u001b[0;32m    927\u001b[0m             \u001b[1;32melse\u001b[0m\u001b[1;33m:\u001b[0m\u001b[1;33m\u001b[0m\u001b[1;33m\u001b[0m\u001b[0m\n\u001b[0;32m    928\u001b[0m                 \u001b[0mself\u001b[0m\u001b[1;33m.\u001b[0m\u001b[0mbest_estimator_\u001b[0m\u001b[1;33m.\u001b[0m\u001b[0mfit\u001b[0m\u001b[1;33m(\u001b[0m\u001b[0mX\u001b[0m\u001b[1;33m,\u001b[0m \u001b[1;33m**\u001b[0m\u001b[0mfit_params\u001b[0m\u001b[1;33m)\u001b[0m\u001b[1;33m\u001b[0m\u001b[1;33m\u001b[0m\u001b[0m\n",
      "\u001b[1;32m~\\anaconda\\lib\\site-packages\\keras\\wrappers\\scikit_learn.py\u001b[0m in \u001b[0;36mfit\u001b[1;34m(self, x, y, **kwargs)\u001b[0m\n\u001b[0;32m    162\u001b[0m             )\n\u001b[0;32m    163\u001b[0m         \u001b[1;32melse\u001b[0m\u001b[1;33m:\u001b[0m\u001b[1;33m\u001b[0m\u001b[1;33m\u001b[0m\u001b[0m\n\u001b[1;32m--> 164\u001b[1;33m             \u001b[0mself\u001b[0m\u001b[1;33m.\u001b[0m\u001b[0mmodel\u001b[0m \u001b[1;33m=\u001b[0m \u001b[0mself\u001b[0m\u001b[1;33m.\u001b[0m\u001b[0mbuild_fn\u001b[0m\u001b[1;33m(\u001b[0m\u001b[1;33m**\u001b[0m\u001b[0mself\u001b[0m\u001b[1;33m.\u001b[0m\u001b[0mfilter_sk_params\u001b[0m\u001b[1;33m(\u001b[0m\u001b[0mself\u001b[0m\u001b[1;33m.\u001b[0m\u001b[0mbuild_fn\u001b[0m\u001b[1;33m)\u001b[0m\u001b[1;33m)\u001b[0m\u001b[1;33m\u001b[0m\u001b[1;33m\u001b[0m\u001b[0m\n\u001b[0m\u001b[0;32m    165\u001b[0m \u001b[1;33m\u001b[0m\u001b[0m\n\u001b[0;32m    166\u001b[0m         if (\n",
      "\u001b[1;32m~\\AppData\\Local\\Temp\\ipykernel_5976\\998987712.py\u001b[0m in \u001b[0;36mcreate_model\u001b[1;34m(neuron1, neuron2)\u001b[0m\n\u001b[0;32m      5\u001b[0m     \u001b[0mmodel\u001b[0m\u001b[1;33m.\u001b[0m\u001b[0madd\u001b[0m\u001b[1;33m(\u001b[0m\u001b[0mDense\u001b[0m\u001b[1;33m(\u001b[0m\u001b[1;36m1\u001b[0m\u001b[1;33m)\u001b[0m\u001b[1;33m)\u001b[0m\u001b[1;33m\u001b[0m\u001b[1;33m\u001b[0m\u001b[0m\n\u001b[0;32m      6\u001b[0m \u001b[1;33m\u001b[0m\u001b[0m\n\u001b[1;32m----> 7\u001b[1;33m     \u001b[0madam\u001b[0m \u001b[1;33m=\u001b[0m \u001b[0mAdam\u001b[0m\u001b[1;33m(\u001b[0m\u001b[0mlerning_rate\u001b[0m \u001b[1;33m=\u001b[0m \u001b[1;36m0.001\u001b[0m\u001b[1;33m)\u001b[0m\u001b[1;33m\u001b[0m\u001b[1;33m\u001b[0m\u001b[0m\n\u001b[0m\u001b[0;32m      8\u001b[0m     \u001b[0mmodel\u001b[0m\u001b[1;33m.\u001b[0m\u001b[0mcompile\u001b[0m\u001b[1;33m(\u001b[0m\u001b[0mloss\u001b[0m \u001b[1;33m=\u001b[0m \u001b[1;34m'mse'\u001b[0m\u001b[1;33m,\u001b[0m\u001b[0moptimizer\u001b[0m \u001b[1;33m=\u001b[0m \u001b[0madam\u001b[0m\u001b[1;33m,\u001b[0m\u001b[0mmetrics\u001b[0m \u001b[1;33m=\u001b[0m \u001b[1;33m[\u001b[0m\u001b[1;34m'mse'\u001b[0m\u001b[1;33m,\u001b[0m \u001b[1;34m'mae'\u001b[0m\u001b[1;33m,\u001b[0m \u001b[1;34m'mape'\u001b[0m\u001b[1;33m]\u001b[0m\u001b[1;33m)\u001b[0m\u001b[1;33m\u001b[0m\u001b[1;33m\u001b[0m\u001b[0m\n\u001b[0;32m      9\u001b[0m     \u001b[1;32mreturn\u001b[0m \u001b[0mmodel\u001b[0m\u001b[1;33m\u001b[0m\u001b[1;33m\u001b[0m\u001b[0m\n",
      "\u001b[1;32m~\\anaconda\\lib\\site-packages\\keras\\optimizers\\adam.py\u001b[0m in \u001b[0;36m__init__\u001b[1;34m(self, learning_rate, beta_1, beta_2, epsilon, amsgrad, weight_decay, clipnorm, clipvalue, global_clipnorm, use_ema, ema_momentum, ema_overwrite_frequency, jit_compile, name, **kwargs)\u001b[0m\n\u001b[0;32m    102\u001b[0m         \u001b[1;33m**\u001b[0m\u001b[0mkwargs\u001b[0m\u001b[1;33m\u001b[0m\u001b[1;33m\u001b[0m\u001b[0m\n\u001b[0;32m    103\u001b[0m     ):\n\u001b[1;32m--> 104\u001b[1;33m         super().__init__(\n\u001b[0m\u001b[0;32m    105\u001b[0m             \u001b[0mname\u001b[0m\u001b[1;33m=\u001b[0m\u001b[0mname\u001b[0m\u001b[1;33m,\u001b[0m\u001b[1;33m\u001b[0m\u001b[1;33m\u001b[0m\u001b[0m\n\u001b[0;32m    106\u001b[0m             \u001b[0mweight_decay\u001b[0m\u001b[1;33m=\u001b[0m\u001b[0mweight_decay\u001b[0m\u001b[1;33m,\u001b[0m\u001b[1;33m\u001b[0m\u001b[1;33m\u001b[0m\u001b[0m\n",
      "\u001b[1;32m~\\anaconda\\lib\\site-packages\\keras\\optimizers\\optimizer.py\u001b[0m in \u001b[0;36m__init__\u001b[1;34m(self, name, weight_decay, clipnorm, clipvalue, global_clipnorm, use_ema, ema_momentum, ema_overwrite_frequency, jit_compile, **kwargs)\u001b[0m\n\u001b[0;32m   1085\u001b[0m         \u001b[1;34m\"\"\"Create a new Optimizer.\"\"\"\u001b[0m\u001b[1;33m\u001b[0m\u001b[1;33m\u001b[0m\u001b[0m\n\u001b[0;32m   1086\u001b[0m \u001b[1;33m\u001b[0m\u001b[0m\n\u001b[1;32m-> 1087\u001b[1;33m         super().__init__(\n\u001b[0m\u001b[0;32m   1088\u001b[0m             \u001b[0mname\u001b[0m\u001b[1;33m,\u001b[0m\u001b[1;33m\u001b[0m\u001b[1;33m\u001b[0m\u001b[0m\n\u001b[0;32m   1089\u001b[0m             \u001b[0mweight_decay\u001b[0m\u001b[1;33m,\u001b[0m\u001b[1;33m\u001b[0m\u001b[1;33m\u001b[0m\u001b[0m\n",
      "\u001b[1;32m~\\anaconda\\lib\\site-packages\\keras\\optimizers\\optimizer.py\u001b[0m in \u001b[0;36m__init__\u001b[1;34m(self, name, weight_decay, clipnorm, clipvalue, global_clipnorm, use_ema, ema_momentum, ema_overwrite_frequency, jit_compile, **kwargs)\u001b[0m\n\u001b[0;32m    103\u001b[0m         \u001b[0mself\u001b[0m\u001b[1;33m.\u001b[0m\u001b[0m_variables\u001b[0m \u001b[1;33m=\u001b[0m \u001b[1;33m[\u001b[0m\u001b[1;33m]\u001b[0m\u001b[1;33m\u001b[0m\u001b[1;33m\u001b[0m\u001b[0m\n\u001b[0;32m    104\u001b[0m         \u001b[0mself\u001b[0m\u001b[1;33m.\u001b[0m\u001b[0m_create_iteration_variable\u001b[0m\u001b[1;33m(\u001b[0m\u001b[1;33m)\u001b[0m\u001b[1;33m\u001b[0m\u001b[1;33m\u001b[0m\u001b[0m\n\u001b[1;32m--> 105\u001b[1;33m         \u001b[0mself\u001b[0m\u001b[1;33m.\u001b[0m\u001b[0m_process_kwargs\u001b[0m\u001b[1;33m(\u001b[0m\u001b[0mkwargs\u001b[0m\u001b[1;33m)\u001b[0m\u001b[1;33m\u001b[0m\u001b[1;33m\u001b[0m\u001b[0m\n\u001b[0m\u001b[0;32m    106\u001b[0m \u001b[1;33m\u001b[0m\u001b[0m\n\u001b[0;32m    107\u001b[0m     \u001b[1;32mdef\u001b[0m \u001b[0m_create_iteration_variable\u001b[0m\u001b[1;33m(\u001b[0m\u001b[0mself\u001b[0m\u001b[1;33m)\u001b[0m\u001b[1;33m:\u001b[0m\u001b[1;33m\u001b[0m\u001b[1;33m\u001b[0m\u001b[0m\n",
      "\u001b[1;32m~\\anaconda\\lib\\site-packages\\keras\\optimizers\\optimizer.py\u001b[0m in \u001b[0;36m_process_kwargs\u001b[1;34m(self, kwargs)\u001b[0m\n\u001b[0;32m    139\u001b[0m                 )\n\u001b[0;32m    140\u001b[0m             \u001b[1;32melse\u001b[0m\u001b[1;33m:\u001b[0m\u001b[1;33m\u001b[0m\u001b[1;33m\u001b[0m\u001b[0m\n\u001b[1;32m--> 141\u001b[1;33m                 raise TypeError(\n\u001b[0m\u001b[0;32m    142\u001b[0m                     \u001b[1;34mf\"{k} is not a valid argument, kwargs should be empty \"\u001b[0m\u001b[1;33m\u001b[0m\u001b[1;33m\u001b[0m\u001b[0m\n\u001b[0;32m    143\u001b[0m                     \u001b[1;34m\" for `optimizer_experimental.Optimizer`.\"\u001b[0m\u001b[1;33m\u001b[0m\u001b[1;33m\u001b[0m\u001b[0m\n",
      "\u001b[1;31mTypeError\u001b[0m: lerning_rate is not a valid argument, kwargs should be empty  for `optimizer_experimental.Optimizer`."
     ]
    }
   ],
   "source": [
    "grid = GridSearchCV(estimator = model,param_grid = param_grids,cv = KFold(),verbose = 10)\n",
    "grid_result = grid.fit(x_train,y_train) "
   ]
  },
  {
   "cell_type": "code",
   "execution_count": 56,
   "id": "06d6af68",
   "metadata": {
    "ExecuteTime": {
     "end_time": "2023-03-23T16:13:44.601367Z",
     "start_time": "2023-03-23T16:13:44.584069Z"
    }
   },
   "outputs": [
    {
     "name": "stdout",
     "output_type": "stream",
     "text": [
      "Best : -0.007042883988469839, using {'dropout_rate': 0.0, 'learning_rate': 0.001}\n",
      "-0.007042883988469839,0.0009184255272639178 with: {'dropout_rate': 0.0, 'learning_rate': 0.001}\n",
      "-0.007576715108007193,0.0012413448475515677 with: {'dropout_rate': 0.0, 'learning_rate': 0.01}\n",
      "-0.5110835833474994,0.4464371004708078 with: {'dropout_rate': 0.0, 'learning_rate': 0.1}\n",
      "-0.008544685505330562,0.0016681931149835983 with: {'dropout_rate': 0.1, 'learning_rate': 0.001}\n",
      "-0.013409305643290282,0.0040501875868365605 with: {'dropout_rate': 0.1, 'learning_rate': 0.01}\n",
      "-0.5514485672116279,0.37023397670285196 with: {'dropout_rate': 0.1, 'learning_rate': 0.1}\n",
      "-0.010135337337851524,0.002035368242373483 with: {'dropout_rate': 0.2, 'learning_rate': 0.001}\n",
      "-0.017349790222942828,0.003701493335974118 with: {'dropout_rate': 0.2, 'learning_rate': 0.01}\n",
      "-0.6105148613452911,0.31237502906349374 with: {'dropout_rate': 0.2, 'learning_rate': 0.1}\n"
     ]
    }
   ],
   "source": [
    "print('Best : {}, using {}'.format(grid_result.best_score_,grid_result.best_params_))\n",
    "means = grid_result.cv_results_['mean_test_score']\n",
    "stds = grid_result.cv_results_['std_test_score']\n",
    "params = grid_result.cv_results_['params']\n",
    "for mean, stdev, param in zip(means, stds, params):\n",
    "  print('{},{} with: {}'.format(mean, stdev, param))"
   ]
  },
  {
   "cell_type": "code",
   "execution_count": 57,
   "id": "44434105",
   "metadata": {
    "ExecuteTime": {
     "end_time": "2023-03-23T16:13:48.446957Z",
     "start_time": "2023-03-23T16:13:48.422998Z"
    }
   },
   "outputs": [],
   "source": [
    "def create_model():\n",
    "    model = Sequential()\n",
    "    model.add(Dense(8, input_dim=6, kernel_initializer='uniform', activation='relu'))\n",
    "    model.add(Dense(128, kernel_initializer='uniform', activation='relu'))\n",
    "    model.add(Dense(64, kernel_initializer='uniform', activation='relu'))\n",
    "    model.add(Dense(128, kernel_initializer='uniform', activation='relu'))\n",
    "    model.add(Dense(1))\n",
    "    \n",
    "    adam=Adam(learning_rate=0.001)\n",
    "    model.compile(loss='mse', optimizer=adam, metrics=['mse', 'mae', 'mape'])\n",
    "    return model"
   ]
  },
  {
   "cell_type": "code",
   "execution_count": 58,
   "id": "00e2d7fc",
   "metadata": {
    "ExecuteTime": {
     "end_time": "2023-03-23T16:14:04.500847Z",
     "start_time": "2023-03-23T16:13:54.397131Z"
    }
   },
   "outputs": [
    {
     "name": "stdout",
     "output_type": "stream",
     "text": [
      "Here is the summary of our final model:\n",
      "Model: \"sequential_140\"\n",
      "_________________________________________________________________\n",
      " Layer (type)                Output Shape              Param #   \n",
      "=================================================================\n",
      " dense_560 (Dense)           (None, 8)                 56        \n",
      "                                                                 \n",
      " dense_561 (Dense)           (None, 128)               1152      \n",
      "                                                                 \n",
      " dense_562 (Dense)           (None, 64)                8256      \n",
      "                                                                 \n",
      " dense_563 (Dense)           (None, 128)               8320      \n",
      "                                                                 \n",
      " dense_564 (Dense)           (None, 1)                 129       \n",
      "                                                                 \n",
      "=================================================================\n",
      "Total params: 17,913\n",
      "Trainable params: 17,913\n",
      "Non-trainable params: 0\n",
      "_________________________________________________________________\n"
     ]
    }
   ],
   "source": [
    "epochs=30\n",
    "batch_size=10\n",
    "\n",
    "final_model=create_model()\n",
    "print(\"Here is the summary of our final model:\")\n",
    "final_model.summary()\n",
    "\n",
    "with tf.device('/GPU:0'):\n",
    "  final_model.fit(x_train,y_train, verbose = 0,batch_size = batch_size,epochs = epochs, shuffle=True)"
   ]
  },
  {
   "cell_type": "code",
   "execution_count": 59,
   "id": "5868a44a",
   "metadata": {
    "ExecuteTime": {
     "end_time": "2023-03-23T16:14:11.683501Z",
     "start_time": "2023-03-23T16:14:11.284053Z"
    }
   },
   "outputs": [
    {
     "name": "stdout",
     "output_type": "stream",
     "text": [
      "38/38 [==============================] - 0s 3ms/step - loss: 0.0105 - mse: 0.0105 - mae: 0.0771 - mape: 106.5743\n",
      "0.01054572407156229 0.01054572407156229 0.0771278664469719 106.5743408203125\n"
     ]
    }
   ],
   "source": [
    "loss, mae, mse, mape = final_model.evaluate(x_train, y_train)\n",
    "print(loss, mae, mse, mape)"
   ]
  },
  {
   "cell_type": "code",
   "execution_count": 60,
   "id": "16e0698f",
   "metadata": {
    "ExecuteTime": {
     "end_time": "2023-03-23T16:14:14.870253Z",
     "start_time": "2023-03-23T16:14:14.635510Z"
    }
   },
   "outputs": [
    {
     "name": "stdout",
     "output_type": "stream",
     "text": [
      "10/10 [==============================] - 0s 3ms/step\n",
      "[[-1.56387705e-02]\n",
      " [ 2.06325762e-03]\n",
      " [-2.69769859e-02]\n",
      " [ 1.69709063e+00]\n",
      " [ 1.41509855e+00]\n",
      " [ 2.03815084e-02]\n",
      " [-4.34064306e-02]\n",
      " [ 1.37725491e-02]\n",
      " [ 2.22162493e-02]\n",
      " [ 7.15668797e-02]\n",
      " [ 7.74605945e-03]\n",
      " [ 7.04997592e-03]\n",
      " [ 1.98621416e+00]\n",
      " [-1.45497608e+00]\n",
      " [ 1.69968754e-02]\n",
      " [ 1.06133318e+00]\n",
      " [-1.12361252e+00]\n",
      " [-1.46196413e+00]\n",
      " [ 1.70022953e+00]\n",
      " [ 1.83450188e-02]\n",
      " [ 5.24858117e-01]\n",
      " [ 8.77377950e-03]\n",
      " [ 1.69864321e+00]\n",
      " [-1.37951088e+00]\n",
      " [-1.44016027e+00]\n",
      " [ 7.65629485e-03]\n",
      " [-3.92275810e-01]\n",
      " [ 1.36641240e+00]\n",
      " [-7.99372979e-03]\n",
      " [ 1.01106837e-02]\n",
      " [ 4.14533317e-02]\n",
      " [ 4.41480242e-03]\n",
      " [ 4.32464629e-02]\n",
      " [ 1.54477715e+00]\n",
      " [-1.50199795e+00]\n",
      " [ 1.72189546e+00]\n",
      " [ 1.50828099e+00]\n",
      " [-9.30234231e-03]\n",
      " [-1.36196055e-03]\n",
      " [ 3.23524028e-02]\n",
      " [-1.45222259e+00]\n",
      " [ 4.56604920e-02]\n",
      " [ 1.94407836e-01]\n",
      " [ 1.05411317e-02]\n",
      " [-1.45741689e+00]\n",
      " [ 8.10595870e-01]\n",
      " [-1.98731385e-02]\n",
      " [ 6.62473083e-01]\n",
      " [ 1.29397202e+00]\n",
      " [ 1.66594788e-01]\n",
      " [ 3.46807390e-03]\n",
      " [-1.70389628e+00]\n",
      " [ 1.29163917e-02]\n",
      " [-2.89574619e-02]\n",
      " [-1.43657756e+00]\n",
      " [ 1.17204142e+00]\n",
      " [-3.05336535e-01]\n",
      " [-1.78486609e+00]\n",
      " [-1.40579432e-01]\n",
      " [-1.84425667e-01]\n",
      " [ 1.88450105e-02]\n",
      " [-1.37580800e+00]\n",
      " [-1.52665520e+00]\n",
      " [-5.44396520e-01]\n",
      " [ 1.87724090e+00]\n",
      " [-8.29876900e-01]\n",
      " [ 1.98765490e-02]\n",
      " [ 3.12200963e-01]\n",
      " [ 8.81049596e-03]\n",
      " [ 5.86870387e-02]\n",
      " [-6.49063587e-02]\n",
      " [-4.14635986e-04]\n",
      " [-8.70599970e-03]\n",
      " [ 5.32582030e-02]\n",
      " [ 5.27615845e-03]\n",
      " [-1.31856728e+00]\n",
      " [ 1.91123039e-03]\n",
      " [-1.47710609e+00]\n",
      " [-7.40384310e-02]\n",
      " [ 5.89472711e-01]\n",
      " [-1.69620347e+00]\n",
      " [-1.51315200e+00]\n",
      " [ 1.98487663e+00]\n",
      " [ 6.76102489e-02]\n",
      " [ 4.91565466e-03]\n",
      " [-1.36184812e+00]\n",
      " [ 1.05478859e+00]\n",
      " [-1.54524612e+00]\n",
      " [ 6.61337823e-02]\n",
      " [ 4.04335558e-04]\n",
      " [ 9.14799333e-01]\n",
      " [-6.07909337e-02]\n",
      " [ 1.20550466e+00]\n",
      " [ 2.46278429e+00]\n",
      " [ 1.08111948e-02]\n",
      " [ 1.28911436e+00]\n",
      " [ 1.19154397e-02]\n",
      " [ 3.64934281e-02]\n",
      " [ 1.30304750e-02]\n",
      " [ 2.04332042e+00]\n",
      " [-9.21033882e-03]\n",
      " [-1.36964619e+00]\n",
      " [ 3.30266282e-02]\n",
      " [ 5.32351062e-02]\n",
      " [-1.63843825e-01]\n",
      " [ 1.64935529e+00]\n",
      " [-4.69721854e-04]\n",
      " [ 1.10585165e+00]\n",
      " [ 2.17195249e+00]\n",
      " [ 3.59218009e-02]\n",
      " [ 3.54883894e-02]\n",
      " [ 1.98120546e+00]\n",
      " [ 1.15310800e+00]\n",
      " [ 8.53093922e-01]\n",
      " [ 3.28400806e-02]\n",
      " [-2.59062834e-03]\n",
      " [-1.53269744e+00]\n",
      " [-8.50090161e-02]\n",
      " [ 1.81228328e+00]\n",
      " [ 1.61726081e+00]\n",
      " [ 2.01718450e+00]\n",
      " [ 2.42907815e-02]\n",
      " [ 8.80951248e-03]\n",
      " [-1.87491179e+00]\n",
      " [-1.40849316e+00]\n",
      " [ 1.00399256e+00]\n",
      " [ 1.15366280e-02]\n",
      " [ 1.56795573e+00]\n",
      " [-2.98939403e-02]\n",
      " [ 2.03620648e+00]\n",
      " [ 1.97982240e+00]\n",
      " [ 7.15673529e-03]\n",
      " [ 5.13431728e-02]\n",
      " [ 6.00910895e-02]\n",
      " [-1.14472508e+00]\n",
      " [-1.73684204e+00]\n",
      " [ 5.84713928e-03]\n",
      " [ 1.75678384e+00]\n",
      " [ 1.63657069e-02]\n",
      " [ 4.89237010e-02]\n",
      " [ 2.65564285e-02]\n",
      " [-8.14468339e-02]\n",
      " [ 3.60540450e-02]\n",
      " [ 2.93520857e-02]\n",
      " [-5.42646460e-03]\n",
      " [ 3.53374705e-03]\n",
      " [ 1.53815486e-02]\n",
      " [-7.60237798e-02]\n",
      " [ 2.49147601e-03]\n",
      " [-1.49789107e+00]\n",
      " [ 4.64545749e-02]\n",
      " [-1.57714796e+00]\n",
      " [-1.57769549e+00]\n",
      " [ 7.68092215e-01]\n",
      " [ 1.97587535e-03]\n",
      " [-9.51590657e-01]\n",
      " [ 1.21883824e-02]\n",
      " [ 4.67758812e-03]\n",
      " [ 1.78644881e-02]\n",
      " [-4.80495915e-02]\n",
      " [-1.71227956e+00]\n",
      " [ 1.18264222e+00]\n",
      " [ 2.04380229e-02]\n",
      " [-5.03513217e-03]\n",
      " [ 1.09573137e-02]\n",
      " [ 7.08155036e-01]\n",
      " [ 6.91263750e-02]\n",
      " [-1.55896807e+00]\n",
      " [-1.77407395e-02]\n",
      " [-1.51950967e+00]\n",
      " [-3.10459696e-02]\n",
      " [ 1.56326313e-02]\n",
      " [-1.52192700e+00]\n",
      " [ 8.70146230e-03]\n",
      " [ 1.70531774e+00]\n",
      " [ 5.66898473e-03]\n",
      " [-1.52887917e+00]\n",
      " [-1.39740426e-02]\n",
      " [-1.88538566e-01]\n",
      " [-1.56842470e+00]\n",
      " [-1.28248119e+00]\n",
      " [ 1.59613228e+00]\n",
      " [-1.50212669e+00]\n",
      " [-1.38585269e+00]\n",
      " [ 9.42439400e-03]\n",
      " [-2.36796960e-03]\n",
      " [-8.97451043e-02]\n",
      " [-1.62220621e+00]\n",
      " [-1.49163532e+00]\n",
      " [ 2.36352663e-02]\n",
      " [ 1.74483442e+00]\n",
      " [ 1.06390007e-02]\n",
      " [-9.06215608e-02]\n",
      " [-1.10430457e-01]\n",
      " [ 2.24828124e-02]\n",
      " [-1.43218207e+00]\n",
      " [ 7.75201246e-04]\n",
      " [ 1.11490861e-03]\n",
      " [ 1.89515841e+00]\n",
      " [-1.41199064e+00]\n",
      " [ 1.45875718e-02]\n",
      " [ 3.19057889e-03]\n",
      " [ 1.41781187e+00]\n",
      " [ 2.80744396e-03]\n",
      " [ 4.17979583e-02]\n",
      " [ 2.19478202e+00]\n",
      " [-1.44013512e+00]\n",
      " [-1.41278338e-02]\n",
      " [ 3.66179459e-03]\n",
      " [ 3.20171788e-02]\n",
      " [ 1.22770756e-01]\n",
      " [ 5.27918190e-02]\n",
      " [-1.57755876e+00]\n",
      " [-1.29675996e+00]\n",
      " [-1.51381087e+00]\n",
      " [ 1.21564828e-02]\n",
      " [ 1.85382771e+00]\n",
      " [-8.11624750e-02]\n",
      " [ 5.79756685e-03]\n",
      " [-1.70386389e-01]\n",
      " [ 1.02896087e-01]\n",
      " [ 1.92833878e-03]\n",
      " [-7.27082610e-01]\n",
      " [ 8.78926367e-02]\n",
      " [ 3.80427390e-02]\n",
      " [ 1.78347898e+00]\n",
      " [ 1.00472045e+00]\n",
      " [-6.78637385e-01]\n",
      " [-2.10680559e-01]\n",
      " [ 1.51453829e+00]\n",
      " [ 1.98549964e-03]\n",
      " [-1.35694325e+00]\n",
      " [ 2.01588893e+00]\n",
      " [ 2.38068447e-01]\n",
      " [-1.44188058e+00]\n",
      " [-6.52219169e-03]\n",
      " [-2.12384705e-02]\n",
      " [ 1.05139971e+00]\n",
      " [-1.38550138e+00]\n",
      " [ 1.27188470e-02]\n",
      " [-1.54662943e+00]\n",
      " [-6.23594970e-02]\n",
      " [ 4.40935232e-03]\n",
      " [-1.43971968e+00]\n",
      " [ 1.38214827e+00]\n",
      " [-1.55488527e+00]\n",
      " [ 1.82522869e+00]\n",
      " [ 7.67200813e-03]\n",
      " [ 4.09880504e-02]\n",
      " [ 1.62238050e-02]\n",
      " [ 1.06120205e+00]\n",
      " [ 1.95254970e+00]\n",
      " [ 7.31082737e-01]\n",
      " [ 1.80022866e-02]\n",
      " [ 5.56938909e-03]\n",
      " [ 1.18891090e-01]\n",
      " [ 7.45477155e-04]\n",
      " [-9.20233428e-01]\n",
      " [-1.57593644e+00]\n",
      " [-1.51199877e+00]\n",
      " [ 2.15209603e+00]\n",
      " [-1.53793275e+00]\n",
      " [ 1.00711966e+00]\n",
      " [-1.18128955e-05]\n",
      " [-1.52887297e+00]\n",
      " [-6.07402772e-02]\n",
      " [ 1.35190681e-01]\n",
      " [ 1.63189793e+00]\n",
      " [ 2.31074896e-02]\n",
      " [ 4.01719287e-03]\n",
      " [-7.00455487e-01]\n",
      " [ 1.74375046e-02]\n",
      " [-1.12871802e+00]\n",
      " [ 1.13396096e+00]\n",
      " [ 4.73699234e-02]\n",
      " [ 1.66094542e+00]\n",
      " [-5.69525599e-01]\n",
      " [ 5.25686145e-02]\n",
      " [-1.16780419e-02]\n",
      " [-3.93084064e-03]\n",
      " [-1.55242503e+00]\n",
      " [-1.49989799e-02]\n",
      " [-7.23972730e-03]\n",
      " [-8.75566483e-01]\n",
      " [ 1.15218830e+00]\n",
      " [ 9.18209851e-02]\n",
      " [-6.16772056e-01]\n",
      " [-6.98165223e-03]\n",
      " [ 2.43801996e-03]\n",
      " [-6.25714660e-03]\n",
      " [-1.47607994e+00]\n",
      " [ 1.87205654e-02]\n",
      " [-1.45322490e+00]\n",
      " [-2.19420902e-03]\n",
      " [-2.26334166e-02]\n",
      " [ 1.67464852e+00]\n",
      " [ 1.64283061e+00]\n",
      " [-1.07587266e+00]\n",
      " [-6.52667105e-01]\n",
      " [ 1.72338262e-03]\n",
      " [-4.26983275e-02]]\n"
     ]
    }
   ],
   "source": [
    "y_predict_test = final_model.predict(x_test) \n",
    "print(y_predict_test)"
   ]
  },
  {
   "cell_type": "code",
   "execution_count": 61,
   "id": "f9398fac",
   "metadata": {
    "ExecuteTime": {
     "end_time": "2023-03-23T16:14:28.265645Z",
     "start_time": "2023-03-23T16:14:28.236848Z"
    }
   },
   "outputs": [
    {
     "name": "stdout",
     "output_type": "stream",
     "text": [
      "(301, 8)\n"
     ]
    },
    {
     "data": {
      "text/html": [
       "<div>\n",
       "<style scoped>\n",
       "    .dataframe tbody tr th:only-of-type {\n",
       "        vertical-align: middle;\n",
       "    }\n",
       "\n",
       "    .dataframe tbody tr th {\n",
       "        vertical-align: top;\n",
       "    }\n",
       "\n",
       "    .dataframe thead th {\n",
       "        text-align: right;\n",
       "    }\n",
       "</style>\n",
       "<table border=\"1\" class=\"dataframe\">\n",
       "  <thead>\n",
       "    <tr style=\"text-align: right;\">\n",
       "      <th></th>\n",
       "      <th>AFDP</th>\n",
       "      <th>GTEP</th>\n",
       "      <th>TIT</th>\n",
       "      <th>TAT</th>\n",
       "      <th>CDP</th>\n",
       "      <th>CO</th>\n",
       "      <th>Actual</th>\n",
       "      <th>Predicted</th>\n",
       "    </tr>\n",
       "  </thead>\n",
       "  <tbody>\n",
       "    <tr>\n",
       "      <th>150</th>\n",
       "      <td>0.189702</td>\n",
       "      <td>-0.251825</td>\n",
       "      <td>0.108985</td>\n",
       "      <td>0.623376</td>\n",
       "      <td>-0.226035</td>\n",
       "      <td>-0.526669</td>\n",
       "      <td>0.034211</td>\n",
       "      <td>-0.015639</td>\n",
       "    </tr>\n",
       "    <tr>\n",
       "      <th>6621</th>\n",
       "      <td>0.314148</td>\n",
       "      <td>-0.358203</td>\n",
       "      <td>0.108985</td>\n",
       "      <td>0.572528</td>\n",
       "      <td>-0.164394</td>\n",
       "      <td>-0.313032</td>\n",
       "      <td>-0.107299</td>\n",
       "      <td>0.002063</td>\n",
       "    </tr>\n",
       "    <tr>\n",
       "      <th>9272</th>\n",
       "      <td>0.069729</td>\n",
       "      <td>-0.535261</td>\n",
       "      <td>0.012176</td>\n",
       "      <td>0.589054</td>\n",
       "      <td>-0.281331</td>\n",
       "      <td>0.015121</td>\n",
       "      <td>-0.047284</td>\n",
       "      <td>-0.026977</td>\n",
       "    </tr>\n",
       "    <tr>\n",
       "      <th>13767</th>\n",
       "      <td>0.921247</td>\n",
       "      <td>1.404229</td>\n",
       "      <td>0.986324</td>\n",
       "      <td>-1.976241</td>\n",
       "      <td>1.649487</td>\n",
       "      <td>-0.516054</td>\n",
       "      <td>1.525759</td>\n",
       "      <td>1.697091</td>\n",
       "    </tr>\n",
       "    <tr>\n",
       "      <th>10266</th>\n",
       "      <td>0.376897</td>\n",
       "      <td>1.467960</td>\n",
       "      <td>0.956071</td>\n",
       "      <td>-1.503352</td>\n",
       "      <td>1.436462</td>\n",
       "      <td>-0.216638</td>\n",
       "      <td>1.416468</td>\n",
       "      <td>1.415099</td>\n",
       "    </tr>\n",
       "    <tr>\n",
       "      <th>3339</th>\n",
       "      <td>-0.074186</td>\n",
       "      <td>0.053414</td>\n",
       "      <td>0.447820</td>\n",
       "      <td>0.575071</td>\n",
       "      <td>0.017810</td>\n",
       "      <td>-0.159576</td>\n",
       "      <td>-0.086452</td>\n",
       "      <td>0.020382</td>\n",
       "    </tr>\n",
       "    <tr>\n",
       "      <th>1005</th>\n",
       "      <td>0.456221</td>\n",
       "      <td>-0.299264</td>\n",
       "      <td>0.024277</td>\n",
       "      <td>0.568715</td>\n",
       "      <td>-0.284050</td>\n",
       "      <td>-0.085458</td>\n",
       "      <td>0.031684</td>\n",
       "      <td>-0.043406</td>\n",
       "    </tr>\n",
       "    <tr>\n",
       "      <th>13042</th>\n",
       "      <td>-0.171796</td>\n",
       "      <td>0.112114</td>\n",
       "      <td>0.538579</td>\n",
       "      <td>0.634817</td>\n",
       "      <td>0.022342</td>\n",
       "      <td>-0.348089</td>\n",
       "      <td>0.038633</td>\n",
       "      <td>0.013773</td>\n",
       "    </tr>\n",
       "    <tr>\n",
       "      <th>2453</th>\n",
       "      <td>1.652004</td>\n",
       "      <td>-0.081715</td>\n",
       "      <td>0.242099</td>\n",
       "      <td>0.557274</td>\n",
       "      <td>-0.089155</td>\n",
       "      <td>-0.226989</td>\n",
       "      <td>-0.030227</td>\n",
       "      <td>0.022216</td>\n",
       "    </tr>\n",
       "    <tr>\n",
       "      <th>11248</th>\n",
       "      <td>-0.464098</td>\n",
       "      <td>0.073540</td>\n",
       "      <td>0.538579</td>\n",
       "      <td>0.535663</td>\n",
       "      <td>0.195481</td>\n",
       "      <td>-0.257815</td>\n",
       "      <td>-0.023277</td>\n",
       "      <td>0.071567</td>\n",
       "    </tr>\n",
       "  </tbody>\n",
       "</table>\n",
       "</div>"
      ],
      "text/plain": [
       "           AFDP      GTEP       TIT       TAT       CDP        CO    Actual  \\\n",
       "150    0.189702 -0.251825  0.108985  0.623376 -0.226035 -0.526669  0.034211   \n",
       "6621   0.314148 -0.358203  0.108985  0.572528 -0.164394 -0.313032 -0.107299   \n",
       "9272   0.069729 -0.535261  0.012176  0.589054 -0.281331  0.015121 -0.047284   \n",
       "13767  0.921247  1.404229  0.986324 -1.976241  1.649487 -0.516054  1.525759   \n",
       "10266  0.376897  1.467960  0.956071 -1.503352  1.436462 -0.216638  1.416468   \n",
       "3339  -0.074186  0.053414  0.447820  0.575071  0.017810 -0.159576 -0.086452   \n",
       "1005   0.456221 -0.299264  0.024277  0.568715 -0.284050 -0.085458  0.031684   \n",
       "13042 -0.171796  0.112114  0.538579  0.634817  0.022342 -0.348089  0.038633   \n",
       "2453   1.652004 -0.081715  0.242099  0.557274 -0.089155 -0.226989 -0.030227   \n",
       "11248 -0.464098  0.073540  0.538579  0.535663  0.195481 -0.257815 -0.023277   \n",
       "\n",
       "       Predicted  \n",
       "150    -0.015639  \n",
       "6621    0.002063  \n",
       "9272   -0.026977  \n",
       "13767   1.697091  \n",
       "10266   1.415099  \n",
       "3339    0.020382  \n",
       "1005   -0.043406  \n",
       "13042   0.013773  \n",
       "2453    0.022216  \n",
       "11248   0.071567  "
      ]
     },
     "execution_count": 61,
     "metadata": {},
     "output_type": "execute_result"
    }
   ],
   "source": [
    "pred_gas = pd.DataFrame(x_test)\n",
    "pred_gas['Actual'] = y_test\n",
    "pred_gas['Predicted'] = y_predict_test\n",
    "print(pred_gas.shape)\n",
    "pred_gas.head(10)"
   ]
  },
  {
   "cell_type": "code",
   "execution_count": 62,
   "id": "d850f5f6",
   "metadata": {
    "ExecuteTime": {
     "end_time": "2023-03-23T16:14:34.027611Z",
     "start_time": "2023-03-23T16:14:33.621881Z"
    }
   },
   "outputs": [
    {
     "data": {
      "text/plain": [
       "<matplotlib.collections.PathCollection at 0x1acb9a44fa0>"
      ]
     },
     "execution_count": 62,
     "metadata": {},
     "output_type": "execute_result"
    },
    {
     "data": {
      "image/png": "[encoded data removed]",
      "text/plain": [
       "<Figure size 1200x800 with 1 Axes>"
      ]
     },
     "metadata": {},
     "output_type": "display_data"
    }
   ],
   "source": [
    "plt.figure(figsize=(12,8))\n",
    "plt.xlabel(\"Actual Values\")\n",
    "plt.ylabel(\"Predicted values\")\n",
    "plt.title(\"The Scatterplot of Relationship between Actual Values and Predictions\")\n",
    "plt.scatter(pred_gas['Actual'], pred_gas['Predicted'])"
   ]
  },
  {
   "cell_type": "code",
   "execution_count": null,
   "id": "a580960a",
   "metadata": {},
   "outputs": [],
   "source": []
  }
 ],
 "metadata": {
  "kernelspec": {
   "display_name": "Python 3 (ipykernel)",
   "language": "python",
   "name": "python3"
  },
  "language_info": {
   "codemirror_mode": {
    "name": "ipython",
    "version": 3
   },
   "file_extension": ".py",
   "mimetype": "text/x-python",
   "name": "python",
   "nbconvert_exporter": "python",
   "pygments_lexer": "ipython3",
   "version": "3.9.13"
  }
 },
 "nbformat": 4,
 "nbformat_minor": 5
}
