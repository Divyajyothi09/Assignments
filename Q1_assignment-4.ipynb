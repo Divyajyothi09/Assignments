{
 "cells": [
  {
   "cell_type": "code",
   "execution_count": 1,
   "id": "17b46ac8",
   "metadata": {},
   "outputs": [],
   "source": [
    "import numpy as np\n",
    "import pandas as pd\n",
    "import seaborn as sn\n",
    "import matplotlib.pyplot as plt"
   ]
  },
  {
   "cell_type": "code",
   "execution_count": 2,
   "id": "9e3af5cd",
   "metadata": {},
   "outputs": [
    {
     "data": {
      "text/html": [
       "<div>\n",
       "<style scoped>\n",
       "    .dataframe tbody tr th:only-of-type {\n",
       "        vertical-align: middle;\n",
       "    }\n",
       "\n",
       "    .dataframe tbody tr th {\n",
       "        vertical-align: top;\n",
       "    }\n",
       "\n",
       "    .dataframe thead th {\n",
       "        text-align: right;\n",
       "    }\n",
       "</style>\n",
       "<table border=\"1\" class=\"dataframe\">\n",
       "  <thead>\n",
       "    <tr style=\"text-align: right;\">\n",
       "      <th></th>\n",
       "      <th>Delivery Time</th>\n",
       "      <th>Sorting Time</th>\n",
       "    </tr>\n",
       "  </thead>\n",
       "  <tbody>\n",
       "    <tr>\n",
       "      <th>0</th>\n",
       "      <td>21.00</td>\n",
       "      <td>10</td>\n",
       "    </tr>\n",
       "    <tr>\n",
       "      <th>1</th>\n",
       "      <td>13.50</td>\n",
       "      <td>4</td>\n",
       "    </tr>\n",
       "    <tr>\n",
       "      <th>2</th>\n",
       "      <td>19.75</td>\n",
       "      <td>6</td>\n",
       "    </tr>\n",
       "    <tr>\n",
       "      <th>3</th>\n",
       "      <td>24.00</td>\n",
       "      <td>9</td>\n",
       "    </tr>\n",
       "    <tr>\n",
       "      <th>4</th>\n",
       "      <td>29.00</td>\n",
       "      <td>10</td>\n",
       "    </tr>\n",
       "    <tr>\n",
       "      <th>5</th>\n",
       "      <td>15.35</td>\n",
       "      <td>6</td>\n",
       "    </tr>\n",
       "    <tr>\n",
       "      <th>6</th>\n",
       "      <td>19.00</td>\n",
       "      <td>7</td>\n",
       "    </tr>\n",
       "    <tr>\n",
       "      <th>7</th>\n",
       "      <td>9.50</td>\n",
       "      <td>3</td>\n",
       "    </tr>\n",
       "    <tr>\n",
       "      <th>8</th>\n",
       "      <td>17.90</td>\n",
       "      <td>10</td>\n",
       "    </tr>\n",
       "    <tr>\n",
       "      <th>9</th>\n",
       "      <td>18.75</td>\n",
       "      <td>9</td>\n",
       "    </tr>\n",
       "    <tr>\n",
       "      <th>10</th>\n",
       "      <td>19.83</td>\n",
       "      <td>8</td>\n",
       "    </tr>\n",
       "    <tr>\n",
       "      <th>11</th>\n",
       "      <td>10.75</td>\n",
       "      <td>4</td>\n",
       "    </tr>\n",
       "    <tr>\n",
       "      <th>12</th>\n",
       "      <td>16.68</td>\n",
       "      <td>7</td>\n",
       "    </tr>\n",
       "    <tr>\n",
       "      <th>13</th>\n",
       "      <td>11.50</td>\n",
       "      <td>3</td>\n",
       "    </tr>\n",
       "    <tr>\n",
       "      <th>14</th>\n",
       "      <td>12.03</td>\n",
       "      <td>3</td>\n",
       "    </tr>\n",
       "    <tr>\n",
       "      <th>15</th>\n",
       "      <td>14.88</td>\n",
       "      <td>4</td>\n",
       "    </tr>\n",
       "    <tr>\n",
       "      <th>16</th>\n",
       "      <td>13.75</td>\n",
       "      <td>6</td>\n",
       "    </tr>\n",
       "    <tr>\n",
       "      <th>17</th>\n",
       "      <td>18.11</td>\n",
       "      <td>7</td>\n",
       "    </tr>\n",
       "    <tr>\n",
       "      <th>18</th>\n",
       "      <td>8.00</td>\n",
       "      <td>2</td>\n",
       "    </tr>\n",
       "    <tr>\n",
       "      <th>19</th>\n",
       "      <td>17.83</td>\n",
       "      <td>7</td>\n",
       "    </tr>\n",
       "    <tr>\n",
       "      <th>20</th>\n",
       "      <td>21.50</td>\n",
       "      <td>5</td>\n",
       "    </tr>\n",
       "  </tbody>\n",
       "</table>\n",
       "</div>"
      ],
      "text/plain": [
       "    Delivery Time  Sorting Time\n",
       "0           21.00            10\n",
       "1           13.50             4\n",
       "2           19.75             6\n",
       "3           24.00             9\n",
       "4           29.00            10\n",
       "5           15.35             6\n",
       "6           19.00             7\n",
       "7            9.50             3\n",
       "8           17.90            10\n",
       "9           18.75             9\n",
       "10          19.83             8\n",
       "11          10.75             4\n",
       "12          16.68             7\n",
       "13          11.50             3\n",
       "14          12.03             3\n",
       "15          14.88             4\n",
       "16          13.75             6\n",
       "17          18.11             7\n",
       "18           8.00             2\n",
       "19          17.83             7\n",
       "20          21.50             5"
      ]
     },
     "execution_count": 2,
     "metadata": {},
     "output_type": "execute_result"
    }
   ],
   "source": [
    "df = pd.read_csv('delivery_time.csv')\n",
    "df"
   ]
  },
  {
   "cell_type": "code",
   "execution_count": 3,
   "id": "580a9389",
   "metadata": {},
   "outputs": [
    {
     "data": {
      "text/plain": [
       "0     21.00\n",
       "1     13.50\n",
       "2     19.75\n",
       "3     24.00\n",
       "4     29.00\n",
       "5     15.35\n",
       "6     19.00\n",
       "7      9.50\n",
       "8     17.90\n",
       "9     18.75\n",
       "10    19.83\n",
       "11    10.75\n",
       "12    16.68\n",
       "13    11.50\n",
       "14    12.03\n",
       "15    14.88\n",
       "16    13.75\n",
       "17    18.11\n",
       "18     8.00\n",
       "19    17.83\n",
       "20    21.50\n",
       "Name: Delivery Time, dtype: float64"
      ]
     },
     "execution_count": 3,
     "metadata": {},
     "output_type": "execute_result"
    }
   ],
   "source": [
    "y = df['Delivery Time']\n",
    "y"
   ]
  },
  {
   "cell_type": "code",
   "execution_count": 4,
   "id": "ea34d634",
   "metadata": {},
   "outputs": [
    {
     "data": {
      "text/plain": [
       "array([[10],\n",
       "       [ 4],\n",
       "       [ 6],\n",
       "       [ 9],\n",
       "       [10],\n",
       "       [ 6],\n",
       "       [ 7],\n",
       "       [ 3],\n",
       "       [10],\n",
       "       [ 9],\n",
       "       [ 8],\n",
       "       [ 4],\n",
       "       [ 7],\n",
       "       [ 3],\n",
       "       [ 3],\n",
       "       [ 4],\n",
       "       [ 6],\n",
       "       [ 7],\n",
       "       [ 2],\n",
       "       [ 7],\n",
       "       [ 5]], dtype=int64)"
      ]
     },
     "execution_count": 4,
     "metadata": {},
     "output_type": "execute_result"
    }
   ],
   "source": [
    "x = df['Sorting Time']\n",
    "x = np.c_[x]\n",
    "x"
   ]
  },
  {
   "cell_type": "code",
   "execution_count": 5,
   "id": "83f13c51",
   "metadata": {},
   "outputs": [
    {
     "name": "stdout",
     "output_type": "stream",
     "text": [
      "<class 'pandas.core.frame.DataFrame'>\n",
      "RangeIndex: 21 entries, 0 to 20\n",
      "Data columns (total 2 columns):\n",
      " #   Column         Non-Null Count  Dtype  \n",
      "---  ------         --------------  -----  \n",
      " 0   Delivery Time  21 non-null     float64\n",
      " 1   Sorting Time   21 non-null     int64  \n",
      "dtypes: float64(1), int64(1)\n",
      "memory usage: 464.0 bytes\n"
     ]
    }
   ],
   "source": [
    "df.info()"
   ]
  },
  {
   "cell_type": "code",
   "execution_count": 6,
   "id": "e86c8a03",
   "metadata": {},
   "outputs": [
    {
     "data": {
      "text/html": [
       "<div>\n",
       "<style scoped>\n",
       "    .dataframe tbody tr th:only-of-type {\n",
       "        vertical-align: middle;\n",
       "    }\n",
       "\n",
       "    .dataframe tbody tr th {\n",
       "        vertical-align: top;\n",
       "    }\n",
       "\n",
       "    .dataframe thead th {\n",
       "        text-align: right;\n",
       "    }\n",
       "</style>\n",
       "<table border=\"1\" class=\"dataframe\">\n",
       "  <thead>\n",
       "    <tr style=\"text-align: right;\">\n",
       "      <th></th>\n",
       "      <th>Delivery Time</th>\n",
       "      <th>Sorting Time</th>\n",
       "    </tr>\n",
       "  </thead>\n",
       "  <tbody>\n",
       "    <tr>\n",
       "      <th>0</th>\n",
       "      <td>False</td>\n",
       "      <td>False</td>\n",
       "    </tr>\n",
       "    <tr>\n",
       "      <th>1</th>\n",
       "      <td>False</td>\n",
       "      <td>False</td>\n",
       "    </tr>\n",
       "    <tr>\n",
       "      <th>2</th>\n",
       "      <td>False</td>\n",
       "      <td>False</td>\n",
       "    </tr>\n",
       "    <tr>\n",
       "      <th>3</th>\n",
       "      <td>False</td>\n",
       "      <td>False</td>\n",
       "    </tr>\n",
       "    <tr>\n",
       "      <th>4</th>\n",
       "      <td>False</td>\n",
       "      <td>False</td>\n",
       "    </tr>\n",
       "    <tr>\n",
       "      <th>5</th>\n",
       "      <td>False</td>\n",
       "      <td>False</td>\n",
       "    </tr>\n",
       "    <tr>\n",
       "      <th>6</th>\n",
       "      <td>False</td>\n",
       "      <td>False</td>\n",
       "    </tr>\n",
       "    <tr>\n",
       "      <th>7</th>\n",
       "      <td>False</td>\n",
       "      <td>False</td>\n",
       "    </tr>\n",
       "    <tr>\n",
       "      <th>8</th>\n",
       "      <td>False</td>\n",
       "      <td>False</td>\n",
       "    </tr>\n",
       "    <tr>\n",
       "      <th>9</th>\n",
       "      <td>False</td>\n",
       "      <td>False</td>\n",
       "    </tr>\n",
       "    <tr>\n",
       "      <th>10</th>\n",
       "      <td>False</td>\n",
       "      <td>False</td>\n",
       "    </tr>\n",
       "    <tr>\n",
       "      <th>11</th>\n",
       "      <td>False</td>\n",
       "      <td>False</td>\n",
       "    </tr>\n",
       "    <tr>\n",
       "      <th>12</th>\n",
       "      <td>False</td>\n",
       "      <td>False</td>\n",
       "    </tr>\n",
       "    <tr>\n",
       "      <th>13</th>\n",
       "      <td>False</td>\n",
       "      <td>False</td>\n",
       "    </tr>\n",
       "    <tr>\n",
       "      <th>14</th>\n",
       "      <td>False</td>\n",
       "      <td>False</td>\n",
       "    </tr>\n",
       "    <tr>\n",
       "      <th>15</th>\n",
       "      <td>False</td>\n",
       "      <td>False</td>\n",
       "    </tr>\n",
       "    <tr>\n",
       "      <th>16</th>\n",
       "      <td>False</td>\n",
       "      <td>False</td>\n",
       "    </tr>\n",
       "    <tr>\n",
       "      <th>17</th>\n",
       "      <td>False</td>\n",
       "      <td>False</td>\n",
       "    </tr>\n",
       "    <tr>\n",
       "      <th>18</th>\n",
       "      <td>False</td>\n",
       "      <td>False</td>\n",
       "    </tr>\n",
       "    <tr>\n",
       "      <th>19</th>\n",
       "      <td>False</td>\n",
       "      <td>False</td>\n",
       "    </tr>\n",
       "    <tr>\n",
       "      <th>20</th>\n",
       "      <td>False</td>\n",
       "      <td>False</td>\n",
       "    </tr>\n",
       "  </tbody>\n",
       "</table>\n",
       "</div>"
      ],
      "text/plain": [
       "    Delivery Time  Sorting Time\n",
       "0           False         False\n",
       "1           False         False\n",
       "2           False         False\n",
       "3           False         False\n",
       "4           False         False\n",
       "5           False         False\n",
       "6           False         False\n",
       "7           False         False\n",
       "8           False         False\n",
       "9           False         False\n",
       "10          False         False\n",
       "11          False         False\n",
       "12          False         False\n",
       "13          False         False\n",
       "14          False         False\n",
       "15          False         False\n",
       "16          False         False\n",
       "17          False         False\n",
       "18          False         False\n",
       "19          False         False\n",
       "20          False         False"
      ]
     },
     "execution_count": 6,
     "metadata": {},
     "output_type": "execute_result"
    }
   ],
   "source": [
    "df.isna()"
   ]
  },
  {
   "cell_type": "code",
   "execution_count": 7,
   "id": "f210d931",
   "metadata": {},
   "outputs": [
    {
     "name": "stderr",
     "output_type": "stream",
     "text": [
      "C:\\Users\\divya\\anaconda2\\lib\\site-packages\\seaborn\\distributions.py:2619: FutureWarning: `distplot` is a deprecated function and will be removed in a future version. Please adapt your code to use either `displot` (a figure-level function with similar flexibility) or `histplot` (an axes-level function for histograms).\n",
      "  warnings.warn(msg, FutureWarning)\n"
     ]
    },
    {
     "data": {
      "text/plain": [
       "<AxesSubplot:xlabel='Delivery Time', ylabel='Density'>"
      ]
     },
     "execution_count": 7,
     "metadata": {},
     "output_type": "execute_result"
    },
    {
     "data": {
      "image/png": "[encoded data removed]",
      "text/plain": [
       "<Figure size 640x480 with 1 Axes>"
      ]
     },
     "metadata": {},
     "output_type": "display_data"
    }
   ],
   "source": [
    "sn.distplot(y)"
   ]
  },
  {
   "cell_type": "code",
   "execution_count": 8,
   "id": "2c71c002",
   "metadata": {},
   "outputs": [
    {
     "name": "stderr",
     "output_type": "stream",
     "text": [
      "C:\\Users\\divya\\anaconda2\\lib\\site-packages\\seaborn\\distributions.py:2619: FutureWarning: `distplot` is a deprecated function and will be removed in a future version. Please adapt your code to use either `displot` (a figure-level function with similar flexibility) or `histplot` (an axes-level function for histograms).\n",
      "  warnings.warn(msg, FutureWarning)\n"
     ]
    },
    {
     "data": {
      "text/plain": [
       "<AxesSubplot:ylabel='Density'>"
      ]
     },
     "execution_count": 8,
     "metadata": {},
     "output_type": "execute_result"
    },
    {
     "data": {
      "image/png": "[encoded data removed]",
      "text/plain": [
       "<Figure size 640x480 with 1 Axes>"
      ]
     },
     "metadata": {},
     "output_type": "display_data"
    }
   ],
   "source": [
    "sn.distplot(x)"
   ]
  },
  {
   "cell_type": "code",
   "execution_count": 9,
   "id": "18ac13ba",
   "metadata": {},
   "outputs": [
    {
     "data": {
      "text/plain": [
       "array([[<AxesSubplot:title={'center':'Delivery Time'}>,\n",
       "        <AxesSubplot:title={'center':'Sorting Time'}>]], dtype=object)"
      ]
     },
     "execution_count": 9,
     "metadata": {},
     "output_type": "execute_result"
    },
    {
     "data": {
      "image/png": "[encoded data removed]",
      "text/plain": [
       "<Figure size 640x480 with 2 Axes>"
      ]
     },
     "metadata": {},
     "output_type": "display_data"
    }
   ],
   "source": [
    "df.hist()"
   ]
  },
  {
   "cell_type": "code",
   "execution_count": 10,
   "id": "c83d75ff",
   "metadata": {
    "scrolled": true
   },
   "outputs": [
    {
     "data": {
      "text/plain": [
       "<matplotlib.collections.PathCollection at 0x1523b294a30>"
      ]
     },
     "execution_count": 10,
     "metadata": {},
     "output_type": "execute_result"
    },
    {
     "data": {
      "image/png": "[encoded data removed]",
      "text/plain": [
       "<Figure size 640x480 with 1 Axes>"
      ]
     },
     "metadata": {},
     "output_type": "display_data"
    }
   ],
   "source": [
    "plt.scatter(y,x)"
   ]
  },
  {
   "cell_type": "code",
   "execution_count": 11,
   "id": "edae8565",
   "metadata": {},
   "outputs": [],
   "source": [
    "from sklearn.preprocessing import StandardScaler"
   ]
  },
  {
   "cell_type": "code",
   "execution_count": 12,
   "id": "97ea9b80",
   "metadata": {},
   "outputs": [
    {
     "data": {
      "text/plain": [
       "array([[ 0.84986692,  1.53562462],\n",
       "       [-0.66449036, -0.88298415],\n",
       "       [ 0.59747404, -0.07678123],\n",
       "       [ 1.45560983,  1.13252315],\n",
       "       [ 2.46518134,  1.53562462],\n",
       "       [-0.2909489 , -0.07678123],\n",
       "       [ 0.44603831,  0.32632023],\n",
       "       [-1.47214757, -1.28608562],\n",
       "       [ 0.22393258,  1.53562462],\n",
       "       [ 0.39555973,  1.13252315],\n",
       "       [ 0.61362718,  0.72942169],\n",
       "       [-1.21975469, -0.88298415],\n",
       "       [-0.02240287,  0.32632023],\n",
       "       [-1.06831896, -1.28608562],\n",
       "       [-0.96130438, -1.28608562],\n",
       "       [-0.38584862, -0.88298415],\n",
       "       [-0.61401178, -0.07678123],\n",
       "       [ 0.26633458,  0.32632023],\n",
       "       [-1.77501902, -1.68918708],\n",
       "       [ 0.20979858,  0.32632023],\n",
       "       [ 0.95082407, -0.47988269]])"
      ]
     },
     "execution_count": 12,
     "metadata": {},
     "output_type": "execute_result"
    }
   ],
   "source": [
    "SS = StandardScaler()\n",
    "df_SS = SS.fit_transform(df)\n",
    "df_SS"
   ]
  },
  {
   "cell_type": "code",
   "execution_count": 13,
   "id": "fca5ffe8",
   "metadata": {
    "scrolled": true
   },
   "outputs": [
    {
     "data": {
      "text/html": [
       "<div>\n",
       "<style scoped>\n",
       "    .dataframe tbody tr th:only-of-type {\n",
       "        vertical-align: middle;\n",
       "    }\n",
       "\n",
       "    .dataframe tbody tr th {\n",
       "        vertical-align: top;\n",
       "    }\n",
       "\n",
       "    .dataframe thead th {\n",
       "        text-align: right;\n",
       "    }\n",
       "</style>\n",
       "<table border=\"1\" class=\"dataframe\">\n",
       "  <thead>\n",
       "    <tr style=\"text-align: right;\">\n",
       "      <th></th>\n",
       "      <th>0</th>\n",
       "      <th>1</th>\n",
       "    </tr>\n",
       "  </thead>\n",
       "  <tbody>\n",
       "    <tr>\n",
       "      <th>0</th>\n",
       "      <td>0.849867</td>\n",
       "      <td>1.535625</td>\n",
       "    </tr>\n",
       "    <tr>\n",
       "      <th>1</th>\n",
       "      <td>-0.664490</td>\n",
       "      <td>-0.882984</td>\n",
       "    </tr>\n",
       "    <tr>\n",
       "      <th>2</th>\n",
       "      <td>0.597474</td>\n",
       "      <td>-0.076781</td>\n",
       "    </tr>\n",
       "    <tr>\n",
       "      <th>3</th>\n",
       "      <td>1.455610</td>\n",
       "      <td>1.132523</td>\n",
       "    </tr>\n",
       "    <tr>\n",
       "      <th>4</th>\n",
       "      <td>2.465181</td>\n",
       "      <td>1.535625</td>\n",
       "    </tr>\n",
       "    <tr>\n",
       "      <th>5</th>\n",
       "      <td>-0.290949</td>\n",
       "      <td>-0.076781</td>\n",
       "    </tr>\n",
       "    <tr>\n",
       "      <th>6</th>\n",
       "      <td>0.446038</td>\n",
       "      <td>0.326320</td>\n",
       "    </tr>\n",
       "    <tr>\n",
       "      <th>7</th>\n",
       "      <td>-1.472148</td>\n",
       "      <td>-1.286086</td>\n",
       "    </tr>\n",
       "    <tr>\n",
       "      <th>8</th>\n",
       "      <td>0.223933</td>\n",
       "      <td>1.535625</td>\n",
       "    </tr>\n",
       "    <tr>\n",
       "      <th>9</th>\n",
       "      <td>0.395560</td>\n",
       "      <td>1.132523</td>\n",
       "    </tr>\n",
       "    <tr>\n",
       "      <th>10</th>\n",
       "      <td>0.613627</td>\n",
       "      <td>0.729422</td>\n",
       "    </tr>\n",
       "    <tr>\n",
       "      <th>11</th>\n",
       "      <td>-1.219755</td>\n",
       "      <td>-0.882984</td>\n",
       "    </tr>\n",
       "    <tr>\n",
       "      <th>12</th>\n",
       "      <td>-0.022403</td>\n",
       "      <td>0.326320</td>\n",
       "    </tr>\n",
       "    <tr>\n",
       "      <th>13</th>\n",
       "      <td>-1.068319</td>\n",
       "      <td>-1.286086</td>\n",
       "    </tr>\n",
       "    <tr>\n",
       "      <th>14</th>\n",
       "      <td>-0.961304</td>\n",
       "      <td>-1.286086</td>\n",
       "    </tr>\n",
       "    <tr>\n",
       "      <th>15</th>\n",
       "      <td>-0.385849</td>\n",
       "      <td>-0.882984</td>\n",
       "    </tr>\n",
       "    <tr>\n",
       "      <th>16</th>\n",
       "      <td>-0.614012</td>\n",
       "      <td>-0.076781</td>\n",
       "    </tr>\n",
       "    <tr>\n",
       "      <th>17</th>\n",
       "      <td>0.266335</td>\n",
       "      <td>0.326320</td>\n",
       "    </tr>\n",
       "    <tr>\n",
       "      <th>18</th>\n",
       "      <td>-1.775019</td>\n",
       "      <td>-1.689187</td>\n",
       "    </tr>\n",
       "    <tr>\n",
       "      <th>19</th>\n",
       "      <td>0.209799</td>\n",
       "      <td>0.326320</td>\n",
       "    </tr>\n",
       "    <tr>\n",
       "      <th>20</th>\n",
       "      <td>0.950824</td>\n",
       "      <td>-0.479883</td>\n",
       "    </tr>\n",
       "  </tbody>\n",
       "</table>\n",
       "</div>"
      ],
      "text/plain": [
       "           0         1\n",
       "0   0.849867  1.535625\n",
       "1  -0.664490 -0.882984\n",
       "2   0.597474 -0.076781\n",
       "3   1.455610  1.132523\n",
       "4   2.465181  1.535625\n",
       "5  -0.290949 -0.076781\n",
       "6   0.446038  0.326320\n",
       "7  -1.472148 -1.286086\n",
       "8   0.223933  1.535625\n",
       "9   0.395560  1.132523\n",
       "10  0.613627  0.729422\n",
       "11 -1.219755 -0.882984\n",
       "12 -0.022403  0.326320\n",
       "13 -1.068319 -1.286086\n",
       "14 -0.961304 -1.286086\n",
       "15 -0.385849 -0.882984\n",
       "16 -0.614012 -0.076781\n",
       "17  0.266335  0.326320\n",
       "18 -1.775019 -1.689187\n",
       "19  0.209799  0.326320\n",
       "20  0.950824 -0.479883"
      ]
     },
     "execution_count": 13,
     "metadata": {},
     "output_type": "execute_result"
    }
   ],
   "source": [
    "df_SS = pd.DataFrame(df_SS)\n",
    "df_SS"
   ]
  },
  {
   "cell_type": "code",
   "execution_count": 14,
   "id": "838aab2d",
   "metadata": {},
   "outputs": [
    {
     "data": {
      "text/plain": [
       "array([[ 0.84986692],\n",
       "       [-0.66449036],\n",
       "       [ 0.59747404],\n",
       "       [ 1.45560983],\n",
       "       [ 2.46518134],\n",
       "       [-0.2909489 ],\n",
       "       [ 0.44603831],\n",
       "       [-1.47214757],\n",
       "       [ 0.22393258],\n",
       "       [ 0.39555973],\n",
       "       [ 0.61362718],\n",
       "       [-1.21975469],\n",
       "       [-0.02240287],\n",
       "       [-1.06831896],\n",
       "       [-0.96130438],\n",
       "       [-0.38584862],\n",
       "       [-0.61401178],\n",
       "       [ 0.26633458],\n",
       "       [-1.77501902],\n",
       "       [ 0.20979858],\n",
       "       [ 0.95082407]])"
      ]
     },
     "execution_count": 14,
     "metadata": {},
     "output_type": "execute_result"
    }
   ],
   "source": [
    "x = df_SS[0]\n",
    "x = np.c_[x]\n",
    "x"
   ]
  },
  {
   "cell_type": "code",
   "execution_count": 15,
   "id": "0207e606",
   "metadata": {},
   "outputs": [
    {
     "data": {
      "text/plain": [
       "0     1.535625\n",
       "1    -0.882984\n",
       "2    -0.076781\n",
       "3     1.132523\n",
       "4     1.535625\n",
       "5    -0.076781\n",
       "6     0.326320\n",
       "7    -1.286086\n",
       "8     1.535625\n",
       "9     1.132523\n",
       "10    0.729422\n",
       "11   -0.882984\n",
       "12    0.326320\n",
       "13   -1.286086\n",
       "14   -1.286086\n",
       "15   -0.882984\n",
       "16   -0.076781\n",
       "17    0.326320\n",
       "18   -1.689187\n",
       "19    0.326320\n",
       "20   -0.479883\n",
       "Name: 1, dtype: float64"
      ]
     },
     "execution_count": 15,
     "metadata": {},
     "output_type": "execute_result"
    }
   ],
   "source": [
    "y = df_SS[1]\n",
    "y"
   ]
  },
  {
   "cell_type": "code",
   "execution_count": 16,
   "id": "3475b093",
   "metadata": {},
   "outputs": [],
   "source": [
    "from sklearn.linear_model import LinearRegression"
   ]
  },
  {
   "cell_type": "code",
   "execution_count": 17,
   "id": "63e4cc75",
   "metadata": {},
   "outputs": [],
   "source": [
    "LR = LinearRegression()"
   ]
  },
  {
   "cell_type": "code",
   "execution_count": 18,
   "id": "577af5e7",
   "metadata": {},
   "outputs": [
    {
     "data": {
      "text/plain": [
       "LinearRegression()"
      ]
     },
     "execution_count": 18,
     "metadata": {},
     "output_type": "execute_result"
    }
   ],
   "source": [
    "LR.fit(x,y)"
   ]
  },
  {
   "cell_type": "code",
   "execution_count": 19,
   "id": "85c13bc6",
   "metadata": {},
   "outputs": [
    {
     "data": {
      "text/plain": [
       "3.740485202058881e-16"
      ]
     },
     "execution_count": 19,
     "metadata": {},
     "output_type": "execute_result"
    }
   ],
   "source": [
    "LR.intercept_           "
   ]
  },
  {
   "cell_type": "code",
   "execution_count": 20,
   "id": "97ab260b",
   "metadata": {},
   "outputs": [
    {
     "data": {
      "text/plain": [
       "array([0.82599726])"
      ]
     },
     "execution_count": 20,
     "metadata": {},
     "output_type": "execute_result"
    }
   ],
   "source": [
    "LR.coef_"
   ]
  },
  {
   "cell_type": "code",
   "execution_count": 21,
   "id": "28d4fb2c",
   "metadata": {},
   "outputs": [
    {
     "data": {
      "text/plain": [
       "array([ 0.70198775, -0.54886721,  0.49351192,  1.20232973,  2.03623304,\n",
       "       -0.24032299,  0.36842642, -1.21598986,  0.1849677 ,  0.32673126,\n",
       "        0.50685437, -1.00751403, -0.01850471, -0.88242854, -0.79403479,\n",
       "       -0.3187099 , -0.50717205,  0.21999163, -1.46616085,  0.17329305,\n",
       "        0.78537808])"
      ]
     },
     "execution_count": 21,
     "metadata": {},
     "output_type": "execute_result"
    }
   ],
   "source": [
    "y_pred = LR.predict(x)\n",
    "y_pred"
   ]
  },
  {
   "cell_type": "code",
   "execution_count": 22,
   "id": "132d375d",
   "metadata": {},
   "outputs": [
    {
     "data": {
      "text/plain": [
       "array([[ 1.47879171e-01,  1.39873413e+00,  3.56354998e-01,\n",
       "        -3.52462812e-01, -1.18636612e+00,  1.09018991e+00,\n",
       "         4.81440494e-01,  2.06585678e+00,  6.64899221e-01,\n",
       "         5.23135659e-01,  3.43012545e-01,  1.85738095e+00,\n",
       "         8.68371628e-01,  1.73229545e+00,  1.64390170e+00,\n",
       "         1.16857682e+00,  1.35703897e+00,  6.29875283e-01,\n",
       "         2.31602777e+00,  6.76573868e-01,  6.44888408e-02],\n",
       "       [-1.36647810e+00, -1.15623142e-01, -1.15800228e+00,\n",
       "        -1.86682009e+00, -2.70072339e+00, -4.24167366e-01,\n",
       "        -1.03291678e+00,  5.51499503e-01, -8.49458052e-01,\n",
       "        -9.91221614e-01, -1.17134473e+00,  3.43023676e-01,\n",
       "        -6.45985645e-01,  2.17938180e-01,  1.29544430e-01,\n",
       "        -3.45780455e-01, -1.57318308e-01, -8.84481991e-01,\n",
       "         8.01670495e-01, -8.37783406e-01, -1.44986843e+00],\n",
       "       [-1.04513707e-01,  1.14634125e+00,  1.03962119e-01,\n",
       "        -6.04855691e-01, -1.43875900e+00,  8.37797029e-01,\n",
       "         2.29047615e-01,  1.81346390e+00,  4.12506343e-01,\n",
       "         2.70742780e-01,  9.06196663e-02,  1.60498807e+00,\n",
       "         6.15978749e-01,  1.47990257e+00,  1.39150882e+00,\n",
       "         9.16183940e-01,  1.10464609e+00,  3.77482404e-01,\n",
       "         2.06363489e+00,  4.24180989e-01, -1.87904038e-01],\n",
       "       [ 7.53622081e-01,  2.00447704e+00,  9.62097907e-01,\n",
       "         2.53280097e-01, -5.80623209e-01,  1.69593282e+00,\n",
       "         1.08718340e+00,  2.67159969e+00,  1.27064213e+00,\n",
       "         1.12887857e+00,  9.48755454e-01,  2.46312386e+00,\n",
       "         1.47411454e+00,  2.33803836e+00,  2.24964461e+00,\n",
       "         1.77431973e+00,  1.96278188e+00,  1.23561819e+00,\n",
       "         2.92177068e+00,  1.28231678e+00,  6.70231750e-01],\n",
       "       [ 1.76319360e+00,  3.01404856e+00,  1.97166942e+00,\n",
       "         1.26285161e+00,  4.28948306e-01,  2.70550433e+00,\n",
       "         2.09675492e+00,  3.68117120e+00,  2.28021365e+00,\n",
       "         2.13845008e+00,  1.95832697e+00,  3.47269537e+00,\n",
       "         2.48368605e+00,  3.34760988e+00,  3.25921613e+00,\n",
       "         2.78389124e+00,  2.97235339e+00,  2.24518971e+00,\n",
       "         3.93134219e+00,  2.29188829e+00,  1.67980327e+00],\n",
       "       [-9.92936641e-01,  2.57918319e-01, -7.84460814e-01,\n",
       "        -1.49327862e+00, -2.32718193e+00, -5.06259048e-02,\n",
       "        -6.59375318e-01,  9.25040964e-01, -4.75916591e-01,\n",
       "        -6.17680153e-01, -7.97803267e-01,  7.16565137e-01,\n",
       "        -2.72444184e-01,  5.91479641e-01,  5.03085891e-01,\n",
       "         2.77610060e-02,  2.16223153e-01, -5.10940530e-01,\n",
       "         1.17521196e+00, -4.64241945e-01, -1.07632697e+00],\n",
       "       [-2.55949435e-01,  9.94905525e-01, -4.74736081e-02,\n",
       "        -7.56291419e-01, -1.59019472e+00,  6.86361301e-01,\n",
       "         7.76118878e-02,  1.66202817e+00,  2.61070615e-01,\n",
       "         1.19307053e-01, -6.08160610e-02,  1.45355234e+00,\n",
       "         4.64543022e-01,  1.32846685e+00,  1.24007310e+00,\n",
       "         7.64748212e-01,  9.53210360e-01,  2.26046676e-01,\n",
       "         1.91219916e+00,  2.72745262e-01, -3.39339765e-01],\n",
       "       [-2.17413531e+00, -9.23280355e-01, -1.96565949e+00,\n",
       "        -2.67447730e+00, -3.50838060e+00, -1.23182458e+00,\n",
       "        -1.84057399e+00, -2.56157710e-01, -1.65711526e+00,\n",
       "        -1.79887883e+00, -1.97900194e+00, -4.64633536e-01,\n",
       "        -1.45364286e+00, -5.89719032e-01, -6.78112783e-01,\n",
       "        -1.15343767e+00, -9.64975520e-01, -1.69213920e+00,\n",
       "        -5.98671759e-03, -1.64544062e+00, -2.25752564e+00],\n",
       "       [-4.78055168e-01,  7.72799791e-01, -2.69579342e-01,\n",
       "        -9.78397152e-01, -1.81230046e+00,  4.64255568e-01,\n",
       "        -1.44493846e-01,  1.43992244e+00,  3.89648818e-02,\n",
       "        -1.02798680e-01, -2.82921794e-01,  1.23144661e+00,\n",
       "         2.42437289e-01,  1.10636111e+00,  1.01796736e+00,\n",
       "         5.42642479e-01,  7.31104626e-01,  3.94094295e-03,\n",
       "         1.69009343e+00,  5.06395281e-02, -5.61445499e-01],\n",
       "       [-3.06428011e-01,  9.44426949e-01, -9.79521839e-02,\n",
       "        -8.06769994e-01, -1.64067330e+00,  6.35882726e-01,\n",
       "         2.71333120e-02,  1.61154959e+00,  2.10592039e-01,\n",
       "         6.88284774e-02, -1.11294637e-01,  1.40307377e+00,\n",
       "         4.14064446e-01,  1.27798827e+00,  1.18959452e+00,\n",
       "         7.14269637e-01,  9.02731784e-01,  1.75568101e-01,\n",
       "         1.86172059e+00,  2.22266686e-01, -3.89818341e-01],\n",
       "       [-8.83605632e-02,  1.16249440e+00,  1.20115263e-01,\n",
       "        -5.88702547e-01, -1.42260585e+00,  8.53950173e-01,\n",
       "         2.45200759e-01,  1.82961704e+00,  4.28659487e-01,\n",
       "         2.86895925e-01,  1.06772811e-01,  1.62114121e+00,\n",
       "         6.32131894e-01,  1.49605572e+00,  1.40766197e+00,\n",
       "         9.32337084e-01,  1.12079923e+00,  3.93635548e-01,\n",
       "         2.07978803e+00,  4.40334133e-01, -1.71750894e-01],\n",
       "       [-1.92174244e+00, -6.70887476e-01, -1.71326661e+00,\n",
       "        -2.42208442e+00, -3.25598773e+00, -9.79431699e-01,\n",
       "        -1.58818111e+00, -3.76483063e-03, -1.40472239e+00,\n",
       "        -1.54648595e+00, -1.72660906e+00, -2.12240657e-01,\n",
       "        -1.20124998e+00, -3.37326153e-01, -4.25719904e-01,\n",
       "        -9.01044788e-01, -7.12582641e-01, -1.43974632e+00,\n",
       "         2.46406161e-01, -1.39304774e+00, -2.00513277e+00],\n",
       "       [-7.24390618e-01,  5.26464342e-01, -5.15914791e-01,\n",
       "        -1.22473260e+00, -2.05863591e+00,  2.17920118e-01,\n",
       "        -3.90829295e-01,  1.19358699e+00, -2.07370568e-01,\n",
       "        -3.49134130e-01, -5.29257244e-01,  9.85111160e-01,\n",
       "        -3.89816121e-03,  8.60025664e-01,  7.71631914e-01,\n",
       "         2.96307029e-01,  4.84769176e-01, -2.42394507e-01,\n",
       "         1.44375798e+00, -1.95695922e-01, -8.07780949e-01],\n",
       "       [-1.77030671e+00, -5.19451748e-01, -1.56183088e+00,\n",
       "        -2.27064869e+00, -3.10455200e+00, -8.27995972e-01,\n",
       "        -1.43674539e+00,  1.47670897e-01, -1.25328666e+00,\n",
       "        -1.39505022e+00, -1.57517333e+00, -6.08049299e-02,\n",
       "        -1.04981425e+00, -1.85890426e-01, -2.74284176e-01,\n",
       "        -7.49609061e-01, -5.61146914e-01, -1.28831060e+00,\n",
       "         3.97841889e-01, -1.24161201e+00, -1.85369704e+00],\n",
       "       [-1.66329213e+00, -4.12437168e-01, -1.45481630e+00,\n",
       "        -2.16363411e+00, -2.99753742e+00, -7.20981391e-01,\n",
       "        -1.32973080e+00,  2.54685477e-01, -1.14627208e+00,\n",
       "        -1.28803564e+00, -1.46815875e+00,  4.62096507e-02,\n",
       "        -9.42799671e-01, -7.88758452e-02, -1.67269596e-01,\n",
       "        -6.42594480e-01, -4.54132333e-01, -1.18129602e+00,\n",
       "         5.04856469e-01, -1.13459743e+00, -1.74668246e+00],\n",
       "       [-1.08783636e+00,  1.63018596e-01, -8.79360537e-01,\n",
       "        -1.58817835e+00, -2.42208165e+00, -1.45525627e-01,\n",
       "        -7.54275041e-01,  8.30141241e-01, -5.70816314e-01,\n",
       "        -7.12579876e-01, -8.92702990e-01,  6.21665415e-01,\n",
       "        -3.67343907e-01,  4.96579919e-01,  4.08186168e-01,\n",
       "        -6.71387165e-02,  1.21323431e-01, -6.05840252e-01,\n",
       "         1.08031223e+00, -5.59141667e-01, -1.17122669e+00],\n",
       "       [-1.31599953e+00, -6.51445664e-02, -1.10752370e+00,\n",
       "        -1.81634151e+00, -2.65024482e+00, -3.73688790e-01,\n",
       "        -9.82438203e-01,  6.01978079e-01, -7.98979476e-01,\n",
       "        -9.40743038e-01, -1.12086615e+00,  3.93502252e-01,\n",
       "        -5.95507069e-01,  2.68416756e-01,  1.80023006e-01,\n",
       "        -2.95301879e-01, -1.06839732e-01, -8.34003415e-01,\n",
       "         8.52149071e-01, -7.87304830e-01, -1.39938986e+00],\n",
       "       [-4.35653164e-01,  8.15201795e-01, -2.27177338e-01,\n",
       "        -9.35995148e-01, -1.76989845e+00,  5.06657572e-01,\n",
       "        -1.02091842e-01,  1.48232444e+00,  8.13668855e-02,\n",
       "        -6.03966766e-02, -2.40519791e-01,  1.27384861e+00,\n",
       "         2.84839292e-01,  1.14876312e+00,  1.06036937e+00,\n",
       "         5.85044483e-01,  7.73506630e-01,  4.63429466e-02,\n",
       "         1.73249543e+00,  9.30415318e-02, -5.19043495e-01],\n",
       "       [-2.47700677e+00, -1.22615181e+00, -2.26853094e+00,\n",
       "        -2.97734875e+00, -3.81125206e+00, -1.53469603e+00,\n",
       "        -2.14344545e+00, -5.59029164e-01, -1.95998672e+00,\n",
       "        -2.10175028e+00, -2.28187340e+00, -7.67504991e-01,\n",
       "        -1.75651431e+00, -8.92590487e-01, -9.80984237e-01,\n",
       "        -1.45630912e+00, -1.26784697e+00, -1.99501066e+00,\n",
       "        -3.08858172e-01, -1.94831207e+00, -2.56039710e+00],\n",
       "       [-4.92189169e-01,  7.58665790e-01, -2.83713343e-01,\n",
       "        -9.92531153e-01, -1.82643446e+00,  4.50121567e-01,\n",
       "        -1.58627847e-01,  1.42578844e+00,  2.48308806e-02,\n",
       "        -1.16932681e-01, -2.97055796e-01,  1.21731261e+00,\n",
       "         2.28303287e-01,  1.09222711e+00,  1.00383336e+00,\n",
       "         5.28508478e-01,  7.16970625e-01, -1.01930583e-02,\n",
       "         1.67595943e+00,  3.65055269e-02, -5.75579500e-01],\n",
       "       [ 2.48836323e-01,  1.49969128e+00,  4.57312150e-01,\n",
       "        -2.51505661e-01, -1.08540897e+00,  1.19114706e+00,\n",
       "         5.82397646e-01,  2.16681393e+00,  7.65856373e-01,\n",
       "         6.24092811e-01,  4.43969697e-01,  1.95833810e+00,\n",
       "         9.69328780e-01,  1.83325261e+00,  1.74485885e+00,\n",
       "         1.26953397e+00,  1.45799612e+00,  7.30832434e-01,\n",
       "         2.41698492e+00,  7.77531019e-01,  1.65445992e-01]])"
      ]
     },
     "execution_count": 22,
     "metadata": {},
     "output_type": "execute_result"
    }
   ],
   "source": [
    "error = x-y_pred\n",
    "error"
   ]
  },
  {
   "cell_type": "code",
   "execution_count": 23,
   "id": "c4ed8278",
   "metadata": {},
   "outputs": [
    {
     "data": {
      "image/png": "[encoded data removed]",
      "text/plain": [
       "<Figure size 640x480 with 1 Axes>"
      ]
     },
     "metadata": {},
     "output_type": "display_data"
    }
   ],
   "source": [
    "import matplotlib.pyplot as plt\n",
    "plt.scatter(x,y)\n",
    "plt.scatter(x,y_pred,color='red')\n",
    "plt.plot(x,y_pred,color='red')\n",
    "plt.show()"
   ]
  },
  {
   "cell_type": "code",
   "execution_count": 24,
   "id": "3b7c422f",
   "metadata": {},
   "outputs": [
    {
     "data": {
      "text/html": [
       "<div>\n",
       "<style scoped>\n",
       "    .dataframe tbody tr th:only-of-type {\n",
       "        vertical-align: middle;\n",
       "    }\n",
       "\n",
       "    .dataframe tbody tr th {\n",
       "        vertical-align: top;\n",
       "    }\n",
       "\n",
       "    .dataframe thead th {\n",
       "        text-align: right;\n",
       "    }\n",
       "</style>\n",
       "<table border=\"1\" class=\"dataframe\">\n",
       "  <thead>\n",
       "    <tr style=\"text-align: right;\">\n",
       "      <th></th>\n",
       "      <th>Delivery Time</th>\n",
       "      <th>Sorting Time</th>\n",
       "    </tr>\n",
       "  </thead>\n",
       "  <tbody>\n",
       "    <tr>\n",
       "      <th>Delivery Time</th>\n",
       "      <td>1.000000</td>\n",
       "      <td>0.825997</td>\n",
       "    </tr>\n",
       "    <tr>\n",
       "      <th>Sorting Time</th>\n",
       "      <td>0.825997</td>\n",
       "      <td>1.000000</td>\n",
       "    </tr>\n",
       "  </tbody>\n",
       "</table>\n",
       "</div>"
      ],
      "text/plain": [
       "               Delivery Time  Sorting Time\n",
       "Delivery Time       1.000000      0.825997\n",
       "Sorting Time        0.825997      1.000000"
      ]
     },
     "execution_count": 24,
     "metadata": {},
     "output_type": "execute_result"
    }
   ],
   "source": [
    "df.corr()"
   ]
  },
  {
   "cell_type": "code",
   "execution_count": 25,
   "id": "43d87a0d",
   "metadata": {},
   "outputs": [
    {
     "name": "stdout",
     "output_type": "stream",
     "text": [
      "mean squared error: 0.318\n",
      "Root mean squared error: 0.56\n"
     ]
    }
   ],
   "source": [
    "from sklearn.metrics import mean_squared_error\n",
    "mse=mean_squared_error(y,y_pred)\n",
    "print(\"mean squared error:\",mse.round(3))\n",
    "print(\"Root mean squared error:\",np.sqrt(mse).round(2))"
   ]
  },
  {
   "cell_type": "code",
   "execution_count": null,
   "id": "94760752",
   "metadata": {},
   "outputs": [],
   "source": []
  },
  {
   "cell_type": "code",
   "execution_count": null,
   "id": "1bba7db5",
   "metadata": {},
   "outputs": [],
   "source": []
  }
 ],
 "metadata": {
  "kernelspec": {
   "display_name": "Python 3 (ipykernel)",
   "language": "python",
   "name": "python3"
  },
  "language_info": {
   "codemirror_mode": {
    "name": "ipython",
    "version": 3
   },
   "file_extension": ".py",
   "mimetype": "text/x-python",
   "name": "python",
   "nbconvert_exporter": "python",
   "pygments_lexer": "ipython3",
   "version": "3.9.13"
  }
 },
 "nbformat": 4,
 "nbformat_minor": 5
}
