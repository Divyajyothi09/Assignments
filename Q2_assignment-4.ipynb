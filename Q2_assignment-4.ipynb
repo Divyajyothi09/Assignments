{
 "cells": [
  {
   "cell_type": "markdown",
   "id": "55f50838",
   "metadata": {},
   "source": [
    "Build a prediction model for Salary_hike"
   ]
  },
  {
   "cell_type": "code",
   "execution_count": 3,
   "id": "cf79123b",
   "metadata": {},
   "outputs": [],
   "source": [
    "import numpy as np\n",
    "import pandas as pd\n",
    "import seaborn as sn\n",
    "import matplotlib.pyplot as plt\n",
    "import warnings\n",
    "warnings.filterwarnings('ignore')"
   ]
  },
  {
   "cell_type": "code",
   "execution_count": 4,
   "id": "01b32b84",
   "metadata": {},
   "outputs": [],
   "source": [
    "df = pd.read_csv('Salary_Data.csv')"
   ]
  },
  {
   "cell_type": "code",
   "execution_count": 5,
   "id": "66e9ab90",
   "metadata": {},
   "outputs": [
    {
     "data": {
      "text/html": [
       "<div>\n",
       "<style scoped>\n",
       "    .dataframe tbody tr th:only-of-type {\n",
       "        vertical-align: middle;\n",
       "    }\n",
       "\n",
       "    .dataframe tbody tr th {\n",
       "        vertical-align: top;\n",
       "    }\n",
       "\n",
       "    .dataframe thead th {\n",
       "        text-align: right;\n",
       "    }\n",
       "</style>\n",
       "<table border=\"1\" class=\"dataframe\">\n",
       "  <thead>\n",
       "    <tr style=\"text-align: right;\">\n",
       "      <th></th>\n",
       "      <th>YearsExperience</th>\n",
       "      <th>Salary</th>\n",
       "    </tr>\n",
       "  </thead>\n",
       "  <tbody>\n",
       "    <tr>\n",
       "      <th>0</th>\n",
       "      <td>1.1</td>\n",
       "      <td>39343.0</td>\n",
       "    </tr>\n",
       "    <tr>\n",
       "      <th>1</th>\n",
       "      <td>1.3</td>\n",
       "      <td>46205.0</td>\n",
       "    </tr>\n",
       "    <tr>\n",
       "      <th>2</th>\n",
       "      <td>1.5</td>\n",
       "      <td>37731.0</td>\n",
       "    </tr>\n",
       "    <tr>\n",
       "      <th>3</th>\n",
       "      <td>2.0</td>\n",
       "      <td>43525.0</td>\n",
       "    </tr>\n",
       "    <tr>\n",
       "      <th>4</th>\n",
       "      <td>2.2</td>\n",
       "      <td>39891.0</td>\n",
       "    </tr>\n",
       "    <tr>\n",
       "      <th>5</th>\n",
       "      <td>2.9</td>\n",
       "      <td>56642.0</td>\n",
       "    </tr>\n",
       "    <tr>\n",
       "      <th>6</th>\n",
       "      <td>3.0</td>\n",
       "      <td>60150.0</td>\n",
       "    </tr>\n",
       "    <tr>\n",
       "      <th>7</th>\n",
       "      <td>3.2</td>\n",
       "      <td>54445.0</td>\n",
       "    </tr>\n",
       "    <tr>\n",
       "      <th>8</th>\n",
       "      <td>3.2</td>\n",
       "      <td>64445.0</td>\n",
       "    </tr>\n",
       "    <tr>\n",
       "      <th>9</th>\n",
       "      <td>3.7</td>\n",
       "      <td>57189.0</td>\n",
       "    </tr>\n",
       "    <tr>\n",
       "      <th>10</th>\n",
       "      <td>3.9</td>\n",
       "      <td>63218.0</td>\n",
       "    </tr>\n",
       "    <tr>\n",
       "      <th>11</th>\n",
       "      <td>4.0</td>\n",
       "      <td>55794.0</td>\n",
       "    </tr>\n",
       "    <tr>\n",
       "      <th>12</th>\n",
       "      <td>4.0</td>\n",
       "      <td>56957.0</td>\n",
       "    </tr>\n",
       "    <tr>\n",
       "      <th>13</th>\n",
       "      <td>4.1</td>\n",
       "      <td>57081.0</td>\n",
       "    </tr>\n",
       "    <tr>\n",
       "      <th>14</th>\n",
       "      <td>4.5</td>\n",
       "      <td>61111.0</td>\n",
       "    </tr>\n",
       "    <tr>\n",
       "      <th>15</th>\n",
       "      <td>4.9</td>\n",
       "      <td>67938.0</td>\n",
       "    </tr>\n",
       "    <tr>\n",
       "      <th>16</th>\n",
       "      <td>5.1</td>\n",
       "      <td>66029.0</td>\n",
       "    </tr>\n",
       "    <tr>\n",
       "      <th>17</th>\n",
       "      <td>5.3</td>\n",
       "      <td>83088.0</td>\n",
       "    </tr>\n",
       "    <tr>\n",
       "      <th>18</th>\n",
       "      <td>5.9</td>\n",
       "      <td>81363.0</td>\n",
       "    </tr>\n",
       "    <tr>\n",
       "      <th>19</th>\n",
       "      <td>6.0</td>\n",
       "      <td>93940.0</td>\n",
       "    </tr>\n",
       "    <tr>\n",
       "      <th>20</th>\n",
       "      <td>6.8</td>\n",
       "      <td>91738.0</td>\n",
       "    </tr>\n",
       "    <tr>\n",
       "      <th>21</th>\n",
       "      <td>7.1</td>\n",
       "      <td>98273.0</td>\n",
       "    </tr>\n",
       "    <tr>\n",
       "      <th>22</th>\n",
       "      <td>7.9</td>\n",
       "      <td>101302.0</td>\n",
       "    </tr>\n",
       "    <tr>\n",
       "      <th>23</th>\n",
       "      <td>8.2</td>\n",
       "      <td>113812.0</td>\n",
       "    </tr>\n",
       "    <tr>\n",
       "      <th>24</th>\n",
       "      <td>8.7</td>\n",
       "      <td>109431.0</td>\n",
       "    </tr>\n",
       "    <tr>\n",
       "      <th>25</th>\n",
       "      <td>9.0</td>\n",
       "      <td>105582.0</td>\n",
       "    </tr>\n",
       "    <tr>\n",
       "      <th>26</th>\n",
       "      <td>9.5</td>\n",
       "      <td>116969.0</td>\n",
       "    </tr>\n",
       "    <tr>\n",
       "      <th>27</th>\n",
       "      <td>9.6</td>\n",
       "      <td>112635.0</td>\n",
       "    </tr>\n",
       "    <tr>\n",
       "      <th>28</th>\n",
       "      <td>10.3</td>\n",
       "      <td>122391.0</td>\n",
       "    </tr>\n",
       "    <tr>\n",
       "      <th>29</th>\n",
       "      <td>10.5</td>\n",
       "      <td>121872.0</td>\n",
       "    </tr>\n",
       "  </tbody>\n",
       "</table>\n",
       "</div>"
      ],
      "text/plain": [
       "    YearsExperience    Salary\n",
       "0               1.1   39343.0\n",
       "1               1.3   46205.0\n",
       "2               1.5   37731.0\n",
       "3               2.0   43525.0\n",
       "4               2.2   39891.0\n",
       "5               2.9   56642.0\n",
       "6               3.0   60150.0\n",
       "7               3.2   54445.0\n",
       "8               3.2   64445.0\n",
       "9               3.7   57189.0\n",
       "10              3.9   63218.0\n",
       "11              4.0   55794.0\n",
       "12              4.0   56957.0\n",
       "13              4.1   57081.0\n",
       "14              4.5   61111.0\n",
       "15              4.9   67938.0\n",
       "16              5.1   66029.0\n",
       "17              5.3   83088.0\n",
       "18              5.9   81363.0\n",
       "19              6.0   93940.0\n",
       "20              6.8   91738.0\n",
       "21              7.1   98273.0\n",
       "22              7.9  101302.0\n",
       "23              8.2  113812.0\n",
       "24              8.7  109431.0\n",
       "25              9.0  105582.0\n",
       "26              9.5  116969.0\n",
       "27              9.6  112635.0\n",
       "28             10.3  122391.0\n",
       "29             10.5  121872.0"
      ]
     },
     "execution_count": 5,
     "metadata": {},
     "output_type": "execute_result"
    }
   ],
   "source": [
    "df"
   ]
  },
  {
   "cell_type": "code",
   "execution_count": 6,
   "id": "067ddf6b",
   "metadata": {},
   "outputs": [
    {
     "data": {
      "text/plain": [
       "array([[ 39343.],\n",
       "       [ 46205.],\n",
       "       [ 37731.],\n",
       "       [ 43525.],\n",
       "       [ 39891.],\n",
       "       [ 56642.],\n",
       "       [ 60150.],\n",
       "       [ 54445.],\n",
       "       [ 64445.],\n",
       "       [ 57189.],\n",
       "       [ 63218.],\n",
       "       [ 55794.],\n",
       "       [ 56957.],\n",
       "       [ 57081.],\n",
       "       [ 61111.],\n",
       "       [ 67938.],\n",
       "       [ 66029.],\n",
       "       [ 83088.],\n",
       "       [ 81363.],\n",
       "       [ 93940.],\n",
       "       [ 91738.],\n",
       "       [ 98273.],\n",
       "       [101302.],\n",
       "       [113812.],\n",
       "       [109431.],\n",
       "       [105582.],\n",
       "       [116969.],\n",
       "       [112635.],\n",
       "       [122391.],\n",
       "       [121872.]])"
      ]
     },
     "execution_count": 6,
     "metadata": {},
     "output_type": "execute_result"
    }
   ],
   "source": [
    "y = df['Salary']\n",
    "y = np.c_[y]\n",
    "y"
   ]
  },
  {
   "cell_type": "code",
   "execution_count": 7,
   "id": "55ca7972",
   "metadata": {},
   "outputs": [
    {
     "data": {
      "text/plain": [
       "array([[ 1.1],\n",
       "       [ 1.3],\n",
       "       [ 1.5],\n",
       "       [ 2. ],\n",
       "       [ 2.2],\n",
       "       [ 2.9],\n",
       "       [ 3. ],\n",
       "       [ 3.2],\n",
       "       [ 3.2],\n",
       "       [ 3.7],\n",
       "       [ 3.9],\n",
       "       [ 4. ],\n",
       "       [ 4. ],\n",
       "       [ 4.1],\n",
       "       [ 4.5],\n",
       "       [ 4.9],\n",
       "       [ 5.1],\n",
       "       [ 5.3],\n",
       "       [ 5.9],\n",
       "       [ 6. ],\n",
       "       [ 6.8],\n",
       "       [ 7.1],\n",
       "       [ 7.9],\n",
       "       [ 8.2],\n",
       "       [ 8.7],\n",
       "       [ 9. ],\n",
       "       [ 9.5],\n",
       "       [ 9.6],\n",
       "       [10.3],\n",
       "       [10.5]])"
      ]
     },
     "execution_count": 7,
     "metadata": {},
     "output_type": "execute_result"
    }
   ],
   "source": [
    "x = df['YearsExperience']\n",
    "x = np.c_[x]\n",
    "x"
   ]
  },
  {
   "cell_type": "code",
   "execution_count": 8,
   "id": "4a4b505c",
   "metadata": {},
   "outputs": [
    {
     "name": "stdout",
     "output_type": "stream",
     "text": [
      "<class 'pandas.core.frame.DataFrame'>\n",
      "RangeIndex: 30 entries, 0 to 29\n",
      "Data columns (total 2 columns):\n",
      " #   Column           Non-Null Count  Dtype  \n",
      "---  ------           --------------  -----  \n",
      " 0   YearsExperience  30 non-null     float64\n",
      " 1   Salary           30 non-null     float64\n",
      "dtypes: float64(2)\n",
      "memory usage: 608.0 bytes\n"
     ]
    }
   ],
   "source": [
    "df.info()"
   ]
  },
  {
   "cell_type": "code",
   "execution_count": 9,
   "id": "e72bde9c",
   "metadata": {},
   "outputs": [
    {
     "data": {
      "text/html": [
       "<div>\n",
       "<style scoped>\n",
       "    .dataframe tbody tr th:only-of-type {\n",
       "        vertical-align: middle;\n",
       "    }\n",
       "\n",
       "    .dataframe tbody tr th {\n",
       "        vertical-align: top;\n",
       "    }\n",
       "\n",
       "    .dataframe thead th {\n",
       "        text-align: right;\n",
       "    }\n",
       "</style>\n",
       "<table border=\"1\" class=\"dataframe\">\n",
       "  <thead>\n",
       "    <tr style=\"text-align: right;\">\n",
       "      <th></th>\n",
       "      <th>YearsExperience</th>\n",
       "      <th>Salary</th>\n",
       "    </tr>\n",
       "  </thead>\n",
       "  <tbody>\n",
       "    <tr>\n",
       "      <th>count</th>\n",
       "      <td>30.000000</td>\n",
       "      <td>30.000000</td>\n",
       "    </tr>\n",
       "    <tr>\n",
       "      <th>mean</th>\n",
       "      <td>5.313333</td>\n",
       "      <td>76003.000000</td>\n",
       "    </tr>\n",
       "    <tr>\n",
       "      <th>std</th>\n",
       "      <td>2.837888</td>\n",
       "      <td>27414.429785</td>\n",
       "    </tr>\n",
       "    <tr>\n",
       "      <th>min</th>\n",
       "      <td>1.100000</td>\n",
       "      <td>37731.000000</td>\n",
       "    </tr>\n",
       "    <tr>\n",
       "      <th>25%</th>\n",
       "      <td>3.200000</td>\n",
       "      <td>56720.750000</td>\n",
       "    </tr>\n",
       "    <tr>\n",
       "      <th>50%</th>\n",
       "      <td>4.700000</td>\n",
       "      <td>65237.000000</td>\n",
       "    </tr>\n",
       "    <tr>\n",
       "      <th>75%</th>\n",
       "      <td>7.700000</td>\n",
       "      <td>100544.750000</td>\n",
       "    </tr>\n",
       "    <tr>\n",
       "      <th>max</th>\n",
       "      <td>10.500000</td>\n",
       "      <td>122391.000000</td>\n",
       "    </tr>\n",
       "  </tbody>\n",
       "</table>\n",
       "</div>"
      ],
      "text/plain": [
       "       YearsExperience         Salary\n",
       "count        30.000000      30.000000\n",
       "mean          5.313333   76003.000000\n",
       "std           2.837888   27414.429785\n",
       "min           1.100000   37731.000000\n",
       "25%           3.200000   56720.750000\n",
       "50%           4.700000   65237.000000\n",
       "75%           7.700000  100544.750000\n",
       "max          10.500000  122391.000000"
      ]
     },
     "execution_count": 9,
     "metadata": {},
     "output_type": "execute_result"
    }
   ],
   "source": [
    "df.describe()"
   ]
  },
  {
   "cell_type": "code",
   "execution_count": 10,
   "id": "fa4ad056",
   "metadata": {},
   "outputs": [
    {
     "data": {
      "text/html": [
       "<div>\n",
       "<style scoped>\n",
       "    .dataframe tbody tr th:only-of-type {\n",
       "        vertical-align: middle;\n",
       "    }\n",
       "\n",
       "    .dataframe tbody tr th {\n",
       "        vertical-align: top;\n",
       "    }\n",
       "\n",
       "    .dataframe thead th {\n",
       "        text-align: right;\n",
       "    }\n",
       "</style>\n",
       "<table border=\"1\" class=\"dataframe\">\n",
       "  <thead>\n",
       "    <tr style=\"text-align: right;\">\n",
       "      <th></th>\n",
       "      <th>YearsExperience</th>\n",
       "      <th>Salary</th>\n",
       "    </tr>\n",
       "  </thead>\n",
       "  <tbody>\n",
       "    <tr>\n",
       "      <th>YearsExperience</th>\n",
       "      <td>1.000000</td>\n",
       "      <td>0.978242</td>\n",
       "    </tr>\n",
       "    <tr>\n",
       "      <th>Salary</th>\n",
       "      <td>0.978242</td>\n",
       "      <td>1.000000</td>\n",
       "    </tr>\n",
       "  </tbody>\n",
       "</table>\n",
       "</div>"
      ],
      "text/plain": [
       "                 YearsExperience    Salary\n",
       "YearsExperience         1.000000  0.978242\n",
       "Salary                  0.978242  1.000000"
      ]
     },
     "execution_count": 10,
     "metadata": {},
     "output_type": "execute_result"
    }
   ],
   "source": [
    "df.corr()"
   ]
  },
  {
   "cell_type": "code",
   "execution_count": 11,
   "id": "eee59652",
   "metadata": {},
   "outputs": [
    {
     "data": {
      "text/plain": [
       "<AxesSubplot:ylabel='Density'>"
      ]
     },
     "execution_count": 11,
     "metadata": {},
     "output_type": "execute_result"
    },
    {
     "data": {
      "image/png": "[encoded data removed]",
      "text/plain": [
       "<Figure size 640x480 with 1 Axes>"
      ]
     },
     "metadata": {},
     "output_type": "display_data"
    }
   ],
   "source": [
    "sn.distplot(y)"
   ]
  },
  {
   "cell_type": "code",
   "execution_count": 12,
   "id": "90ab6ae8",
   "metadata": {},
   "outputs": [
    {
     "data": {
      "text/plain": [
       "<AxesSubplot:ylabel='Density'>"
      ]
     },
     "execution_count": 12,
     "metadata": {},
     "output_type": "execute_result"
    },
    {
     "data": {
      "image/png": "[encoded data removed]",
      "text/plain": [
       "<Figure size 640x480 with 1 Axes>"
      ]
     },
     "metadata": {},
     "output_type": "display_data"
    }
   ],
   "source": [
    "sn.distplot(x)"
   ]
  },
  {
   "cell_type": "code",
   "execution_count": 13,
   "id": "23757b48",
   "metadata": {},
   "outputs": [
    {
     "ename": "NameError",
     "evalue": "name 'xdf' is not defined",
     "output_type": "error",
     "traceback": [
      "\u001b[1;31m---------------------------------------------------------------------------\u001b[0m",
      "\u001b[1;31mNameError\u001b[0m                                 Traceback (most recent call last)",
      "\u001b[1;32m~\\AppData\\Local\\Temp\\ipykernel_21968\\3169155756.py\u001b[0m in \u001b[0;36m<module>\u001b[1;34m\u001b[0m\n\u001b[1;32m----> 1\u001b[1;33m \u001b[0mxdf\u001b[0m\u001b[1;33m.\u001b[0m\u001b[0mboxplot\u001b[0m\u001b[1;33m(\u001b[0m\u001b[1;33m)\u001b[0m\u001b[1;33m\u001b[0m\u001b[1;33m\u001b[0m\u001b[0m\n\u001b[0m",
      "\u001b[1;31mNameError\u001b[0m: name 'xdf' is not defined"
     ]
    }
   ],
   "source": [
    "xdf.boxplot()"
   ]
  },
  {
   "cell_type": "code",
   "execution_count": 14,
   "id": "3fb4e6cd",
   "metadata": {},
   "outputs": [
    {
     "data": {
      "text/plain": [
       "<matplotlib.collections.PathCollection at 0x16ddd37eb20>"
      ]
     },
     "execution_count": 14,
     "metadata": {},
     "output_type": "execute_result"
    },
    {
     "data": {
      "image/png": "[encoded data removed]",
      "text/plain": [
       "<Figure size 640x480 with 1 Axes>"
      ]
     },
     "metadata": {},
     "output_type": "display_data"
    }
   ],
   "source": [
    "plt.scatter(x,y)"
   ]
  },
  {
   "cell_type": "code",
   "execution_count": 15,
   "id": "d7db40b3",
   "metadata": {},
   "outputs": [],
   "source": [
    "from sklearn.preprocessing import MinMaxScaler\n",
    "MM=MinMaxScaler()"
   ]
  },
  {
   "cell_type": "code",
   "execution_count": 16,
   "id": "e3d89299",
   "metadata": {},
   "outputs": [
    {
     "data": {
      "text/plain": [
       "array([[0.        , 0.01904087],\n",
       "       [0.0212766 , 0.1000945 ],\n",
       "       [0.04255319, 0.        ],\n",
       "       [0.09574468, 0.06843846],\n",
       "       [0.11702128, 0.02551382],\n",
       "       [0.19148936, 0.22337586],\n",
       "       [0.20212766, 0.26481219],\n",
       "       [0.22340426, 0.19742499],\n",
       "       [0.22340426, 0.31554453],\n",
       "       [0.27659574, 0.229837  ],\n",
       "       [0.29787234, 0.30105126],\n",
       "       [0.30851064, 0.21335932],\n",
       "       [0.30851064, 0.22709662],\n",
       "       [0.31914894, 0.2285613 ],\n",
       "       [0.36170213, 0.27616348],\n",
       "       [0.40425532, 0.35680369],\n",
       "       [0.42553191, 0.33425467],\n",
       "       [0.44680851, 0.53575478],\n",
       "       [0.5106383 , 0.51537916],\n",
       "       [0.5212766 , 0.66393811],\n",
       "       [0.60638298, 0.63792818],\n",
       "       [0.63829787, 0.7151193 ],\n",
       "       [0.72340426, 0.75089771],\n",
       "       [0.75531915, 0.89866525],\n",
       "       [0.80851064, 0.84691708],\n",
       "       [0.84042553, 0.80145287],\n",
       "       [0.89361702, 0.93595559],\n",
       "       [0.90425532, 0.88476258],\n",
       "       [0.9787234 , 1.        ],\n",
       "       [1.        , 0.9938696 ]])"
      ]
     },
     "execution_count": 16,
     "metadata": {},
     "output_type": "execute_result"
    }
   ],
   "source": [
    "df_MM = MM.fit_transform(df)\n",
    "df_MM"
   ]
  },
  {
   "cell_type": "code",
   "execution_count": 17,
   "id": "2f72c04e",
   "metadata": {},
   "outputs": [
    {
     "data": {
      "text/html": [
       "<div>\n",
       "<style scoped>\n",
       "    .dataframe tbody tr th:only-of-type {\n",
       "        vertical-align: middle;\n",
       "    }\n",
       "\n",
       "    .dataframe tbody tr th {\n",
       "        vertical-align: top;\n",
       "    }\n",
       "\n",
       "    .dataframe thead th {\n",
       "        text-align: right;\n",
       "    }\n",
       "</style>\n",
       "<table border=\"1\" class=\"dataframe\">\n",
       "  <thead>\n",
       "    <tr style=\"text-align: right;\">\n",
       "      <th></th>\n",
       "      <th>0</th>\n",
       "      <th>1</th>\n",
       "    </tr>\n",
       "  </thead>\n",
       "  <tbody>\n",
       "    <tr>\n",
       "      <th>0</th>\n",
       "      <td>0.000000</td>\n",
       "      <td>0.019041</td>\n",
       "    </tr>\n",
       "    <tr>\n",
       "      <th>1</th>\n",
       "      <td>0.021277</td>\n",
       "      <td>0.100094</td>\n",
       "    </tr>\n",
       "    <tr>\n",
       "      <th>2</th>\n",
       "      <td>0.042553</td>\n",
       "      <td>0.000000</td>\n",
       "    </tr>\n",
       "    <tr>\n",
       "      <th>3</th>\n",
       "      <td>0.095745</td>\n",
       "      <td>0.068438</td>\n",
       "    </tr>\n",
       "    <tr>\n",
       "      <th>4</th>\n",
       "      <td>0.117021</td>\n",
       "      <td>0.025514</td>\n",
       "    </tr>\n",
       "    <tr>\n",
       "      <th>5</th>\n",
       "      <td>0.191489</td>\n",
       "      <td>0.223376</td>\n",
       "    </tr>\n",
       "    <tr>\n",
       "      <th>6</th>\n",
       "      <td>0.202128</td>\n",
       "      <td>0.264812</td>\n",
       "    </tr>\n",
       "    <tr>\n",
       "      <th>7</th>\n",
       "      <td>0.223404</td>\n",
       "      <td>0.197425</td>\n",
       "    </tr>\n",
       "    <tr>\n",
       "      <th>8</th>\n",
       "      <td>0.223404</td>\n",
       "      <td>0.315545</td>\n",
       "    </tr>\n",
       "    <tr>\n",
       "      <th>9</th>\n",
       "      <td>0.276596</td>\n",
       "      <td>0.229837</td>\n",
       "    </tr>\n",
       "    <tr>\n",
       "      <th>10</th>\n",
       "      <td>0.297872</td>\n",
       "      <td>0.301051</td>\n",
       "    </tr>\n",
       "    <tr>\n",
       "      <th>11</th>\n",
       "      <td>0.308511</td>\n",
       "      <td>0.213359</td>\n",
       "    </tr>\n",
       "    <tr>\n",
       "      <th>12</th>\n",
       "      <td>0.308511</td>\n",
       "      <td>0.227097</td>\n",
       "    </tr>\n",
       "    <tr>\n",
       "      <th>13</th>\n",
       "      <td>0.319149</td>\n",
       "      <td>0.228561</td>\n",
       "    </tr>\n",
       "    <tr>\n",
       "      <th>14</th>\n",
       "      <td>0.361702</td>\n",
       "      <td>0.276163</td>\n",
       "    </tr>\n",
       "    <tr>\n",
       "      <th>15</th>\n",
       "      <td>0.404255</td>\n",
       "      <td>0.356804</td>\n",
       "    </tr>\n",
       "    <tr>\n",
       "      <th>16</th>\n",
       "      <td>0.425532</td>\n",
       "      <td>0.334255</td>\n",
       "    </tr>\n",
       "    <tr>\n",
       "      <th>17</th>\n",
       "      <td>0.446809</td>\n",
       "      <td>0.535755</td>\n",
       "    </tr>\n",
       "    <tr>\n",
       "      <th>18</th>\n",
       "      <td>0.510638</td>\n",
       "      <td>0.515379</td>\n",
       "    </tr>\n",
       "    <tr>\n",
       "      <th>19</th>\n",
       "      <td>0.521277</td>\n",
       "      <td>0.663938</td>\n",
       "    </tr>\n",
       "    <tr>\n",
       "      <th>20</th>\n",
       "      <td>0.606383</td>\n",
       "      <td>0.637928</td>\n",
       "    </tr>\n",
       "    <tr>\n",
       "      <th>21</th>\n",
       "      <td>0.638298</td>\n",
       "      <td>0.715119</td>\n",
       "    </tr>\n",
       "    <tr>\n",
       "      <th>22</th>\n",
       "      <td>0.723404</td>\n",
       "      <td>0.750898</td>\n",
       "    </tr>\n",
       "    <tr>\n",
       "      <th>23</th>\n",
       "      <td>0.755319</td>\n",
       "      <td>0.898665</td>\n",
       "    </tr>\n",
       "    <tr>\n",
       "      <th>24</th>\n",
       "      <td>0.808511</td>\n",
       "      <td>0.846917</td>\n",
       "    </tr>\n",
       "    <tr>\n",
       "      <th>25</th>\n",
       "      <td>0.840426</td>\n",
       "      <td>0.801453</td>\n",
       "    </tr>\n",
       "    <tr>\n",
       "      <th>26</th>\n",
       "      <td>0.893617</td>\n",
       "      <td>0.935956</td>\n",
       "    </tr>\n",
       "    <tr>\n",
       "      <th>27</th>\n",
       "      <td>0.904255</td>\n",
       "      <td>0.884763</td>\n",
       "    </tr>\n",
       "    <tr>\n",
       "      <th>28</th>\n",
       "      <td>0.978723</td>\n",
       "      <td>1.000000</td>\n",
       "    </tr>\n",
       "    <tr>\n",
       "      <th>29</th>\n",
       "      <td>1.000000</td>\n",
       "      <td>0.993870</td>\n",
       "    </tr>\n",
       "  </tbody>\n",
       "</table>\n",
       "</div>"
      ],
      "text/plain": [
       "           0         1\n",
       "0   0.000000  0.019041\n",
       "1   0.021277  0.100094\n",
       "2   0.042553  0.000000\n",
       "3   0.095745  0.068438\n",
       "4   0.117021  0.025514\n",
       "5   0.191489  0.223376\n",
       "6   0.202128  0.264812\n",
       "7   0.223404  0.197425\n",
       "8   0.223404  0.315545\n",
       "9   0.276596  0.229837\n",
       "10  0.297872  0.301051\n",
       "11  0.308511  0.213359\n",
       "12  0.308511  0.227097\n",
       "13  0.319149  0.228561\n",
       "14  0.361702  0.276163\n",
       "15  0.404255  0.356804\n",
       "16  0.425532  0.334255\n",
       "17  0.446809  0.535755\n",
       "18  0.510638  0.515379\n",
       "19  0.521277  0.663938\n",
       "20  0.606383  0.637928\n",
       "21  0.638298  0.715119\n",
       "22  0.723404  0.750898\n",
       "23  0.755319  0.898665\n",
       "24  0.808511  0.846917\n",
       "25  0.840426  0.801453\n",
       "26  0.893617  0.935956\n",
       "27  0.904255  0.884763\n",
       "28  0.978723  1.000000\n",
       "29  1.000000  0.993870"
      ]
     },
     "execution_count": 17,
     "metadata": {},
     "output_type": "execute_result"
    }
   ],
   "source": [
    "df_MM = pd.DataFrame(df_MM)\n",
    "df_MM"
   ]
  },
  {
   "cell_type": "code",
   "execution_count": 19,
   "id": "fce5a39b",
   "metadata": {},
   "outputs": [
    {
     "data": {
      "text/plain": [
       "array([[0.        ],\n",
       "       [0.0212766 ],\n",
       "       [0.04255319],\n",
       "       [0.09574468],\n",
       "       [0.11702128],\n",
       "       [0.19148936],\n",
       "       [0.20212766],\n",
       "       [0.22340426],\n",
       "       [0.22340426],\n",
       "       [0.27659574],\n",
       "       [0.29787234],\n",
       "       [0.30851064],\n",
       "       [0.30851064],\n",
       "       [0.31914894],\n",
       "       [0.36170213],\n",
       "       [0.40425532],\n",
       "       [0.42553191],\n",
       "       [0.44680851],\n",
       "       [0.5106383 ],\n",
       "       [0.5212766 ],\n",
       "       [0.60638298],\n",
       "       [0.63829787],\n",
       "       [0.72340426],\n",
       "       [0.75531915],\n",
       "       [0.80851064],\n",
       "       [0.84042553],\n",
       "       [0.89361702],\n",
       "       [0.90425532],\n",
       "       [0.9787234 ],\n",
       "       [1.        ]])"
      ]
     },
     "execution_count": 19,
     "metadata": {},
     "output_type": "execute_result"
    }
   ],
   "source": [
    "x = df_MM[0]\n",
    "x = np.c_[x]\n",
    "x"
   ]
  },
  {
   "cell_type": "code",
   "execution_count": 20,
   "id": "2bc0d035",
   "metadata": {},
   "outputs": [
    {
     "data": {
      "text/plain": [
       "0     0.019041\n",
       "1     0.100094\n",
       "2     0.000000\n",
       "3     0.068438\n",
       "4     0.025514\n",
       "5     0.223376\n",
       "6     0.264812\n",
       "7     0.197425\n",
       "8     0.315545\n",
       "9     0.229837\n",
       "10    0.301051\n",
       "11    0.213359\n",
       "12    0.227097\n",
       "13    0.228561\n",
       "14    0.276163\n",
       "15    0.356804\n",
       "16    0.334255\n",
       "17    0.535755\n",
       "18    0.515379\n",
       "19    0.663938\n",
       "20    0.637928\n",
       "21    0.715119\n",
       "22    0.750898\n",
       "23    0.898665\n",
       "24    0.846917\n",
       "25    0.801453\n",
       "26    0.935956\n",
       "27    0.884763\n",
       "28    1.000000\n",
       "29    0.993870\n",
       "Name: 1, dtype: float64"
      ]
     },
     "execution_count": 20,
     "metadata": {},
     "output_type": "execute_result"
    }
   ],
   "source": [
    "y = df_MM[1]\n",
    "y"
   ]
  },
  {
   "cell_type": "code",
   "execution_count": 23,
   "id": "3475b093",
   "metadata": {},
   "outputs": [],
   "source": [
    "from sklearn.linear_model import LinearRegression"
   ]
  },
  {
   "cell_type": "code",
   "execution_count": 24,
   "id": "63e4cc75",
   "metadata": {},
   "outputs": [],
   "source": [
    "LR = LinearRegression()"
   ]
  },
  {
   "cell_type": "code",
   "execution_count": 25,
   "id": "577af5e7",
   "metadata": {},
   "outputs": [
    {
     "data": {
      "text/plain": [
       "LinearRegression()"
      ]
     },
     "execution_count": 25,
     "metadata": {},
     "output_type": "execute_result"
    }
   ],
   "source": [
    "LR.fit(x,y)"
   ]
  },
  {
   "cell_type": "code",
   "execution_count": 26,
   "id": "85c13bc6",
   "metadata": {},
   "outputs": [
    {
     "data": {
      "text/plain": [
       "-0.018235781333932388"
      ]
     },
     "execution_count": 26,
     "metadata": {},
     "output_type": "execute_result"
    }
   ],
   "source": [
    "LR.intercept_           "
   ]
  },
  {
   "cell_type": "code",
   "execution_count": 27,
   "id": "97ab260b",
   "metadata": {},
   "outputs": [
    {
     "data": {
      "text/plain": [
       "array([1.04925166])"
      ]
     },
     "execution_count": 27,
     "metadata": {},
     "output_type": "execute_result"
    }
   ],
   "source": [
    "LR.coef_"
   ]
  },
  {
   "cell_type": "code",
   "execution_count": 28,
   "id": "28d4fb2c",
   "metadata": {},
   "outputs": [
    {
     "data": {
      "text/plain": [
       "array([-0.01823578,  0.00408872,  0.02641323,  0.08222448,  0.10454899,\n",
       "        0.18268475,  0.193847  ,  0.21617151,  0.21617151,  0.27198276,\n",
       "        0.29430727,  0.30546952,  0.30546952,  0.31663177,  0.36128078,\n",
       "        0.40592978,  0.42825429,  0.45057879,  0.5175523 ,  0.52871455,\n",
       "        0.61801257,  0.65149932,  0.74079734,  0.77428409,  0.83009535,\n",
       "        0.86358211,  0.91939336,  0.93055562,  1.00869138,  1.03101588])"
      ]
     },
     "execution_count": 28,
     "metadata": {},
     "output_type": "execute_result"
    }
   ],
   "source": [
    "y_pred = LR.predict(x)\n",
    "y_pred"
   ]
  },
  {
   "cell_type": "code",
   "execution_count": 29,
   "id": "132d375d",
   "metadata": {},
   "outputs": [
    {
     "data": {
      "text/plain": [
       "array([[ 1.82357813e-02, -4.08872214e-03, -2.64132256e-02,\n",
       "        -8.22244843e-02, -1.04548988e-01, -1.82684750e-01,\n",
       "        -1.93847002e-01, -2.16171505e-01, -2.16171505e-01,\n",
       "        -2.71982764e-01, -2.94307267e-01, -3.05469519e-01,\n",
       "        -3.05469519e-01, -3.16631771e-01, -3.61280778e-01,\n",
       "        -4.05929785e-01, -4.28254288e-01, -4.50578792e-01,\n",
       "        -5.17552302e-01, -5.28714554e-01, -6.18012568e-01,\n",
       "        -6.51499323e-01, -7.40797337e-01, -7.74284092e-01,\n",
       "        -8.30095351e-01, -8.63582106e-01, -9.19393365e-01,\n",
       "        -9.30555616e-01, -1.00869138e+00, -1.03101588e+00],\n",
       "       [ 3.95123771e-02,  1.71878736e-02, -5.13662987e-03,\n",
       "        -6.09478886e-02, -8.32723920e-02, -1.61408154e-01,\n",
       "        -1.72570406e-01, -1.94894909e-01, -1.94894909e-01,\n",
       "        -2.50706168e-01, -2.73030672e-01, -2.84192923e-01,\n",
       "        -2.84192923e-01, -2.95355175e-01, -3.40004182e-01,\n",
       "        -3.84653189e-01, -4.06977692e-01, -4.29302196e-01,\n",
       "        -4.96275706e-01, -5.07437958e-01, -5.96735972e-01,\n",
       "        -6.30222727e-01, -7.19520741e-01, -7.53007496e-01,\n",
       "        -8.08818755e-01, -8.42305510e-01, -8.98116769e-01,\n",
       "        -9.09279021e-01, -9.87414783e-01, -1.00973929e+00],\n",
       "       [ 6.07889728e-02,  3.84644693e-02,  1.61399659e-02,\n",
       "        -3.96712928e-02, -6.19957963e-02, -1.40131558e-01,\n",
       "        -1.51293810e-01, -1.73618314e-01, -1.73618314e-01,\n",
       "        -2.29429572e-01, -2.51754076e-01, -2.62916328e-01,\n",
       "        -2.62916328e-01, -2.74078579e-01, -3.18727586e-01,\n",
       "        -3.63376593e-01, -3.85701097e-01, -4.08025600e-01,\n",
       "        -4.74999111e-01, -4.86161362e-01, -5.75459376e-01,\n",
       "        -6.08946131e-01, -6.98244145e-01, -7.31730901e-01,\n",
       "        -7.87542159e-01, -8.21028914e-01, -8.76840173e-01,\n",
       "        -8.88002425e-01, -9.66138187e-01, -9.88462691e-01],\n",
       "       [ 1.13980462e-01,  9.16559587e-02,  6.93314552e-02,\n",
       "         1.35201965e-02, -8.80430693e-03, -8.69400691e-02,\n",
       "        -9.81023208e-02, -1.20426824e-01, -1.20426824e-01,\n",
       "        -1.76238083e-01, -1.98562586e-01, -2.09724838e-01,\n",
       "        -2.09724838e-01, -2.20887090e-01, -2.65536097e-01,\n",
       "        -3.10185104e-01, -3.32509607e-01, -3.54834111e-01,\n",
       "        -4.21807621e-01, -4.32969873e-01, -5.22267887e-01,\n",
       "        -5.55754642e-01, -6.45052656e-01, -6.78539411e-01,\n",
       "        -7.34350670e-01, -7.67837425e-01, -8.23648684e-01,\n",
       "        -8.34810936e-01, -9.12946698e-01, -9.35271201e-01],\n",
       "       [ 1.35257058e-01,  1.12932554e-01,  9.06080510e-02,\n",
       "         3.47967923e-02,  1.24722888e-02, -6.56634734e-02,\n",
       "        -7.68257251e-02, -9.91502286e-02, -9.91502286e-02,\n",
       "        -1.54961487e-01, -1.77285991e-01, -1.88448242e-01,\n",
       "        -1.88448242e-01, -1.99610494e-01, -2.44259501e-01,\n",
       "        -2.88908508e-01, -3.11233012e-01, -3.33557515e-01,\n",
       "        -4.00531025e-01, -4.11693277e-01, -5.00991291e-01,\n",
       "        -5.34478046e-01, -6.23776060e-01, -6.57262815e-01,\n",
       "        -7.13074074e-01, -7.46560829e-01, -8.02372088e-01,\n",
       "        -8.13534340e-01, -8.91670102e-01, -9.13994605e-01],\n",
       "       [ 2.09725143e-01,  1.87400640e-01,  1.65076136e-01,\n",
       "         1.09264877e-01,  8.69403739e-02,  8.80461175e-03,\n",
       "        -2.35763999e-03, -2.46821435e-02, -2.46821435e-02,\n",
       "        -8.04934022e-02, -1.02817906e-01, -1.13980157e-01,\n",
       "        -1.13980157e-01, -1.25142409e-01, -1.69791416e-01,\n",
       "        -2.14440423e-01, -2.36764926e-01, -2.59089430e-01,\n",
       "        -3.26062940e-01, -3.37225192e-01, -4.26523206e-01,\n",
       "        -4.60009961e-01, -5.49307975e-01, -5.82794730e-01,\n",
       "        -6.38605989e-01, -6.72092744e-01, -7.27904003e-01,\n",
       "        -7.39066255e-01, -8.17202017e-01, -8.39526520e-01],\n",
       "       [ 2.20363441e-01,  1.98038937e-01,  1.75714434e-01,\n",
       "         1.19903175e-01,  9.75786718e-02,  1.94429096e-02,\n",
       "         8.28065788e-03, -1.40438456e-02, -1.40438456e-02,\n",
       "        -6.98551043e-02, -9.21796078e-02, -1.03341859e-01,\n",
       "        -1.03341859e-01, -1.14504111e-01, -1.59153118e-01,\n",
       "        -2.03802125e-01, -2.26126629e-01, -2.48451132e-01,\n",
       "        -3.15424643e-01, -3.26586894e-01, -4.15884908e-01,\n",
       "        -4.49371663e-01, -5.38669677e-01, -5.72156432e-01,\n",
       "        -6.27967691e-01, -6.61454446e-01, -7.17265705e-01,\n",
       "        -7.28427957e-01, -8.06563719e-01, -8.28888222e-01],\n",
       "       [ 2.41640037e-01,  2.19315533e-01,  1.96991030e-01,\n",
       "         1.41179771e-01,  1.18855268e-01,  4.07195054e-02,\n",
       "         2.95572536e-02,  7.23275015e-03,  7.23275015e-03,\n",
       "        -4.85785085e-02, -7.09030120e-02, -8.20652638e-02,\n",
       "        -8.20652638e-02, -9.32275155e-02, -1.37876522e-01,\n",
       "        -1.82525529e-01, -2.04850033e-01, -2.27174536e-01,\n",
       "        -2.94148047e-01, -3.05310299e-01, -3.94608312e-01,\n",
       "        -4.28095068e-01, -5.17393082e-01, -5.50879837e-01,\n",
       "        -6.06691095e-01, -6.40177851e-01, -6.95989109e-01,\n",
       "        -7.07151361e-01, -7.85287123e-01, -8.07611627e-01],\n",
       "       [ 2.41640037e-01,  2.19315533e-01,  1.96991030e-01,\n",
       "         1.41179771e-01,  1.18855268e-01,  4.07195054e-02,\n",
       "         2.95572536e-02,  7.23275015e-03,  7.23275015e-03,\n",
       "        -4.85785085e-02, -7.09030120e-02, -8.20652638e-02,\n",
       "        -8.20652638e-02, -9.32275155e-02, -1.37876522e-01,\n",
       "        -1.82525529e-01, -2.04850033e-01, -2.27174536e-01,\n",
       "        -2.94148047e-01, -3.05310299e-01, -3.94608312e-01,\n",
       "        -4.28095068e-01, -5.17393082e-01, -5.50879837e-01,\n",
       "        -6.06691095e-01, -6.40177851e-01, -6.95989109e-01,\n",
       "        -7.07151361e-01, -7.85287123e-01, -8.07611627e-01],\n",
       "       [ 2.94831526e-01,  2.72507023e-01,  2.50182519e-01,\n",
       "         1.94371260e-01,  1.72046757e-01,  9.39109947e-02,\n",
       "         8.27487430e-02,  6.04242395e-02,  6.04242395e-02,\n",
       "         4.61298082e-03, -1.77115227e-02, -2.88737744e-02,\n",
       "        -2.88737744e-02, -4.00360261e-02, -8.46850331e-02,\n",
       "        -1.29334040e-01, -1.51658544e-01, -1.73983047e-01,\n",
       "        -2.40956557e-01, -2.52118809e-01, -3.41416823e-01,\n",
       "        -3.74903578e-01, -4.64201592e-01, -4.97688347e-01,\n",
       "        -5.53499606e-01, -5.86986361e-01, -6.42797620e-01,\n",
       "        -6.53959872e-01, -7.32095634e-01, -7.54420137e-01],\n",
       "       [ 3.16108122e-01,  2.93783618e-01,  2.71459115e-01,\n",
       "         2.15647856e-01,  1.93323353e-01,  1.15187590e-01,\n",
       "         1.04025339e-01,  8.17008353e-02,  8.17008353e-02,\n",
       "         2.58895766e-02,  3.56507309e-03, -7.59717864e-03,\n",
       "        -7.59717864e-03, -1.87594304e-02, -6.34084373e-02,\n",
       "        -1.08057444e-01, -1.30381948e-01, -1.52706451e-01,\n",
       "        -2.19679962e-01, -2.30842213e-01, -3.20140227e-01,\n",
       "        -3.53626983e-01, -4.42924996e-01, -4.76411752e-01,\n",
       "        -5.32223010e-01, -5.65709766e-01, -6.21521024e-01,\n",
       "        -6.32683276e-01, -7.10819038e-01, -7.33143542e-01],\n",
       "       [ 3.26746420e-01,  3.04421916e-01,  2.82097413e-01,\n",
       "         2.26286154e-01,  2.03961651e-01,  1.25825888e-01,\n",
       "         1.14663637e-01,  9.23391331e-02,  9.23391331e-02,\n",
       "         3.65278744e-02,  1.42033710e-02,  3.04111923e-03,\n",
       "         3.04111923e-03, -8.12113251e-03, -5.27701395e-02,\n",
       "        -9.74191464e-02, -1.19743650e-01, -1.42068153e-01,\n",
       "        -2.09041664e-01, -2.20203916e-01, -3.09501929e-01,\n",
       "        -3.42988685e-01, -4.32286699e-01, -4.65773454e-01,\n",
       "        -5.21584712e-01, -5.55071468e-01, -6.10882726e-01,\n",
       "        -6.22044978e-01, -7.00180740e-01, -7.22505244e-01],\n",
       "       [ 3.26746420e-01,  3.04421916e-01,  2.82097413e-01,\n",
       "         2.26286154e-01,  2.03961651e-01,  1.25825888e-01,\n",
       "         1.14663637e-01,  9.23391331e-02,  9.23391331e-02,\n",
       "         3.65278744e-02,  1.42033710e-02,  3.04111923e-03,\n",
       "         3.04111923e-03, -8.12113251e-03, -5.27701395e-02,\n",
       "        -9.74191464e-02, -1.19743650e-01, -1.42068153e-01,\n",
       "        -2.09041664e-01, -2.20203916e-01, -3.09501929e-01,\n",
       "        -3.42988685e-01, -4.32286699e-01, -4.65773454e-01,\n",
       "        -5.21584712e-01, -5.55071468e-01, -6.10882726e-01,\n",
       "        -6.22044978e-01, -7.00180740e-01, -7.22505244e-01],\n",
       "       [ 3.37384718e-01,  3.15060214e-01,  2.92735711e-01,\n",
       "         2.36924452e-01,  2.14599948e-01,  1.36464186e-01,\n",
       "         1.25301934e-01,  1.02977431e-01,  1.02977431e-01,\n",
       "         4.71661723e-02,  2.48416688e-02,  1.36794171e-02,\n",
       "         1.36794171e-02,  2.51716536e-03, -4.21318416e-02,\n",
       "        -8.67808485e-02, -1.09105352e-01, -1.31429855e-01,\n",
       "        -1.98403366e-01, -2.09565618e-01, -2.98863632e-01,\n",
       "        -3.32350387e-01, -4.21648401e-01, -4.55135156e-01,\n",
       "        -5.10946415e-01, -5.44433170e-01, -6.00244428e-01,\n",
       "        -6.11406680e-01, -6.89542442e-01, -7.11866946e-01],\n",
       "       [ 3.79937909e-01,  3.57613406e-01,  3.35288902e-01,\n",
       "         2.79477643e-01,  2.57153140e-01,  1.79017378e-01,\n",
       "         1.67855126e-01,  1.45530622e-01,  1.45530622e-01,\n",
       "         8.97193638e-02,  6.73948603e-02,  5.62326086e-02,\n",
       "         5.62326086e-02,  4.50703569e-02,  4.21349899e-04,\n",
       "        -4.42276571e-02, -6.65521605e-02, -8.88766640e-02,\n",
       "        -1.55850174e-01, -1.67012426e-01, -2.56310440e-01,\n",
       "        -2.89797195e-01, -3.79095209e-01, -4.12581964e-01,\n",
       "        -4.68393223e-01, -5.01879978e-01, -5.57691237e-01,\n",
       "        -5.68853489e-01, -6.46989251e-01, -6.69313754e-01],\n",
       "       [ 4.22491100e-01,  4.00166597e-01,  3.77842094e-01,\n",
       "         3.22030835e-01,  2.99706331e-01,  2.21570569e-01,\n",
       "         2.10408317e-01,  1.88083814e-01,  1.88083814e-01,\n",
       "         1.32272555e-01,  1.09948052e-01,  9.87858001e-02,\n",
       "         9.87858001e-02,  8.76235483e-02,  4.29745414e-02,\n",
       "        -1.67446556e-03, -2.39989690e-02, -4.63234725e-02,\n",
       "        -1.13296983e-01, -1.24459235e-01, -2.13757249e-01,\n",
       "        -2.47244004e-01, -3.36542018e-01, -3.70028773e-01,\n",
       "        -4.25840032e-01, -4.59326787e-01, -5.15138046e-01,\n",
       "        -5.26300297e-01, -6.04436059e-01, -6.26760563e-01],\n",
       "       [ 4.43767696e-01,  4.21443193e-01,  3.99118689e-01,\n",
       "         3.43307431e-01,  3.20982927e-01,  2.42847165e-01,\n",
       "         2.31684913e-01,  2.09360410e-01,  2.09360410e-01,\n",
       "         1.53549151e-01,  1.31224648e-01,  1.20062396e-01,\n",
       "         1.20062396e-01,  1.08900144e-01,  6.42511371e-02,\n",
       "         1.96021302e-02, -2.72237330e-03, -2.50468768e-02,\n",
       "        -9.20203872e-02, -1.03182639e-01, -1.92480653e-01,\n",
       "        -2.25967408e-01, -3.15265422e-01, -3.48752177e-01,\n",
       "        -4.04563436e-01, -4.38050191e-01, -4.93861450e-01,\n",
       "        -5.05023702e-01, -5.83159464e-01, -6.05483967e-01],\n",
       "       [ 4.65044292e-01,  4.42719788e-01,  4.20395285e-01,\n",
       "         3.64584026e-01,  3.42259523e-01,  2.64123761e-01,\n",
       "         2.52961509e-01,  2.30637005e-01,  2.30637005e-01,\n",
       "         1.74825747e-01,  1.52501243e-01,  1.41338992e-01,\n",
       "         1.41338992e-01,  1.30176740e-01,  8.55277329e-02,\n",
       "         4.08787259e-02,  1.85542224e-02, -3.77028103e-03,\n",
       "        -7.07437915e-02, -8.19060432e-02, -1.71204057e-01,\n",
       "        -2.04690812e-01, -2.93988826e-01, -3.27475581e-01,\n",
       "        -3.83286840e-01, -4.16773595e-01, -4.72584854e-01,\n",
       "        -4.83747106e-01, -5.61882868e-01, -5.84207371e-01],\n",
       "       [ 5.28874079e-01,  5.06549576e-01,  4.84225072e-01,\n",
       "         4.28413814e-01,  4.06089310e-01,  3.27953548e-01,\n",
       "         3.16791296e-01,  2.94466793e-01,  2.94466793e-01,\n",
       "         2.38655534e-01,  2.16331031e-01,  2.05168779e-01,\n",
       "         2.05168779e-01,  1.94006527e-01,  1.49357520e-01,\n",
       "         1.04708513e-01,  8.23840097e-02,  6.00595062e-02,\n",
       "        -6.91400422e-03, -1.80762560e-02, -1.07374270e-01,\n",
       "        -1.40861025e-01, -2.30159039e-01, -2.63645794e-01,\n",
       "        -3.19457053e-01, -3.52943808e-01, -4.08755067e-01,\n",
       "        -4.19917319e-01, -4.98053081e-01, -5.20377584e-01],\n",
       "       [ 5.39512377e-01,  5.17187874e-01,  4.94863370e-01,\n",
       "         4.39052111e-01,  4.16727608e-01,  3.38591846e-01,\n",
       "         3.27429594e-01,  3.05105091e-01,  3.05105091e-01,\n",
       "         2.49293832e-01,  2.26969328e-01,  2.15807077e-01,\n",
       "         2.15807077e-01,  2.04644825e-01,  1.59995818e-01,\n",
       "         1.15346811e-01,  9.30223076e-02,  7.06978041e-02,\n",
       "         3.72429365e-03, -7.43795809e-03, -9.67359720e-02,\n",
       "        -1.30222727e-01, -2.19520741e-01, -2.53007496e-01,\n",
       "        -3.08818755e-01, -3.42305510e-01, -3.98116769e-01,\n",
       "        -4.09279021e-01, -4.87414783e-01, -5.09739286e-01],\n",
       "       [ 6.24618760e-01,  6.02294257e-01,  5.79969753e-01,\n",
       "         5.24158494e-01,  5.01833991e-01,  4.23698229e-01,\n",
       "         4.12535977e-01,  3.90211474e-01,  3.90211474e-01,\n",
       "         3.34400215e-01,  3.12075711e-01,  3.00913460e-01,\n",
       "         3.00913460e-01,  2.89751208e-01,  2.45102201e-01,\n",
       "         2.00453194e-01,  1.78128691e-01,  1.55804187e-01,\n",
       "         8.88306766e-02,  7.76684249e-02, -1.16295890e-02,\n",
       "        -4.51163442e-02, -1.34414358e-01, -1.67901113e-01,\n",
       "        -2.23712372e-01, -2.57199127e-01, -3.13010386e-01,\n",
       "        -3.24172638e-01, -4.02308400e-01, -4.24632903e-01],\n",
       "       [ 6.56533654e-01,  6.34209150e-01,  6.11884647e-01,\n",
       "         5.56073388e-01,  5.33748885e-01,  4.55613122e-01,\n",
       "         4.44450871e-01,  4.22126367e-01,  4.22126367e-01,\n",
       "         3.66315108e-01,  3.43990605e-01,  3.32828353e-01,\n",
       "         3.32828353e-01,  3.21666102e-01,  2.77017095e-01,\n",
       "         2.32368088e-01,  2.10043584e-01,  1.87719081e-01,\n",
       "         1.20745570e-01,  1.09583319e-01,  2.02853046e-02,\n",
       "        -1.32014506e-02, -1.02499465e-01, -1.35986220e-01,\n",
       "        -1.91797478e-01, -2.25284234e-01, -2.81095492e-01,\n",
       "        -2.92257744e-01, -3.70393506e-01, -3.92718010e-01],\n",
       "       [ 7.41640037e-01,  7.19315533e-01,  6.96991030e-01,\n",
       "         6.41179771e-01,  6.18855268e-01,  5.40719505e-01,\n",
       "         5.29557254e-01,  5.07232750e-01,  5.07232750e-01,\n",
       "         4.51421491e-01,  4.29096988e-01,  4.17934736e-01,\n",
       "         4.17934736e-01,  4.06772485e-01,  3.62123478e-01,\n",
       "         3.17474471e-01,  2.95149967e-01,  2.72825464e-01,\n",
       "         2.05851953e-01,  1.94689701e-01,  1.05391688e-01,\n",
       "         7.19049324e-02, -1.73930815e-02, -5.08798368e-02,\n",
       "        -1.06691095e-01, -1.40177851e-01, -1.95989109e-01,\n",
       "        -2.07151361e-01, -2.85287123e-01, -3.07611627e-01],\n",
       "       [ 7.73554930e-01,  7.51230427e-01,  7.28905923e-01,\n",
       "         6.73094665e-01,  6.50770161e-01,  5.72634399e-01,\n",
       "         5.61472147e-01,  5.39147644e-01,  5.39147644e-01,\n",
       "         4.83336385e-01,  4.61011882e-01,  4.49849630e-01,\n",
       "         4.49849630e-01,  4.38687378e-01,  3.94038371e-01,\n",
       "         3.49389364e-01,  3.27064861e-01,  3.04740357e-01,\n",
       "         2.37766847e-01,  2.26604595e-01,  1.37306581e-01,\n",
       "         1.03819826e-01,  1.45218121e-02, -1.89649431e-02,\n",
       "        -7.47762018e-02, -1.08262957e-01, -1.64074216e-01,\n",
       "        -1.75236467e-01, -2.53372230e-01, -2.75696733e-01],\n",
       "       [ 8.26746420e-01,  8.04421916e-01,  7.82097413e-01,\n",
       "         7.26286154e-01,  7.03961651e-01,  6.25825888e-01,\n",
       "         6.14663637e-01,  5.92339133e-01,  5.92339133e-01,\n",
       "         5.36527874e-01,  5.14203371e-01,  5.03041119e-01,\n",
       "         5.03041119e-01,  4.91878867e-01,  4.47229861e-01,\n",
       "         4.02580854e-01,  3.80256350e-01,  3.57931847e-01,\n",
       "         2.90958336e-01,  2.79796084e-01,  1.90498071e-01,\n",
       "         1.57011315e-01,  6.77133014e-02,  3.42265462e-02,\n",
       "        -2.15847125e-02, -5.50714677e-02, -1.10882726e-01,\n",
       "        -1.22044978e-01, -2.00180740e-01, -2.22505244e-01],\n",
       "       [ 8.58661313e-01,  8.36336810e-01,  8.14012306e-01,\n",
       "         7.58201048e-01,  7.35876544e-01,  6.57740782e-01,\n",
       "         6.46578530e-01,  6.24254027e-01,  6.24254027e-01,\n",
       "         5.68442768e-01,  5.46118265e-01,  5.34956013e-01,\n",
       "         5.34956013e-01,  5.23793761e-01,  4.79144754e-01,\n",
       "         4.34495747e-01,  4.12171244e-01,  3.89846740e-01,\n",
       "         3.22873230e-01,  3.11710978e-01,  2.22412964e-01,\n",
       "         1.88926209e-01,  9.96281951e-02,  6.61414398e-02,\n",
       "         1.03301812e-02, -2.31565741e-02, -7.89678327e-02,\n",
       "        -9.01300845e-02, -1.68265847e-01, -1.90590350e-01],\n",
       "       [ 9.11852803e-01,  8.89528299e-01,  8.67203796e-01,\n",
       "         8.11392537e-01,  7.89068033e-01,  7.10932271e-01,\n",
       "         6.99770020e-01,  6.77445516e-01,  6.77445516e-01,\n",
       "         6.21634257e-01,  5.99309754e-01,  5.88147502e-01,\n",
       "         5.88147502e-01,  5.76985250e-01,  5.32336244e-01,\n",
       "         4.87687237e-01,  4.65362733e-01,  4.43038230e-01,\n",
       "         3.76064719e-01,  3.64902467e-01,  2.75604454e-01,\n",
       "         2.42117698e-01,  1.52819684e-01,  1.19332929e-01,\n",
       "         6.35216705e-02,  3.00349153e-02, -2.57763434e-02,\n",
       "        -3.69385951e-02, -1.15074357e-01, -1.37398861e-01],\n",
       "       [ 9.22491100e-01,  9.00166597e-01,  8.77842094e-01,\n",
       "         8.22030835e-01,  7.99706331e-01,  7.21570569e-01,\n",
       "         7.10408317e-01,  6.88083814e-01,  6.88083814e-01,\n",
       "         6.32272555e-01,  6.09948052e-01,  5.98785800e-01,\n",
       "         5.98785800e-01,  5.87623548e-01,  5.42974541e-01,\n",
       "         4.98325534e-01,  4.76001031e-01,  4.53676527e-01,\n",
       "         3.86703017e-01,  3.75540765e-01,  2.86242751e-01,\n",
       "         2.52755996e-01,  1.63457982e-01,  1.29971227e-01,\n",
       "         7.41599684e-02,  4.06732132e-02, -1.51380455e-02,\n",
       "        -2.63002973e-02, -1.04436059e-01, -1.26760563e-01],\n",
       "       [ 9.96959186e-01,  9.74634682e-01,  9.52310179e-01,\n",
       "         8.96498920e-01,  8.74174416e-01,  7.96038654e-01,\n",
       "         7.84876403e-01,  7.62551899e-01,  7.62551899e-01,\n",
       "         7.06740640e-01,  6.84416137e-01,  6.73253885e-01,\n",
       "         6.73253885e-01,  6.62091633e-01,  6.17442626e-01,\n",
       "         5.72793620e-01,  5.50469116e-01,  5.28144613e-01,\n",
       "         4.61171102e-01,  4.50008850e-01,  3.60710837e-01,\n",
       "         3.27224081e-01,  2.37926067e-01,  2.04439312e-01,\n",
       "         1.48628053e-01,  1.15141298e-01,  5.93300396e-02,\n",
       "         4.81677879e-02, -2.99679743e-02, -5.22924778e-02],\n",
       "       [ 1.01823578e+00,  9.95911278e-01,  9.73586774e-01,\n",
       "         9.17775516e-01,  8.95451012e-01,  8.17315250e-01,\n",
       "         8.06152998e-01,  7.83828495e-01,  7.83828495e-01,\n",
       "         7.28017236e-01,  7.05692733e-01,  6.94530481e-01,\n",
       "         6.94530481e-01,  6.83368229e-01,  6.38719222e-01,\n",
       "         5.94070215e-01,  5.71745712e-01,  5.49421208e-01,\n",
       "         4.82447698e-01,  4.71285446e-01,  3.81987432e-01,\n",
       "         3.48500677e-01,  2.59202663e-01,  2.25715908e-01,\n",
       "         1.69904649e-01,  1.36417894e-01,  8.06066353e-02,\n",
       "         6.94443836e-02, -8.69137857e-03, -3.10158820e-02]])"
      ]
     },
     "execution_count": 29,
     "metadata": {},
     "output_type": "execute_result"
    }
   ],
   "source": [
    "error = x-y_pred\n",
    "error"
   ]
  },
  {
   "cell_type": "code",
   "execution_count": 34,
   "id": "c4ed8278",
   "metadata": {},
   "outputs": [
    {
     "data": {
      "image/png": "[encoded data removed]",
      "text/plain": [
       "<Figure size 640x480 with 1 Axes>"
      ]
     },
     "metadata": {},
     "output_type": "display_data"
    }
   ],
   "source": [
    "import matplotlib.pyplot as plt\n",
    "plt.scatter(x,y)\n",
    "plt.scatter(x,y_pred,color='red')\n",
    "plt.plot(x,y_pred,color='red')\n",
    "plt.show()"
   ]
  },
  {
   "cell_type": "code",
   "execution_count": 32,
   "id": "3b7c422f",
   "metadata": {},
   "outputs": [
    {
     "data": {
      "text/html": [
       "<div>\n",
       "<style scoped>\n",
       "    .dataframe tbody tr th:only-of-type {\n",
       "        vertical-align: middle;\n",
       "    }\n",
       "\n",
       "    .dataframe tbody tr th {\n",
       "        vertical-align: top;\n",
       "    }\n",
       "\n",
       "    .dataframe thead th {\n",
       "        text-align: right;\n",
       "    }\n",
       "</style>\n",
       "<table border=\"1\" class=\"dataframe\">\n",
       "  <thead>\n",
       "    <tr style=\"text-align: right;\">\n",
       "      <th></th>\n",
       "      <th>YearsExperience</th>\n",
       "      <th>Salary</th>\n",
       "    </tr>\n",
       "  </thead>\n",
       "  <tbody>\n",
       "    <tr>\n",
       "      <th>YearsExperience</th>\n",
       "      <td>1.000000</td>\n",
       "      <td>0.978242</td>\n",
       "    </tr>\n",
       "    <tr>\n",
       "      <th>Salary</th>\n",
       "      <td>0.978242</td>\n",
       "      <td>1.000000</td>\n",
       "    </tr>\n",
       "  </tbody>\n",
       "</table>\n",
       "</div>"
      ],
      "text/plain": [
       "                 YearsExperience    Salary\n",
       "YearsExperience         1.000000  0.978242\n",
       "Salary                  0.978242  1.000000"
      ]
     },
     "execution_count": 32,
     "metadata": {},
     "output_type": "execute_result"
    }
   ],
   "source": [
    "df.corr()"
   ]
  },
  {
   "cell_type": "code",
   "execution_count": 33,
   "id": "43d87a0d",
   "metadata": {},
   "outputs": [
    {
     "name": "stdout",
     "output_type": "stream",
     "text": [
      "mean squared error: 0.004\n",
      "Root mean squared error: 0.07\n"
     ]
    }
   ],
   "source": [
    "from sklearn.metrics import mean_squared_error\n",
    "mse=mean_squared_error(y,y_pred)\n",
    "print(\"mean squared error:\",mse.round(3))\n",
    "print(\"Root mean squared error:\",np.sqrt(mse).round(2))"
   ]
  },
  {
   "cell_type": "code",
   "execution_count": 21,
   "id": "7eed49c9",
   "metadata": {},
   "outputs": [
    {
     "data": {
      "text/html": [
       "<table class=\"simpletable\">\n",
       "<caption>OLS Regression Results</caption>\n",
       "<tr>\n",
       "  <th>Dep. Variable:</th>         <td>Salary</td>      <th>  R-squared:         </th> <td>   0.957</td>\n",
       "</tr>\n",
       "<tr>\n",
       "  <th>Model:</th>                   <td>OLS</td>       <th>  Adj. R-squared:    </th> <td>   0.955</td>\n",
       "</tr>\n",
       "<tr>\n",
       "  <th>Method:</th>             <td>Least Squares</td>  <th>  F-statistic:       </th> <td>   622.5</td>\n",
       "</tr>\n",
       "<tr>\n",
       "  <th>Date:</th>             <td>Wed, 12 Apr 2023</td> <th>  Prob (F-statistic):</th> <td>1.14e-20</td>\n",
       "</tr>\n",
       "<tr>\n",
       "  <th>Time:</th>                 <td>17:29:06</td>     <th>  Log-Likelihood:    </th> <td> -301.44</td>\n",
       "</tr>\n",
       "<tr>\n",
       "  <th>No. Observations:</th>      <td>    30</td>      <th>  AIC:               </th> <td>   606.9</td>\n",
       "</tr>\n",
       "<tr>\n",
       "  <th>Df Residuals:</th>          <td>    28</td>      <th>  BIC:               </th> <td>   609.7</td>\n",
       "</tr>\n",
       "<tr>\n",
       "  <th>Df Model:</th>              <td>     1</td>      <th>                     </th>     <td> </td>   \n",
       "</tr>\n",
       "<tr>\n",
       "  <th>Covariance Type:</th>      <td>nonrobust</td>    <th>                     </th>     <td> </td>   \n",
       "</tr>\n",
       "</table>\n",
       "<table class=\"simpletable\">\n",
       "<tr>\n",
       "         <td></td>            <th>coef</th>     <th>std err</th>      <th>t</th>      <th>P>|t|</th>  <th>[0.025</th>    <th>0.975]</th>  \n",
       "</tr>\n",
       "<tr>\n",
       "  <th>Intercept</th>       <td> 2.579e+04</td> <td> 2273.053</td> <td>   11.347</td> <td> 0.000</td> <td> 2.11e+04</td> <td> 3.04e+04</td>\n",
       "</tr>\n",
       "<tr>\n",
       "  <th>YearsExperience</th> <td> 9449.9623</td> <td>  378.755</td> <td>   24.950</td> <td> 0.000</td> <td> 8674.119</td> <td> 1.02e+04</td>\n",
       "</tr>\n",
       "</table>\n",
       "<table class=\"simpletable\">\n",
       "<tr>\n",
       "  <th>Omnibus:</th>       <td> 2.140</td> <th>  Durbin-Watson:     </th> <td>   1.648</td>\n",
       "</tr>\n",
       "<tr>\n",
       "  <th>Prob(Omnibus):</th> <td> 0.343</td> <th>  Jarque-Bera (JB):  </th> <td>   1.569</td>\n",
       "</tr>\n",
       "<tr>\n",
       "  <th>Skew:</th>          <td> 0.363</td> <th>  Prob(JB):          </th> <td>   0.456</td>\n",
       "</tr>\n",
       "<tr>\n",
       "  <th>Kurtosis:</th>      <td> 2.147</td> <th>  Cond. No.          </th> <td>    13.2</td>\n",
       "</tr>\n",
       "</table><br/><br/>Notes:<br/>[1] Standard Errors assume that the covariance matrix of the errors is correctly specified."
      ],
      "text/plain": [
       "<class 'statsmodels.iolib.summary.Summary'>\n",
       "\"\"\"\n",
       "                            OLS Regression Results                            \n",
       "==============================================================================\n",
       "Dep. Variable:                 Salary   R-squared:                       0.957\n",
       "Model:                            OLS   Adj. R-squared:                  0.955\n",
       "Method:                 Least Squares   F-statistic:                     622.5\n",
       "Date:                Wed, 12 Apr 2023   Prob (F-statistic):           1.14e-20\n",
       "Time:                        17:29:06   Log-Likelihood:                -301.44\n",
       "No. Observations:                  30   AIC:                             606.9\n",
       "Df Residuals:                      28   BIC:                             609.7\n",
       "Df Model:                           1                                         \n",
       "Covariance Type:            nonrobust                                         \n",
       "===================================================================================\n",
       "                      coef    std err          t      P>|t|      [0.025      0.975]\n",
       "-----------------------------------------------------------------------------------\n",
       "Intercept        2.579e+04   2273.053     11.347      0.000    2.11e+04    3.04e+04\n",
       "YearsExperience  9449.9623    378.755     24.950      0.000    8674.119    1.02e+04\n",
       "==============================================================================\n",
       "Omnibus:                        2.140   Durbin-Watson:                   1.648\n",
       "Prob(Omnibus):                  0.343   Jarque-Bera (JB):                1.569\n",
       "Skew:                           0.363   Prob(JB):                        0.456\n",
       "Kurtosis:                       2.147   Cond. No.                         13.2\n",
       "==============================================================================\n",
       "\n",
       "Notes:\n",
       "[1] Standard Errors assume that the covariance matrix of the errors is correctly specified.\n",
       "\"\"\""
      ]
     },
     "execution_count": 21,
     "metadata": {},
     "output_type": "execute_result"
    }
   ],
   "source": [
    "# using statsmodel package\n",
    "import statsmodels.formula.api as sm\n",
    "model = sm.ols('Salary~YearsExperience', data = df).fit()\n",
    "model.summary()"
   ]
  },
  {
   "cell_type": "code",
   "execution_count": 14,
   "id": "c8660414",
   "metadata": {},
   "outputs": [
    {
     "data": {
      "text/plain": [
       "(0.9569566641435086, 0.9554194021486339)"
      ]
     },
     "execution_count": 14,
     "metadata": {},
     "output_type": "execute_result"
    }
   ],
   "source": [
    "model.rsquared,model.rsquared_adj"
   ]
  },
  {
   "cell_type": "markdown",
   "id": "23fed18e",
   "metadata": {},
   "source": [
    "rsquared > 85%\n",
    "model is good fit"
   ]
  },
  {
   "cell_type": "code",
   "execution_count": null,
   "id": "becbdf1a",
   "metadata": {},
   "outputs": [],
   "source": []
  }
 ],
 "metadata": {
  "kernelspec": {
   "display_name": "Python 3 (ipykernel)",
   "language": "python",
   "name": "python3"
  },
  "language_info": {
   "codemirror_mode": {
    "name": "ipython",
    "version": 3
   },
   "file_extension": ".py",
   "mimetype": "text/x-python",
   "name": "python",
   "nbconvert_exporter": "python",
   "pygments_lexer": "ipython3",
   "version": "3.9.13"
  }
 },
 "nbformat": 4,
 "nbformat_minor": 5
}
